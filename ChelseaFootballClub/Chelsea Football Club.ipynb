{
 "cells": [
  {
   "cell_type": "markdown",
   "metadata": {
    "application/vnd.databricks.v1+cell": {
     "cellMetadata": {},
     "inputWidgets": {},
     "nuid": "96816ed7-b08a-4ca3-abb9-f99880c3535d",
     "showTitle": false,
     "title": ""
    }
   },
   "source": [
    "\n",
    "## Overview\n",
    "\n",
    "This notebook will show you how to create and query a table or DataFrame that you uploaded to DBFS. [DBFS](https://docs.databricks.com/user-guide/dbfs-databricks-file-system.html) is a Databricks File System that allows you to store data for querying inside of Databricks. This notebook assumes that you have a file already inside of DBFS that you would like to read from.\n",
    "\n",
    "This notebook is written in **Python** so the default cell type is Python. However, you can use different languages by using the `%LANGUAGE` syntax. Python, Scala, SQL, and R are all supported."
   ]
  },
  {
   "cell_type": "code",
   "execution_count": 0,
   "metadata": {
    "application/vnd.databricks.v1+cell": {
     "cellMetadata": {
      "byteLimit": 2048000,
      "rowLimit": 10000
     },
     "inputWidgets": {},
     "nuid": "6482be4c-f067-47c9-b0ac-35c938b94601",
     "showTitle": false,
     "title": ""
    }
   },
   "outputs": [
    {
     "output_type": "display_data",
     "data": {
      "text/html": [
       "<style scoped>\n",
       "  .table-result-container {\n",
       "    max-height: 300px;\n",
       "    overflow: auto;\n",
       "  }\n",
       "  table, th, td {\n",
       "    border: 1px solid black;\n",
       "    border-collapse: collapse;\n",
       "  }\n",
       "  th, td {\n",
       "    padding: 5px;\n",
       "  }\n",
       "  th {\n",
       "    text-align: left;\n",
       "  }\n",
       "</style><div class='table-result-container'><table class='table-result'><thead style='background-color: white'><tr><th>_c0</th><th>_c1</th><th>_c2</th><th>_c3</th><th>_c4</th><th>_c5</th><th>_c6</th><th>_c7</th></tr></thead><tbody><tr><td>PlayerID</td><td>Name</td><td>Position</td><td>Nationality</td><td>Age</td><td>Appearances</td><td>Goals</td><td>Assists</td></tr><tr><td>1</td><td>Kepa Arrizabalaga</td><td>Goalkeeper</td><td>Spain</td><td>29</td><td>20</td><td>0</td><td>0</td></tr><tr><td>2</td><td>Thiago Silva</td><td>Defender</td><td>Brazil</td><td>39</td><td>28</td><td>2</td><td>1</td></tr><tr><td>3</td><td>Reece James</td><td>Defender</td><td>England</td><td>24</td><td>25</td><td>3</td><td>5</td></tr><tr><td>4</td><td>Ben Chilwell</td><td>Defender</td><td>England</td><td>27</td><td>22</td><td>2</td><td>3</td></tr><tr><td>5</td><td>Enzo Fernández</td><td>Midfielder</td><td>Argentina</td><td>23</td><td>30</td><td>5</td><td>7</td></tr><tr><td>6</td><td>Raheem Sterling</td><td>Forward</td><td>England</td><td>29</td><td>26</td><td>10</td><td>4</td></tr><tr><td>7</td><td>Nicholas Jackson</td><td>Forward</td><td>Senegal</td><td>22</td><td>24</td><td>8</td><td>6</td></tr></tbody></table></div>"
      ]
     },
     "metadata": {
      "application/vnd.databricks.v1+output": {
       "addedWidgets": {},
       "aggData": [],
       "aggError": "",
       "aggOverflow": false,
       "aggSchema": [],
       "aggSeriesLimitReached": false,
       "aggType": "",
       "arguments": {},
       "columnCustomDisplayInfos": {},
       "data": [
        [
         "PlayerID",
         "Name",
         "Position",
         "Nationality",
         "Age",
         "Appearances",
         "Goals",
         "Assists"
        ],
        [
         "1",
         "Kepa Arrizabalaga",
         "Goalkeeper",
         "Spain",
         "29",
         "20",
         "0",
         "0"
        ],
        [
         "2",
         "Thiago Silva",
         "Defender",
         "Brazil",
         "39",
         "28",
         "2",
         "1"
        ],
        [
         "3",
         "Reece James",
         "Defender",
         "England",
         "24",
         "25",
         "3",
         "5"
        ],
        [
         "4",
         "Ben Chilwell",
         "Defender",
         "England",
         "27",
         "22",
         "2",
         "3"
        ],
        [
         "5",
         "Enzo Fernández",
         "Midfielder",
         "Argentina",
         "23",
         "30",
         "5",
         "7"
        ],
        [
         "6",
         "Raheem Sterling",
         "Forward",
         "England",
         "29",
         "26",
         "10",
         "4"
        ],
        [
         "7",
         "Nicholas Jackson",
         "Forward",
         "Senegal",
         "22",
         "24",
         "8",
         "6"
        ]
       ],
       "datasetInfos": [],
       "dbfsResultPath": null,
       "isJsonSchema": true,
       "metadata": {},
       "overflow": false,
       "plotOptions": {
        "customPlotOptions": {},
        "displayType": "table",
        "pivotAggregation": null,
        "pivotColumns": null,
        "xColumns": null,
        "yColumns": null
       },
       "removedWidgets": [],
       "schema": [
        {
         "metadata": "{}",
         "name": "_c0",
         "type": "\"string\""
        },
        {
         "metadata": "{}",
         "name": "_c1",
         "type": "\"string\""
        },
        {
         "metadata": "{}",
         "name": "_c2",
         "type": "\"string\""
        },
        {
         "metadata": "{}",
         "name": "_c3",
         "type": "\"string\""
        },
        {
         "metadata": "{}",
         "name": "_c4",
         "type": "\"string\""
        },
        {
         "metadata": "{}",
         "name": "_c5",
         "type": "\"string\""
        },
        {
         "metadata": "{}",
         "name": "_c6",
         "type": "\"string\""
        },
        {
         "metadata": "{}",
         "name": "_c7",
         "type": "\"string\""
        }
       ],
       "type": "table"
      }
     },
     "output_type": "display_data"
    }
   ],
   "source": [
    "# File location and type\n",
    "file_location = \"/FileStore/tables/players/players_csv-1.txt\"\n",
    "file_type = \"csv\"\n",
    "\n",
    "# CSV options\n",
    "infer_schema = \"false\"\n",
    "first_row_is_header = \"false\"\n",
    "delimiter = \",\"\n",
    "\n",
    "# The applied options are for CSV files. For other file types, these will be ignored.\n",
    "df = spark.read.format(file_type) \\\n",
    "  .option(\"inferSchema\", infer_schema) \\\n",
    "  .option(\"header\", first_row_is_header) \\\n",
    "  .option(\"sep\", delimiter) \\\n",
    "  .load(file_location)\n",
    "\n",
    "display(df)"
   ]
  },
  {
   "cell_type": "code",
   "execution_count": 0,
   "metadata": {
    "application/vnd.databricks.v1+cell": {
     "cellMetadata": {
      "byteLimit": 2048000,
      "rowLimit": 10000
     },
     "inputWidgets": {},
     "nuid": "a6035ba6-2842-40fa-addf-77e3eaa97c69",
     "showTitle": false,
     "title": ""
    }
   },
   "outputs": [
    {
     "output_type": "display_data",
     "data": {
      "text/html": [
       "<style scoped>\n",
       "  .table-result-container {\n",
       "    max-height: 300px;\n",
       "    overflow: auto;\n",
       "  }\n",
       "  table, th, td {\n",
       "    border: 1px solid black;\n",
       "    border-collapse: collapse;\n",
       "  }\n",
       "  th, td {\n",
       "    padding: 5px;\n",
       "  }\n",
       "  th {\n",
       "    text-align: left;\n",
       "  }\n",
       "</style><div class='table-result-container'><table class='table-result'><thead style='background-color: white'><tr><th>PlayerID</th><th>Name</th><th>Position</th><th>Nationality</th><th>Age</th><th>Appearances</th><th>Goals</th><th>Assists</th></tr></thead><tbody><tr><td>1</td><td>Kepa Arrizabalaga</td><td>Goalkeeper</td><td>Spain</td><td>29</td><td>20</td><td>0</td><td>0</td></tr><tr><td>2</td><td>Thiago Silva</td><td>Defender</td><td>Brazil</td><td>39</td><td>28</td><td>2</td><td>1</td></tr><tr><td>3</td><td>Reece James</td><td>Defender</td><td>England</td><td>24</td><td>25</td><td>3</td><td>5</td></tr><tr><td>4</td><td>Ben Chilwell</td><td>Defender</td><td>England</td><td>27</td><td>22</td><td>2</td><td>3</td></tr><tr><td>5</td><td>Enzo Fernández</td><td>Midfielder</td><td>Argentina</td><td>23</td><td>30</td><td>5</td><td>7</td></tr><tr><td>6</td><td>Raheem Sterling</td><td>Forward</td><td>England</td><td>29</td><td>26</td><td>10</td><td>4</td></tr><tr><td>7</td><td>Nicholas Jackson</td><td>Forward</td><td>Senegal</td><td>22</td><td>24</td><td>8</td><td>6</td></tr></tbody></table></div>"
      ]
     },
     "metadata": {
      "application/vnd.databricks.v1+output": {
       "addedWidgets": {},
       "aggData": [],
       "aggError": "",
       "aggOverflow": false,
       "aggSchema": [],
       "aggSeriesLimitReached": false,
       "aggType": "",
       "arguments": {},
       "columnCustomDisplayInfos": {},
       "data": [
        [
         1,
         "Kepa Arrizabalaga",
         "Goalkeeper",
         "Spain",
         29,
         20,
         0,
         0
        ],
        [
         2,
         "Thiago Silva",
         "Defender",
         "Brazil",
         39,
         28,
         2,
         1
        ],
        [
         3,
         "Reece James",
         "Defender",
         "England",
         24,
         25,
         3,
         5
        ],
        [
         4,
         "Ben Chilwell",
         "Defender",
         "England",
         27,
         22,
         2,
         3
        ],
        [
         5,
         "Enzo Fernández",
         "Midfielder",
         "Argentina",
         23,
         30,
         5,
         7
        ],
        [
         6,
         "Raheem Sterling",
         "Forward",
         "England",
         29,
         26,
         10,
         4
        ],
        [
         7,
         "Nicholas Jackson",
         "Forward",
         "Senegal",
         22,
         24,
         8,
         6
        ]
       ],
       "datasetInfos": [],
       "dbfsResultPath": null,
       "isJsonSchema": true,
       "metadata": {},
       "overflow": false,
       "plotOptions": {
        "customPlotOptions": {},
        "displayType": "table",
        "pivotAggregation": null,
        "pivotColumns": null,
        "xColumns": null,
        "yColumns": null
       },
       "removedWidgets": [],
       "schema": [
        {
         "metadata": "{}",
         "name": "PlayerID",
         "type": "\"integer\""
        },
        {
         "metadata": "{}",
         "name": "Name",
         "type": "\"string\""
        },
        {
         "metadata": "{}",
         "name": "Position",
         "type": "\"string\""
        },
        {
         "metadata": "{}",
         "name": "Nationality",
         "type": "\"string\""
        },
        {
         "metadata": "{}",
         "name": "Age",
         "type": "\"integer\""
        },
        {
         "metadata": "{}",
         "name": "Appearances",
         "type": "\"integer\""
        },
        {
         "metadata": "{}",
         "name": "Goals",
         "type": "\"integer\""
        },
        {
         "metadata": "{}",
         "name": "Assists",
         "type": "\"integer\""
        }
       ],
       "type": "table"
      }
     },
     "output_type": "display_data"
    }
   ],
   "source": [
    "# File location and type\n",
    "file_location = \"/FileStore/tables/players/players_csv-1.txt\"\n",
    "file_type = \"csv\"\n",
    "\n",
    "# CSV options\n",
    "infer_schema = \"true\"  # Set to true to automatically detect data types\n",
    "first_row_is_header = \"true\"  # Set to true if the first row is a header\n",
    "delimiter = \",\"  # Comma as the delimiter\n",
    "\n",
    "# The applied options are for CSV files. For other file types, these will be ignored.\n",
    "df = spark.read.format(file_type) \\\n",
    "  .option(\"inferSchema\", infer_schema) \\\n",
    "  .option(\"header\", first_row_is_header) \\\n",
    "  .option(\"sep\", delimiter) \\\n",
    "  .load(file_location)\n",
    "\n",
    "display(df)"
   ]
  },
  {
   "cell_type": "code",
   "execution_count": 0,
   "metadata": {
    "application/vnd.databricks.v1+cell": {
     "cellMetadata": {
      "byteLimit": 2048000,
      "rowLimit": 10000
     },
     "inputWidgets": {},
     "nuid": "1b9da2c8-c12d-40e8-aee4-d4c7c2252b0f",
     "showTitle": false,
     "title": ""
    }
   },
   "outputs": [
    {
     "output_type": "display_data",
     "data": {
      "text/html": [
       "<style scoped>\n",
       "  .table-result-container {\n",
       "    max-height: 300px;\n",
       "    overflow: auto;\n",
       "  }\n",
       "  table, th, td {\n",
       "    border: 1px solid black;\n",
       "    border-collapse: collapse;\n",
       "  }\n",
       "  th, td {\n",
       "    padding: 5px;\n",
       "  }\n",
       "  th {\n",
       "    text-align: left;\n",
       "  }\n",
       "</style><div class='table-result-container'><table class='table-result'><thead style='background-color: white'><tr><th>PlayerID</th><th>Name</th><th>Position</th><th>Nationality</th><th>Age</th><th>Appearances</th><th>Goals</th><th>Assists</th></tr></thead><tbody><tr><td>1</td><td>Kepa Arrizabalaga</td><td>Goalkeeper</td><td>Spain</td><td>29</td><td>20</td><td>0</td><td>0</td></tr><tr><td>2</td><td>Thiago Silva</td><td>Defender</td><td>Brazil</td><td>39</td><td>28</td><td>2</td><td>1</td></tr><tr><td>3</td><td>Reece James</td><td>Defender</td><td>England</td><td>24</td><td>25</td><td>3</td><td>5</td></tr><tr><td>4</td><td>Ben Chilwell</td><td>Defender</td><td>England</td><td>27</td><td>22</td><td>2</td><td>3</td></tr><tr><td>5</td><td>Enzo Fernández</td><td>Midfielder</td><td>Argentina</td><td>23</td><td>30</td><td>5</td><td>7</td></tr><tr><td>6</td><td>Raheem Sterling</td><td>Forward</td><td>England</td><td>29</td><td>26</td><td>10</td><td>4</td></tr><tr><td>7</td><td>Nicholas Jackson</td><td>Forward</td><td>Senegal</td><td>22</td><td>24</td><td>8</td><td>6</td></tr></tbody></table></div>"
      ]
     },
     "metadata": {
      "application/vnd.databricks.v1+output": {
       "addedWidgets": {},
       "aggData": [],
       "aggError": "",
       "aggOverflow": false,
       "aggSchema": [],
       "aggSeriesLimitReached": false,
       "aggType": "",
       "arguments": {},
       "columnCustomDisplayInfos": {},
       "data": [
        [
         1,
         "Kepa Arrizabalaga",
         "Goalkeeper",
         "Spain",
         29,
         20,
         0,
         0
        ],
        [
         2,
         "Thiago Silva",
         "Defender",
         "Brazil",
         39,
         28,
         2,
         1
        ],
        [
         3,
         "Reece James",
         "Defender",
         "England",
         24,
         25,
         3,
         5
        ],
        [
         4,
         "Ben Chilwell",
         "Defender",
         "England",
         27,
         22,
         2,
         3
        ],
        [
         5,
         "Enzo Fernández",
         "Midfielder",
         "Argentina",
         23,
         30,
         5,
         7
        ],
        [
         6,
         "Raheem Sterling",
         "Forward",
         "England",
         29,
         26,
         10,
         4
        ],
        [
         7,
         "Nicholas Jackson",
         "Forward",
         "Senegal",
         22,
         24,
         8,
         6
        ]
       ],
       "datasetInfos": [],
       "dbfsResultPath": null,
       "isJsonSchema": true,
       "metadata": {},
       "overflow": false,
       "plotOptions": {
        "customPlotOptions": {},
        "displayType": "table",
        "pivotAggregation": null,
        "pivotColumns": null,
        "xColumns": null,
        "yColumns": null
       },
       "removedWidgets": [],
       "schema": [
        {
         "metadata": "{}",
         "name": "PlayerID",
         "type": "\"integer\""
        },
        {
         "metadata": "{}",
         "name": "Name",
         "type": "\"string\""
        },
        {
         "metadata": "{}",
         "name": "Position",
         "type": "\"string\""
        },
        {
         "metadata": "{}",
         "name": "Nationality",
         "type": "\"string\""
        },
        {
         "metadata": "{}",
         "name": "Age",
         "type": "\"integer\""
        },
        {
         "metadata": "{}",
         "name": "Appearances",
         "type": "\"integer\""
        },
        {
         "metadata": "{}",
         "name": "Goals",
         "type": "\"integer\""
        },
        {
         "metadata": "{}",
         "name": "Assists",
         "type": "\"integer\""
        }
       ],
       "type": "table"
      }
     },
     "output_type": "display_data"
    }
   ],
   "source": [
    "# Assuming df is already created and loaded with your CSV data\n",
    "\n",
    "# Name of the temporary view\n",
    "temp_players = \"players_csv_1_txt\"\n",
    "\n",
    "# Create a temporary view\n",
    "df.createOrReplaceTempView(temp_players)\n",
    "\n",
    "# You can now run SQL queries on this temporary view\n",
    "query = \"\"\"\n",
    "SELECT * \n",
    "FROM players_csv_1_txt\n",
    "\"\"\"\n",
    "\n",
    "# Execute the SQL query and display the results\n",
    "result_df = spark.sql(query)\n",
    "display(result_df)"
   ]
  },
  {
   "cell_type": "code",
   "execution_count": 0,
   "metadata": {
    "application/vnd.databricks.v1+cell": {
     "cellMetadata": {
      "byteLimit": 2048000,
      "implicitDf": true,
      "rowLimit": 10000
     },
     "inputWidgets": {},
     "nuid": "39f4ec02-0467-41ee-b8e8-46e77ffbb3e3",
     "showTitle": false,
     "title": ""
    }
   },
   "outputs": [
    {
     "output_type": "display_data",
     "data": {
      "text/html": [
       "<style scoped>\n",
       "  .table-result-container {\n",
       "    max-height: 300px;\n",
       "    overflow: auto;\n",
       "  }\n",
       "  table, th, td {\n",
       "    border: 1px solid black;\n",
       "    border-collapse: collapse;\n",
       "  }\n",
       "  th, td {\n",
       "    padding: 5px;\n",
       "  }\n",
       "  th {\n",
       "    text-align: left;\n",
       "  }\n",
       "</style><div class='table-result-container'><table class='table-result'><thead style='background-color: white'><tr><th>PlayerID</th><th>Name</th><th>Position</th><th>Nationality</th><th>Age</th><th>Appearances</th><th>Goals</th><th>Assists</th></tr></thead><tbody><tr><td>1</td><td>Kepa Arrizabalaga</td><td>Goalkeeper</td><td>Spain</td><td>29</td><td>20</td><td>0</td><td>0</td></tr><tr><td>2</td><td>Thiago Silva</td><td>Defender</td><td>Brazil</td><td>39</td><td>28</td><td>2</td><td>1</td></tr><tr><td>3</td><td>Reece James</td><td>Defender</td><td>England</td><td>24</td><td>25</td><td>3</td><td>5</td></tr><tr><td>4</td><td>Ben Chilwell</td><td>Defender</td><td>England</td><td>27</td><td>22</td><td>2</td><td>3</td></tr><tr><td>5</td><td>Enzo Fernández</td><td>Midfielder</td><td>Argentina</td><td>23</td><td>30</td><td>5</td><td>7</td></tr><tr><td>6</td><td>Raheem Sterling</td><td>Forward</td><td>England</td><td>29</td><td>26</td><td>10</td><td>4</td></tr><tr><td>7</td><td>Nicholas Jackson</td><td>Forward</td><td>Senegal</td><td>22</td><td>24</td><td>8</td><td>6</td></tr></tbody></table></div>"
      ]
     },
     "metadata": {
      "application/vnd.databricks.v1+output": {
       "addedWidgets": {},
       "aggData": [],
       "aggError": "",
       "aggOverflow": false,
       "aggSchema": [],
       "aggSeriesLimitReached": false,
       "aggType": "",
       "arguments": {},
       "columnCustomDisplayInfos": {},
       "data": [
        [
         1,
         "Kepa Arrizabalaga",
         "Goalkeeper",
         "Spain",
         29,
         20,
         0,
         0
        ],
        [
         2,
         "Thiago Silva",
         "Defender",
         "Brazil",
         39,
         28,
         2,
         1
        ],
        [
         3,
         "Reece James",
         "Defender",
         "England",
         24,
         25,
         3,
         5
        ],
        [
         4,
         "Ben Chilwell",
         "Defender",
         "England",
         27,
         22,
         2,
         3
        ],
        [
         5,
         "Enzo Fernández",
         "Midfielder",
         "Argentina",
         23,
         30,
         5,
         7
        ],
        [
         6,
         "Raheem Sterling",
         "Forward",
         "England",
         29,
         26,
         10,
         4
        ],
        [
         7,
         "Nicholas Jackson",
         "Forward",
         "Senegal",
         22,
         24,
         8,
         6
        ]
       ],
       "datasetInfos": [],
       "dbfsResultPath": null,
       "isJsonSchema": true,
       "metadata": {},
       "overflow": false,
       "plotOptions": {
        "customPlotOptions": {},
        "displayType": "table",
        "pivotAggregation": null,
        "pivotColumns": null,
        "xColumns": null,
        "yColumns": null
       },
       "removedWidgets": [],
       "schema": [
        {
         "metadata": "{}",
         "name": "PlayerID",
         "type": "\"integer\""
        },
        {
         "metadata": "{}",
         "name": "Name",
         "type": "\"string\""
        },
        {
         "metadata": "{}",
         "name": "Position",
         "type": "\"string\""
        },
        {
         "metadata": "{}",
         "name": "Nationality",
         "type": "\"string\""
        },
        {
         "metadata": "{}",
         "name": "Age",
         "type": "\"integer\""
        },
        {
         "metadata": "{}",
         "name": "Appearances",
         "type": "\"integer\""
        },
        {
         "metadata": "{}",
         "name": "Goals",
         "type": "\"integer\""
        },
        {
         "metadata": "{}",
         "name": "Assists",
         "type": "\"integer\""
        }
       ],
       "type": "table"
      }
     },
     "output_type": "display_data"
    }
   ],
   "source": [
    "%sql\n",
    "\n",
    "/* Query the created temp view in a SQL cell */\n",
    "SELECT * FROM players_csv_1_txt;"
   ]
  },
  {
   "cell_type": "code",
   "execution_count": 0,
   "metadata": {
    "application/vnd.databricks.v1+cell": {
     "cellMetadata": {
      "byteLimit": 2048000,
      "rowLimit": 10000
     },
     "inputWidgets": {},
     "nuid": "e6bfbf81-763a-45aa-aab2-0ec51d5fe311",
     "showTitle": false,
     "title": ""
    }
   },
   "outputs": [],
   "source": [
    "# Name of the permanent table\n",
    "permanent_players = \"players_csv\"\n",
    "\n",
    "# Save the DataFrame as a Parquet table\n",
    "df.write.format(\"parquet\").saveAsTable(permanent_players)"
   ]
  },
  {
   "cell_type": "code",
   "execution_count": 0,
   "metadata": {
    "application/vnd.databricks.v1+cell": {
     "cellMetadata": {
      "byteLimit": 2048000,
      "implicitDf": true,
      "rowLimit": 10000
     },
     "inputWidgets": {},
     "nuid": "5db9101f-3a15-4e7f-bf08-6ec9f1a1f5b6",
     "showTitle": false,
     "title": ""
    }
   },
   "outputs": [
    {
     "output_type": "display_data",
     "data": {
      "text/html": [
       "<style scoped>\n",
       "  .table-result-container {\n",
       "    max-height: 300px;\n",
       "    overflow: auto;\n",
       "  }\n",
       "  table, th, td {\n",
       "    border: 1px solid black;\n",
       "    border-collapse: collapse;\n",
       "  }\n",
       "  th, td {\n",
       "    padding: 5px;\n",
       "  }\n",
       "  th {\n",
       "    text-align: left;\n",
       "  }\n",
       "</style><div class='table-result-container'><table class='table-result'><thead style='background-color: white'><tr><th>PlayerID</th><th>Name</th><th>Position</th><th>Nationality</th><th>Age</th><th>Appearances</th><th>Goals</th><th>Assists</th></tr></thead><tbody><tr><td>1</td><td>Kepa Arrizabalaga</td><td>Goalkeeper</td><td>Spain</td><td>29</td><td>20</td><td>0</td><td>0</td></tr><tr><td>2</td><td>Thiago Silva</td><td>Defender</td><td>Brazil</td><td>39</td><td>28</td><td>2</td><td>1</td></tr><tr><td>3</td><td>Reece James</td><td>Defender</td><td>England</td><td>24</td><td>25</td><td>3</td><td>5</td></tr><tr><td>4</td><td>Ben Chilwell</td><td>Defender</td><td>England</td><td>27</td><td>22</td><td>2</td><td>3</td></tr><tr><td>5</td><td>Enzo Fernández</td><td>Midfielder</td><td>Argentina</td><td>23</td><td>30</td><td>5</td><td>7</td></tr><tr><td>6</td><td>Raheem Sterling</td><td>Forward</td><td>England</td><td>29</td><td>26</td><td>10</td><td>4</td></tr><tr><td>7</td><td>Nicholas Jackson</td><td>Forward</td><td>Senegal</td><td>22</td><td>24</td><td>8</td><td>6</td></tr></tbody></table></div>"
      ]
     },
     "metadata": {
      "application/vnd.databricks.v1+output": {
       "addedWidgets": {},
       "aggData": [],
       "aggError": "",
       "aggOverflow": false,
       "aggSchema": [],
       "aggSeriesLimitReached": false,
       "aggType": "",
       "arguments": {},
       "columnCustomDisplayInfos": {},
       "data": [
        [
         1,
         "Kepa Arrizabalaga",
         "Goalkeeper",
         "Spain",
         29,
         20,
         0,
         0
        ],
        [
         2,
         "Thiago Silva",
         "Defender",
         "Brazil",
         39,
         28,
         2,
         1
        ],
        [
         3,
         "Reece James",
         "Defender",
         "England",
         24,
         25,
         3,
         5
        ],
        [
         4,
         "Ben Chilwell",
         "Defender",
         "England",
         27,
         22,
         2,
         3
        ],
        [
         5,
         "Enzo Fernández",
         "Midfielder",
         "Argentina",
         23,
         30,
         5,
         7
        ],
        [
         6,
         "Raheem Sterling",
         "Forward",
         "England",
         29,
         26,
         10,
         4
        ],
        [
         7,
         "Nicholas Jackson",
         "Forward",
         "Senegal",
         22,
         24,
         8,
         6
        ]
       ],
       "datasetInfos": [],
       "dbfsResultPath": null,
       "isJsonSchema": true,
       "metadata": {},
       "overflow": false,
       "plotOptions": {
        "customPlotOptions": {},
        "displayType": "table",
        "pivotAggregation": null,
        "pivotColumns": null,
        "xColumns": null,
        "yColumns": null
       },
       "removedWidgets": [],
       "schema": [
        {
         "metadata": "{}",
         "name": "PlayerID",
         "type": "\"integer\""
        },
        {
         "metadata": "{}",
         "name": "Name",
         "type": "\"string\""
        },
        {
         "metadata": "{}",
         "name": "Position",
         "type": "\"string\""
        },
        {
         "metadata": "{}",
         "name": "Nationality",
         "type": "\"string\""
        },
        {
         "metadata": "{}",
         "name": "Age",
         "type": "\"integer\""
        },
        {
         "metadata": "{}",
         "name": "Appearances",
         "type": "\"integer\""
        },
        {
         "metadata": "{}",
         "name": "Goals",
         "type": "\"integer\""
        },
        {
         "metadata": "{}",
         "name": "Assists",
         "type": "\"integer\""
        }
       ],
       "type": "table"
      }
     },
     "output_type": "display_data"
    }
   ],
   "source": [
    "%sql\n",
    "\n",
    "/* Query the permanent table */\n",
    "SELECT * FROM players_csv;"
   ]
  },
  {
   "cell_type": "code",
   "execution_count": 0,
   "metadata": {
    "application/vnd.databricks.v1+cell": {
     "cellMetadata": {
      "byteLimit": 2048000,
      "rowLimit": 10000
     },
     "inputWidgets": {},
     "nuid": "1575354d-7277-4847-ba6f-4ae51f50290d",
     "showTitle": false,
     "title": ""
    }
   },
   "outputs": [],
   "source": [
    "# File locations\n",
    "matches_file_location = \"/FileStore/tables/players/matches_csv.txt\"\n",
    "financials_file_location = \"/FileStore/tables/players/players_csv-2.txt\"\n",
    "\n",
    "\n",
    "# File type\n",
    "file_type = \"csv\"\n",
    "\n",
    "# CSV options\n",
    "infer_schema = \"true\"\n",
    "first_row_is_header = \"true\"\n",
    "delimiter = \",\"\n",
    "\n",
    "# Load matches.csv into a DataFrame\n",
    "matches_df = spark.read.format(file_type) \\\n",
    "  .option(\"inferSchema\", infer_schema) \\\n",
    "  .option(\"header\", first_row_is_header) \\\n",
    "  .option(\"sep\", delimiter) \\\n",
    "  .load(matches_file_location)\n",
    "\n",
    "# Load financials.csv into a DataFrame\n",
    "financials_df = spark.read.format(file_type) \\\n",
    "  .option(\"inferSchema\", infer_schema) \\\n",
    "  .option(\"header\", first_row_is_header) \\\n",
    "  .option(\"sep\", delimiter) \\\n",
    "  .load(financials_file_location)\n",
    "\n",
    "# Save matches_df as a permanent Parquet table\n",
    "matches_table_name = \"matches_csv\"\n",
    "matches_df.write.format(\"parquet\").saveAsTable(matches_table_name)\n",
    "\n",
    "# Save financials_df as a permanent Parquet table\n",
    "financials_table_name = \"financials_csv\"\n",
    "financials_df.write.format(\"parquet\").saveAsTable(financials_table_name)\n"
   ]
  },
  {
   "cell_type": "code",
   "execution_count": 0,
   "metadata": {
    "application/vnd.databricks.v1+cell": {
     "cellMetadata": {
      "byteLimit": 2048000,
      "implicitDf": true,
      "rowLimit": 10000
     },
     "inputWidgets": {},
     "nuid": "89e49d5c-b231-4fae-a3ab-69228a4482eb",
     "showTitle": false,
     "title": ""
    }
   },
   "outputs": [
    {
     "output_type": "display_data",
     "data": {
      "text/html": [
       "<style scoped>\n",
       "  .table-result-container {\n",
       "    max-height: 300px;\n",
       "    overflow: auto;\n",
       "  }\n",
       "  table, th, td {\n",
       "    border: 1px solid black;\n",
       "    border-collapse: collapse;\n",
       "  }\n",
       "  th, td {\n",
       "    padding: 5px;\n",
       "  }\n",
       "  th {\n",
       "    text-align: left;\n",
       "  }\n",
       "</style><div class='table-result-container'><table class='table-result'><thead style='background-color: white'><tr><th>MatchID</th><th>Date</th><th>Opponent</th><th>Home/Away</th><th>Result</th><th>GoalsScored</th><th>GoalsConceded</th></tr></thead><tbody><tr><td>1</td><td>2024-03-14</td><td>Manchester United</td><td>Away</td><td>Win</td><td>2</td><td>1</td></tr><tr><td>2</td><td>2024-03-21</td><td>Liverpool</td><td>Home</td><td>Draw</td><td>1</td><td>1</td></tr><tr><td>3</td><td>2024-04-05</td><td>Arsenal</td><td>Away</td><td>Lose</td><td>0</td><td>2</td></tr><tr><td>4</td><td>2024-04-12</td><td>Manchester City</td><td>Home</td><td>Win</td><td>3</td><td>2</td></tr><tr><td>5</td><td>2024-04-19</td><td>Tottenham Hotspur</td><td>Away</td><td>Win</td><td>2</td><td>0</td></tr><tr><td>6</td><td>2024-04-26</td><td>Leicester City</td><td>Home</td><td>Win</td><td>4</td><td>1</td></tr></tbody></table></div>"
      ]
     },
     "metadata": {
      "application/vnd.databricks.v1+output": {
       "addedWidgets": {},
       "aggData": [],
       "aggError": "",
       "aggOverflow": false,
       "aggSchema": [],
       "aggSeriesLimitReached": false,
       "aggType": "",
       "arguments": {},
       "columnCustomDisplayInfos": {},
       "data": [
        [
         1,
         "2024-03-14",
         "Manchester United",
         "Away",
         "Win",
         2,
         1
        ],
        [
         2,
         "2024-03-21",
         "Liverpool",
         "Home",
         "Draw",
         1,
         1
        ],
        [
         3,
         "2024-04-05",
         "Arsenal",
         "Away",
         "Lose",
         0,
         2
        ],
        [
         4,
         "2024-04-12",
         "Manchester City",
         "Home",
         "Win",
         3,
         2
        ],
        [
         5,
         "2024-04-19",
         "Tottenham Hotspur",
         "Away",
         "Win",
         2,
         0
        ],
        [
         6,
         "2024-04-26",
         "Leicester City",
         "Home",
         "Win",
         4,
         1
        ]
       ],
       "datasetInfos": [],
       "dbfsResultPath": null,
       "isJsonSchema": true,
       "metadata": {},
       "overflow": false,
       "plotOptions": {
        "customPlotOptions": {},
        "displayType": "table",
        "pivotAggregation": null,
        "pivotColumns": null,
        "xColumns": null,
        "yColumns": null
       },
       "removedWidgets": [],
       "schema": [
        {
         "metadata": "{}",
         "name": "MatchID",
         "type": "\"integer\""
        },
        {
         "metadata": "{\"__detected_date_formats\":\"yyyy-M-d\"}",
         "name": "Date",
         "type": "\"date\""
        },
        {
         "metadata": "{}",
         "name": "Opponent",
         "type": "\"string\""
        },
        {
         "metadata": "{}",
         "name": "Home/Away",
         "type": "\"string\""
        },
        {
         "metadata": "{}",
         "name": "Result",
         "type": "\"string\""
        },
        {
         "metadata": "{}",
         "name": "GoalsScored",
         "type": "\"integer\""
        },
        {
         "metadata": "{}",
         "name": "GoalsConceded",
         "type": "\"integer\""
        }
       ],
       "type": "table"
      }
     },
     "output_type": "display_data"
    }
   ],
   "source": [
    "%sql\n",
    "\n",
    "-- Query the matches table\n",
    "SELECT * FROM matches_csv;"
   ]
  },
  {
   "cell_type": "code",
   "execution_count": 0,
   "metadata": {
    "application/vnd.databricks.v1+cell": {
     "cellMetadata": {
      "byteLimit": 2048000,
      "implicitDf": true,
      "rowLimit": 10000
     },
     "inputWidgets": {},
     "nuid": "d7d2b42d-67ca-4b52-8e71-adb544292054",
     "showTitle": false,
     "title": ""
    }
   },
   "outputs": [
    {
     "output_type": "display_data",
     "data": {
      "text/html": [
       "<style scoped>\n",
       "  .table-result-container {\n",
       "    max-height: 300px;\n",
       "    overflow: auto;\n",
       "  }\n",
       "  table, th, td {\n",
       "    border: 1px solid black;\n",
       "    border-collapse: collapse;\n",
       "  }\n",
       "  th, td {\n",
       "    padding: 5px;\n",
       "  }\n",
       "  th {\n",
       "    text-align: left;\n",
       "  }\n",
       "</style><div class='table-result-container'><table class='table-result'><thead style='background-color: white'><tr><th>PlayerID</th><th>Name</th><th>Position</th><th>Nationality</th><th>Age</th><th>Appearances</th><th>Goals</th><th>Assists</th></tr></thead><tbody><tr><td>1</td><td>Kepa Arrizabalaga</td><td>Goalkeeper</td><td>Spain</td><td>29</td><td>20</td><td>0</td><td>0</td></tr><tr><td>2</td><td>Thiago Silva</td><td>Defender</td><td>Brazil</td><td>39</td><td>28</td><td>2</td><td>1</td></tr><tr><td>3</td><td>Reece James</td><td>Defender</td><td>England</td><td>24</td><td>25</td><td>3</td><td>5</td></tr><tr><td>4</td><td>Ben Chilwell</td><td>Defender</td><td>England</td><td>27</td><td>22</td><td>2</td><td>3</td></tr><tr><td>5</td><td>Enzo Fernández</td><td>Midfielder</td><td>Argentina</td><td>23</td><td>30</td><td>5</td><td>7</td></tr><tr><td>6</td><td>Raheem Sterling</td><td>Forward</td><td>England</td><td>29</td><td>26</td><td>10</td><td>4</td></tr><tr><td>7</td><td>Nicholas Jackson</td><td>Forward</td><td>Senegal</td><td>22</td><td>24</td><td>8</td><td>6</td></tr></tbody></table></div>"
      ]
     },
     "metadata": {
      "application/vnd.databricks.v1+output": {
       "addedWidgets": {},
       "aggData": [],
       "aggError": "",
       "aggOverflow": false,
       "aggSchema": [],
       "aggSeriesLimitReached": false,
       "aggType": "",
       "arguments": {},
       "columnCustomDisplayInfos": {},
       "data": [
        [
         1,
         "Kepa Arrizabalaga",
         "Goalkeeper",
         "Spain",
         29,
         20,
         0,
         0
        ],
        [
         2,
         "Thiago Silva",
         "Defender",
         "Brazil",
         39,
         28,
         2,
         1
        ],
        [
         3,
         "Reece James",
         "Defender",
         "England",
         24,
         25,
         3,
         5
        ],
        [
         4,
         "Ben Chilwell",
         "Defender",
         "England",
         27,
         22,
         2,
         3
        ],
        [
         5,
         "Enzo Fernández",
         "Midfielder",
         "Argentina",
         23,
         30,
         5,
         7
        ],
        [
         6,
         "Raheem Sterling",
         "Forward",
         "England",
         29,
         26,
         10,
         4
        ],
        [
         7,
         "Nicholas Jackson",
         "Forward",
         "Senegal",
         22,
         24,
         8,
         6
        ]
       ],
       "datasetInfos": [],
       "dbfsResultPath": null,
       "isJsonSchema": true,
       "metadata": {},
       "overflow": false,
       "plotOptions": {
        "customPlotOptions": {},
        "displayType": "table",
        "pivotAggregation": null,
        "pivotColumns": null,
        "xColumns": null,
        "yColumns": null
       },
       "removedWidgets": [],
       "schema": [
        {
         "metadata": "{}",
         "name": "PlayerID",
         "type": "\"integer\""
        },
        {
         "metadata": "{}",
         "name": "Name",
         "type": "\"string\""
        },
        {
         "metadata": "{}",
         "name": "Position",
         "type": "\"string\""
        },
        {
         "metadata": "{}",
         "name": "Nationality",
         "type": "\"string\""
        },
        {
         "metadata": "{}",
         "name": "Age",
         "type": "\"integer\""
        },
        {
         "metadata": "{}",
         "name": "Appearances",
         "type": "\"integer\""
        },
        {
         "metadata": "{}",
         "name": "Goals",
         "type": "\"integer\""
        },
        {
         "metadata": "{}",
         "name": "Assists",
         "type": "\"integer\""
        }
       ],
       "type": "table"
      }
     },
     "output_type": "display_data"
    }
   ],
   "source": [
    "%sql\n",
    "\n",
    "-- Query the financials table\n",
    "SELECT * FROM financials_csv;"
   ]
  },
  {
   "cell_type": "code",
   "execution_count": 0,
   "metadata": {
    "application/vnd.databricks.v1+cell": {
     "cellMetadata": {
      "byteLimit": 2048000,
      "implicitDf": true,
      "rowLimit": 10000
     },
     "inputWidgets": {},
     "nuid": "c575c07a-ecfb-4a05-b3b0-bdc9fcd10283",
     "showTitle": false,
     "title": ""
    }
   },
   "outputs": [
    {
     "output_type": "display_data",
     "data": {
      "text/html": [
       "<style scoped>\n",
       "  .table-result-container {\n",
       "    max-height: 300px;\n",
       "    overflow: auto;\n",
       "  }\n",
       "  table, th, td {\n",
       "    border: 1px solid black;\n",
       "    border-collapse: collapse;\n",
       "  }\n",
       "  th, td {\n",
       "    padding: 5px;\n",
       "  }\n",
       "  th {\n",
       "    text-align: left;\n",
       "  }\n",
       "</style><div class='table-result-container'><table class='table-result'><thead style='background-color: white'><tr><th>PlayerID</th><th>Name</th><th>Position</th><th>Nationality</th><th>Age</th><th>Appearances</th><th>Goals</th><th>Assists</th></tr></thead><tbody><tr><td>1</td><td>Kepa Arrizabalaga</td><td>Goalkeeper</td><td>Spain</td><td>29</td><td>20</td><td>0</td><td>0</td></tr><tr><td>2</td><td>Thiago Silva</td><td>Defender</td><td>Brazil</td><td>39</td><td>28</td><td>2</td><td>1</td></tr><tr><td>3</td><td>Reece James</td><td>Defender</td><td>England</td><td>24</td><td>25</td><td>3</td><td>5</td></tr><tr><td>4</td><td>Ben Chilwell</td><td>Defender</td><td>England</td><td>27</td><td>22</td><td>2</td><td>3</td></tr><tr><td>5</td><td>Enzo Fernández</td><td>Midfielder</td><td>Argentina</td><td>23</td><td>30</td><td>5</td><td>7</td></tr><tr><td>6</td><td>Raheem Sterling</td><td>Forward</td><td>England</td><td>29</td><td>26</td><td>10</td><td>4</td></tr><tr><td>7</td><td>Nicholas Jackson</td><td>Forward</td><td>Senegal</td><td>22</td><td>24</td><td>8</td><td>6</td></tr></tbody></table></div>"
      ]
     },
     "metadata": {
      "application/vnd.databricks.v1+output": {
       "addedWidgets": {},
       "aggData": [],
       "aggError": "",
       "aggOverflow": false,
       "aggSchema": [],
       "aggSeriesLimitReached": false,
       "aggType": "",
       "arguments": {},
       "columnCustomDisplayInfos": {},
       "data": [
        [
         1,
         "Kepa Arrizabalaga",
         "Goalkeeper",
         "Spain",
         29,
         20,
         0,
         0
        ],
        [
         2,
         "Thiago Silva",
         "Defender",
         "Brazil",
         39,
         28,
         2,
         1
        ],
        [
         3,
         "Reece James",
         "Defender",
         "England",
         24,
         25,
         3,
         5
        ],
        [
         4,
         "Ben Chilwell",
         "Defender",
         "England",
         27,
         22,
         2,
         3
        ],
        [
         5,
         "Enzo Fernández",
         "Midfielder",
         "Argentina",
         23,
         30,
         5,
         7
        ],
        [
         6,
         "Raheem Sterling",
         "Forward",
         "England",
         29,
         26,
         10,
         4
        ],
        [
         7,
         "Nicholas Jackson",
         "Forward",
         "Senegal",
         22,
         24,
         8,
         6
        ]
       ],
       "datasetInfos": [],
       "dbfsResultPath": null,
       "isJsonSchema": true,
       "metadata": {},
       "overflow": false,
       "plotOptions": {
        "customPlotOptions": {},
        "displayType": "table",
        "pivotAggregation": null,
        "pivotColumns": null,
        "xColumns": null,
        "yColumns": null
       },
       "removedWidgets": [],
       "schema": [
        {
         "metadata": "{}",
         "name": "PlayerID",
         "type": "\"integer\""
        },
        {
         "metadata": "{}",
         "name": "Name",
         "type": "\"string\""
        },
        {
         "metadata": "{}",
         "name": "Position",
         "type": "\"string\""
        },
        {
         "metadata": "{}",
         "name": "Nationality",
         "type": "\"string\""
        },
        {
         "metadata": "{}",
         "name": "Age",
         "type": "\"integer\""
        },
        {
         "metadata": "{}",
         "name": "Appearances",
         "type": "\"integer\""
        },
        {
         "metadata": "{}",
         "name": "Goals",
         "type": "\"integer\""
        },
        {
         "metadata": "{}",
         "name": "Assists",
         "type": "\"integer\""
        }
       ],
       "type": "table"
      }
     },
     "output_type": "display_data"
    }
   ],
   "source": [
    "%sql\n",
    "-- Query the players table\n",
    "SELECT * FROM players_csv LIMIT 10;"
   ]
  },
  {
   "cell_type": "code",
   "execution_count": 0,
   "metadata": {
    "application/vnd.databricks.v1+cell": {
     "cellMetadata": {
      "byteLimit": 2048000,
      "implicitDf": true,
      "rowLimit": 10000
     },
     "inputWidgets": {},
     "nuid": "87a758e1-73fe-48ba-b509-9b6ef2465eac",
     "showTitle": false,
     "title": ""
    }
   },
   "outputs": [
    {
     "output_type": "display_data",
     "data": {
      "text/html": [
       "<style scoped>\n",
       "  .table-result-container {\n",
       "    max-height: 300px;\n",
       "    overflow: auto;\n",
       "  }\n",
       "  table, th, td {\n",
       "    border: 1px solid black;\n",
       "    border-collapse: collapse;\n",
       "  }\n",
       "  th, td {\n",
       "    padding: 5px;\n",
       "  }\n",
       "  th {\n",
       "    text-align: left;\n",
       "  }\n",
       "</style><div class='table-result-container'><table class='table-result'><thead style='background-color: white'><tr></tr></thead><tbody></tbody></table></div>"
      ]
     },
     "metadata": {
      "application/vnd.databricks.v1+output": {
       "addedWidgets": {},
       "aggData": [],
       "aggError": "",
       "aggOverflow": false,
       "aggSchema": [],
       "aggSeriesLimitReached": false,
       "aggType": "",
       "arguments": {},
       "columnCustomDisplayInfos": {},
       "data": [],
       "datasetInfos": [],
       "dbfsResultPath": null,
       "isJsonSchema": true,
       "metadata": {},
       "overflow": false,
       "plotOptions": {
        "customPlotOptions": {},
        "displayType": "table",
        "pivotAggregation": null,
        "pivotColumns": null,
        "xColumns": null,
        "yColumns": null
       },
       "removedWidgets": [],
       "schema": [],
       "type": "table"
      }
     },
     "output_type": "display_data"
    }
   ],
   "source": [
    "%sql\n",
    "-- Add PlayerID column to the matches_csv table\n",
    "ALTER TABLE matches_csv ADD COLUMN PlayerID INT;"
   ]
  },
  {
   "cell_type": "code",
   "execution_count": 0,
   "metadata": {
    "application/vnd.databricks.v1+cell": {
     "cellMetadata": {
      "byteLimit": 2048000,
      "implicitDf": true,
      "rowLimit": 10000
     },
     "inputWidgets": {},
     "nuid": "fa8df8f4-fa9c-41cc-96b6-80566c6fa70a",
     "showTitle": false,
     "title": ""
    }
   },
   "outputs": [
    {
     "output_type": "display_data",
     "data": {
      "text/html": [
       "<style scoped>\n",
       "  .table-result-container {\n",
       "    max-height: 300px;\n",
       "    overflow: auto;\n",
       "  }\n",
       "  table, th, td {\n",
       "    border: 1px solid black;\n",
       "    border-collapse: collapse;\n",
       "  }\n",
       "  th, td {\n",
       "    padding: 5px;\n",
       "  }\n",
       "  th {\n",
       "    text-align: left;\n",
       "  }\n",
       "</style><div class='table-result-container'><table class='table-result'><thead style='background-color: white'><tr></tr></thead><tbody></tbody></table></div>"
      ]
     },
     "metadata": {
      "application/vnd.databricks.v1+output": {
       "addedWidgets": {},
       "aggData": [],
       "aggError": "",
       "aggOverflow": false,
       "aggSchema": [],
       "aggSeriesLimitReached": false,
       "aggType": "",
       "arguments": {},
       "columnCustomDisplayInfos": {},
       "data": [],
       "datasetInfos": [],
       "dbfsResultPath": null,
       "isJsonSchema": true,
       "metadata": {},
       "overflow": false,
       "plotOptions": {
        "customPlotOptions": {},
        "displayType": "table",
        "pivotAggregation": null,
        "pivotColumns": null,
        "xColumns": null,
        "yColumns": null
       },
       "removedWidgets": [],
       "schema": [],
       "type": "table"
      }
     },
     "output_type": "display_data"
    }
   ],
   "source": [
    "%sql\n",
    "-- Modify the Date column to ensure it is of type DATE\n",
    "ALTER TABLE matches_csv CHANGE COLUMN `Date` `Date` DATE;"
   ]
  },
  {
   "cell_type": "code",
   "execution_count": 0,
   "metadata": {
    "application/vnd.databricks.v1+cell": {
     "cellMetadata": {
      "byteLimit": 2048000,
      "implicitDf": true,
      "rowLimit": 10000
     },
     "inputWidgets": {},
     "nuid": "a35f2b49-1d6b-4087-b86a-f6eabec09589",
     "showTitle": false,
     "title": ""
    }
   },
   "outputs": [
    {
     "output_type": "display_data",
     "data": {
      "text/html": [
       "<style scoped>\n",
       "  .table-result-container {\n",
       "    max-height: 300px;\n",
       "    overflow: auto;\n",
       "  }\n",
       "  table, th, td {\n",
       "    border: 1px solid black;\n",
       "    border-collapse: collapse;\n",
       "  }\n",
       "  th, td {\n",
       "    padding: 5px;\n",
       "  }\n",
       "  th {\n",
       "    text-align: left;\n",
       "  }\n",
       "</style><div class='table-result-container'><table class='table-result'><thead style='background-color: white'><tr></tr></thead><tbody></tbody></table></div>"
      ]
     },
     "metadata": {
      "application/vnd.databricks.v1+output": {
       "addedWidgets": {},
       "aggData": [],
       "aggError": "",
       "aggOverflow": false,
       "aggSchema": [],
       "aggSeriesLimitReached": false,
       "aggType": "",
       "arguments": {},
       "columnCustomDisplayInfos": {},
       "data": [],
       "datasetInfos": [],
       "dbfsResultPath": null,
       "isJsonSchema": true,
       "metadata": {},
       "overflow": false,
       "plotOptions": {
        "customPlotOptions": {},
        "displayType": "table",
        "pivotAggregation": null,
        "pivotColumns": null,
        "xColumns": null,
        "yColumns": null
       },
       "removedWidgets": [],
       "schema": [],
       "type": "table"
      }
     },
     "output_type": "display_data"
    }
   ],
   "source": [
    "%sql\n",
    "-- Insert data into matches_csv with PlayerID\n",
    "INSERT INTO matches_csv (`MatchID`, `Date`, `Opponent`, `Home/Away`, `Result`, `GoalsScored`, `GoalsConceded`, `PlayerID`)\n",
    "VALUES\n",
    "(1, DATE('2024-03-14'), 'Manchester United', 'Away', 'Win', 2, 1, 1),\n",
    "(2, DATE('2024-03-21'), 'Liverpool', 'Home', 'Draw', 1, 1, 2),\n",
    "(3, DATE('2024-04-05'), 'Arsenal', 'Away', 'Lose', 0, 2, 3),\n",
    "(4, DATE('2024-04-12'), 'Manchester City', 'Home', 'Win', 3, 2, 4),\n",
    "(5, DATE('2024-04-19'), 'Tottenham Hotspur', 'Away', 'Win', 2, 0, 5),\n",
    "(6, DATE('2024-04-26'), 'Leicester City', 'Home', 'Win', 4, 1, 6);"
   ]
  },
  {
   "cell_type": "code",
   "execution_count": 0,
   "metadata": {
    "application/vnd.databricks.v1+cell": {
     "cellMetadata": {
      "byteLimit": 2048000,
      "implicitDf": true,
      "rowLimit": 10000
     },
     "inputWidgets": {},
     "nuid": "cfb66699-e037-47f1-b67b-6b95a687cb7d",
     "showTitle": false,
     "title": ""
    }
   },
   "outputs": [
    {
     "output_type": "display_data",
     "data": {
      "text/html": [
       "<style scoped>\n",
       "  .table-result-container {\n",
       "    max-height: 300px;\n",
       "    overflow: auto;\n",
       "  }\n",
       "  table, th, td {\n",
       "    border: 1px solid black;\n",
       "    border-collapse: collapse;\n",
       "  }\n",
       "  th, td {\n",
       "    padding: 5px;\n",
       "  }\n",
       "  th {\n",
       "    text-align: left;\n",
       "  }\n",
       "</style><div class='table-result-container'><table class='table-result'><thead style='background-color: white'><tr><th>MatchID</th><th>Date</th><th>Opponent</th><th>Home/Away</th><th>Result</th><th>GoalsScored</th><th>GoalsConceded</th><th>PlayerID</th></tr></thead><tbody><tr><td>1</td><td>2024-03-14</td><td>Manchester United</td><td>Away</td><td>Win</td><td>2</td><td>1</td><td>1</td></tr><tr><td>5</td><td>2024-04-19</td><td>Tottenham Hotspur</td><td>Away</td><td>Win</td><td>2</td><td>0</td><td>5</td></tr><tr><td>1</td><td>2024-03-14</td><td>Manchester United</td><td>Away</td><td>Win</td><td>2</td><td>1</td><td>null</td></tr><tr><td>2</td><td>2024-03-21</td><td>Liverpool</td><td>Home</td><td>Draw</td><td>1</td><td>1</td><td>null</td></tr><tr><td>3</td><td>2024-04-05</td><td>Arsenal</td><td>Away</td><td>Lose</td><td>0</td><td>2</td><td>null</td></tr><tr><td>4</td><td>2024-04-12</td><td>Manchester City</td><td>Home</td><td>Win</td><td>3</td><td>2</td><td>null</td></tr><tr><td>5</td><td>2024-04-19</td><td>Tottenham Hotspur</td><td>Away</td><td>Win</td><td>2</td><td>0</td><td>null</td></tr><tr><td>6</td><td>2024-04-26</td><td>Leicester City</td><td>Home</td><td>Win</td><td>4</td><td>1</td><td>null</td></tr><tr><td>4</td><td>2024-04-12</td><td>Manchester City</td><td>Home</td><td>Win</td><td>3</td><td>2</td><td>4</td></tr><tr><td>6</td><td>2024-04-26</td><td>Leicester City</td><td>Home</td><td>Win</td><td>4</td><td>1</td><td>6</td></tr></tbody></table></div>"
      ]
     },
     "metadata": {
      "application/vnd.databricks.v1+output": {
       "addedWidgets": {},
       "aggData": [],
       "aggError": "",
       "aggOverflow": false,
       "aggSchema": [],
       "aggSeriesLimitReached": false,
       "aggType": "",
       "arguments": {},
       "columnCustomDisplayInfos": {},
       "data": [
        [
         1,
         "2024-03-14",
         "Manchester United",
         "Away",
         "Win",
         2,
         1,
         1
        ],
        [
         5,
         "2024-04-19",
         "Tottenham Hotspur",
         "Away",
         "Win",
         2,
         0,
         5
        ],
        [
         1,
         "2024-03-14",
         "Manchester United",
         "Away",
         "Win",
         2,
         1,
         null
        ],
        [
         2,
         "2024-03-21",
         "Liverpool",
         "Home",
         "Draw",
         1,
         1,
         null
        ],
        [
         3,
         "2024-04-05",
         "Arsenal",
         "Away",
         "Lose",
         0,
         2,
         null
        ],
        [
         4,
         "2024-04-12",
         "Manchester City",
         "Home",
         "Win",
         3,
         2,
         null
        ],
        [
         5,
         "2024-04-19",
         "Tottenham Hotspur",
         "Away",
         "Win",
         2,
         0,
         null
        ],
        [
         6,
         "2024-04-26",
         "Leicester City",
         "Home",
         "Win",
         4,
         1,
         null
        ],
        [
         4,
         "2024-04-12",
         "Manchester City",
         "Home",
         "Win",
         3,
         2,
         4
        ],
        [
         6,
         "2024-04-26",
         "Leicester City",
         "Home",
         "Win",
         4,
         1,
         6
        ]
       ],
       "datasetInfos": [],
       "dbfsResultPath": null,
       "isJsonSchema": true,
       "metadata": {},
       "overflow": false,
       "plotOptions": {
        "customPlotOptions": {},
        "displayType": "table",
        "pivotAggregation": null,
        "pivotColumns": null,
        "xColumns": null,
        "yColumns": null
       },
       "removedWidgets": [],
       "schema": [
        {
         "metadata": "{}",
         "name": "MatchID",
         "type": "\"integer\""
        },
        {
         "metadata": "{\"__detected_date_formats\":\"yyyy-M-d\"}",
         "name": "Date",
         "type": "\"date\""
        },
        {
         "metadata": "{}",
         "name": "Opponent",
         "type": "\"string\""
        },
        {
         "metadata": "{}",
         "name": "Home/Away",
         "type": "\"string\""
        },
        {
         "metadata": "{}",
         "name": "Result",
         "type": "\"string\""
        },
        {
         "metadata": "{}",
         "name": "GoalsScored",
         "type": "\"integer\""
        },
        {
         "metadata": "{}",
         "name": "GoalsConceded",
         "type": "\"integer\""
        },
        {
         "metadata": "{}",
         "name": "PlayerID",
         "type": "\"integer\""
        }
       ],
       "type": "table"
      }
     },
     "output_type": "display_data"
    }
   ],
   "source": [
    "%sql\n",
    "\n",
    "-- Query the matches table\n",
    "SELECT * FROM matches_csv LIMIT 10;"
   ]
  },
  {
   "cell_type": "code",
   "execution_count": 0,
   "metadata": {
    "application/vnd.databricks.v1+cell": {
     "cellMetadata": {
      "byteLimit": 2048000,
      "implicitDf": true,
      "rowLimit": 10000
     },
     "inputWidgets": {},
     "nuid": "ef4c9064-0582-4ad3-892f-0937a18cd681",
     "showTitle": false,
     "title": ""
    }
   },
   "outputs": [
    {
     "output_type": "display_data",
     "data": {
      "text/html": [
       "<style scoped>\n",
       "  .table-result-container {\n",
       "    max-height: 300px;\n",
       "    overflow: auto;\n",
       "  }\n",
       "  table, th, td {\n",
       "    border: 1px solid black;\n",
       "    border-collapse: collapse;\n",
       "  }\n",
       "  th, td {\n",
       "    padding: 5px;\n",
       "  }\n",
       "  th {\n",
       "    text-align: left;\n",
       "  }\n",
       "</style><div class='table-result-container'><table class='table-result'><thead style='background-color: white'><tr><th>PlayerID</th><th>Name</th><th>Position</th><th>Nationality</th><th>Age</th><th>Appearances</th><th>Goals</th><th>Assists</th></tr></thead><tbody><tr><td>1</td><td>Kepa Arrizabalaga</td><td>Goalkeeper</td><td>Spain</td><td>29</td><td>20</td><td>0</td><td>0</td></tr><tr><td>2</td><td>Thiago Silva</td><td>Defender</td><td>Brazil</td><td>39</td><td>28</td><td>2</td><td>1</td></tr><tr><td>3</td><td>Reece James</td><td>Defender</td><td>England</td><td>24</td><td>25</td><td>3</td><td>5</td></tr><tr><td>4</td><td>Ben Chilwell</td><td>Defender</td><td>England</td><td>27</td><td>22</td><td>2</td><td>3</td></tr><tr><td>5</td><td>Enzo Fernández</td><td>Midfielder</td><td>Argentina</td><td>23</td><td>30</td><td>5</td><td>7</td></tr><tr><td>6</td><td>Raheem Sterling</td><td>Forward</td><td>England</td><td>29</td><td>26</td><td>10</td><td>4</td></tr><tr><td>7</td><td>Nicholas Jackson</td><td>Forward</td><td>Senegal</td><td>22</td><td>24</td><td>8</td><td>6</td></tr></tbody></table></div>"
      ]
     },
     "metadata": {
      "application/vnd.databricks.v1+output": {
       "addedWidgets": {},
       "aggData": [],
       "aggError": "",
       "aggOverflow": false,
       "aggSchema": [],
       "aggSeriesLimitReached": false,
       "aggType": "",
       "arguments": {},
       "columnCustomDisplayInfos": {},
       "data": [
        [
         1,
         "Kepa Arrizabalaga",
         "Goalkeeper",
         "Spain",
         29,
         20,
         0,
         0
        ],
        [
         2,
         "Thiago Silva",
         "Defender",
         "Brazil",
         39,
         28,
         2,
         1
        ],
        [
         3,
         "Reece James",
         "Defender",
         "England",
         24,
         25,
         3,
         5
        ],
        [
         4,
         "Ben Chilwell",
         "Defender",
         "England",
         27,
         22,
         2,
         3
        ],
        [
         5,
         "Enzo Fernández",
         "Midfielder",
         "Argentina",
         23,
         30,
         5,
         7
        ],
        [
         6,
         "Raheem Sterling",
         "Forward",
         "England",
         29,
         26,
         10,
         4
        ],
        [
         7,
         "Nicholas Jackson",
         "Forward",
         "Senegal",
         22,
         24,
         8,
         6
        ]
       ],
       "datasetInfos": [],
       "dbfsResultPath": null,
       "isJsonSchema": true,
       "metadata": {},
       "overflow": false,
       "plotOptions": {
        "customPlotOptions": {},
        "displayType": "table",
        "pivotAggregation": null,
        "pivotColumns": null,
        "xColumns": null,
        "yColumns": null
       },
       "removedWidgets": [],
       "schema": [
        {
         "metadata": "{}",
         "name": "PlayerID",
         "type": "\"integer\""
        },
        {
         "metadata": "{}",
         "name": "Name",
         "type": "\"string\""
        },
        {
         "metadata": "{}",
         "name": "Position",
         "type": "\"string\""
        },
        {
         "metadata": "{}",
         "name": "Nationality",
         "type": "\"string\""
        },
        {
         "metadata": "{}",
         "name": "Age",
         "type": "\"integer\""
        },
        {
         "metadata": "{}",
         "name": "Appearances",
         "type": "\"integer\""
        },
        {
         "metadata": "{}",
         "name": "Goals",
         "type": "\"integer\""
        },
        {
         "metadata": "{}",
         "name": "Assists",
         "type": "\"integer\""
        }
       ],
       "type": "table"
      }
     },
     "output_type": "display_data"
    }
   ],
   "source": [
    "%sql\n",
    "\n",
    "-- Query the financials table\n",
    "SELECT * FROM financials_csv LIMIT 10;"
   ]
  },
  {
   "cell_type": "code",
   "execution_count": 0,
   "metadata": {
    "application/vnd.databricks.v1+cell": {
     "cellMetadata": {
      "byteLimit": 2048000,
      "implicitDf": true,
      "rowLimit": 10000
     },
     "inputWidgets": {},
     "nuid": "ac45734a-b7d0-40cb-9471-8965d85a301b",
     "showTitle": false,
     "title": ""
    }
   },
   "outputs": [
    {
     "output_type": "display_data",
     "data": {
      "text/html": [
       "<style scoped>\n",
       "  .table-result-container {\n",
       "    max-height: 300px;\n",
       "    overflow: auto;\n",
       "  }\n",
       "  table, th, td {\n",
       "    border: 1px solid black;\n",
       "    border-collapse: collapse;\n",
       "  }\n",
       "  th, td {\n",
       "    padding: 5px;\n",
       "  }\n",
       "  th {\n",
       "    text-align: left;\n",
       "  }\n",
       "</style><div class='table-result-container'><table class='table-result'><thead style='background-color: white'><tr><th>col_name</th><th>data_type</th><th>comment</th></tr></thead><tbody><tr><td>MatchID</td><td>int</td><td>null</td></tr><tr><td>Date</td><td>date</td><td>null</td></tr><tr><td>Opponent</td><td>string</td><td>null</td></tr><tr><td>Home/Away</td><td>string</td><td>null</td></tr><tr><td>Result</td><td>string</td><td>null</td></tr><tr><td>GoalsScored</td><td>int</td><td>null</td></tr><tr><td>GoalsConceded</td><td>int</td><td>null</td></tr></tbody></table></div>"
      ]
     },
     "metadata": {
      "application/vnd.databricks.v1+output": {
       "addedWidgets": {},
       "aggData": [],
       "aggError": "",
       "aggOverflow": false,
       "aggSchema": [],
       "aggSeriesLimitReached": false,
       "aggType": "",
       "arguments": {},
       "columnCustomDisplayInfos": {},
       "data": [
        [
         "MatchID",
         "int",
         null
        ],
        [
         "Date",
         "date",
         null
        ],
        [
         "Opponent",
         "string",
         null
        ],
        [
         "Home/Away",
         "string",
         null
        ],
        [
         "Result",
         "string",
         null
        ],
        [
         "GoalsScored",
         "int",
         null
        ],
        [
         "GoalsConceded",
         "int",
         null
        ]
       ],
       "datasetInfos": [],
       "dbfsResultPath": null,
       "isJsonSchema": true,
       "metadata": {},
       "overflow": false,
       "plotOptions": {
        "customPlotOptions": {},
        "displayType": "table",
        "pivotAggregation": null,
        "pivotColumns": null,
        "xColumns": null,
        "yColumns": null
       },
       "removedWidgets": [],
       "schema": [
        {
         "metadata": "{\"comment\":\"name of the column\"}",
         "name": "col_name",
         "type": "\"string\""
        },
        {
         "metadata": "{\"comment\":\"data type of the column\"}",
         "name": "data_type",
         "type": "\"string\""
        },
        {
         "metadata": "{\"comment\":\"comment of the column\"}",
         "name": "comment",
         "type": "\"string\""
        }
       ],
       "type": "table"
      }
     },
     "output_type": "display_data"
    }
   ],
   "source": [
    "%sql\n",
    "-- Inspect the schema of players_csv\n",
    "DESCRIBE players_csv;"
   ]
  },
  {
   "cell_type": "code",
   "execution_count": 0,
   "metadata": {
    "application/vnd.databricks.v1+cell": {
     "cellMetadata": {
      "byteLimit": 2048000,
      "implicitDf": true,
      "rowLimit": 10000
     },
     "inputWidgets": {},
     "nuid": "012d0ef8-8326-4928-9b81-41dbd0c5d2a9",
     "showTitle": false,
     "title": ""
    }
   },
   "outputs": [
    {
     "output_type": "display_data",
     "data": {
      "text/html": [
       "<style scoped>\n",
       "  .table-result-container {\n",
       "    max-height: 300px;\n",
       "    overflow: auto;\n",
       "  }\n",
       "  table, th, td {\n",
       "    border: 1px solid black;\n",
       "    border-collapse: collapse;\n",
       "  }\n",
       "  th, td {\n",
       "    padding: 5px;\n",
       "  }\n",
       "  th {\n",
       "    text-align: left;\n",
       "  }\n",
       "</style><div class='table-result-container'><table class='table-result'><thead style='background-color: white'><tr><th>col_name</th><th>data_type</th><th>comment</th></tr></thead><tbody><tr><td>MatchID</td><td>int</td><td>null</td></tr><tr><td>Date</td><td>date</td><td>null</td></tr><tr><td>Opponent</td><td>string</td><td>null</td></tr><tr><td>Home/Away</td><td>string</td><td>null</td></tr><tr><td>Result</td><td>string</td><td>null</td></tr><tr><td>GoalsScored</td><td>int</td><td>null</td></tr><tr><td>GoalsConceded</td><td>int</td><td>null</td></tr></tbody></table></div>"
      ]
     },
     "metadata": {
      "application/vnd.databricks.v1+output": {
       "addedWidgets": {},
       "aggData": [],
       "aggError": "",
       "aggOverflow": false,
       "aggSchema": [],
       "aggSeriesLimitReached": false,
       "aggType": "",
       "arguments": {},
       "columnCustomDisplayInfos": {},
       "data": [
        [
         "MatchID",
         "int",
         null
        ],
        [
         "Date",
         "date",
         null
        ],
        [
         "Opponent",
         "string",
         null
        ],
        [
         "Home/Away",
         "string",
         null
        ],
        [
         "Result",
         "string",
         null
        ],
        [
         "GoalsScored",
         "int",
         null
        ],
        [
         "GoalsConceded",
         "int",
         null
        ]
       ],
       "datasetInfos": [],
       "dbfsResultPath": null,
       "isJsonSchema": true,
       "metadata": {},
       "overflow": false,
       "plotOptions": {
        "customPlotOptions": {},
        "displayType": "table",
        "pivotAggregation": null,
        "pivotColumns": null,
        "xColumns": null,
        "yColumns": null
       },
       "removedWidgets": [],
       "schema": [
        {
         "metadata": "{\"comment\":\"name of the column\"}",
         "name": "col_name",
         "type": "\"string\""
        },
        {
         "metadata": "{\"comment\":\"data type of the column\"}",
         "name": "data_type",
         "type": "\"string\""
        },
        {
         "metadata": "{\"comment\":\"comment of the column\"}",
         "name": "comment",
         "type": "\"string\""
        }
       ],
       "type": "table"
      }
     },
     "output_type": "display_data"
    }
   ],
   "source": [
    "%sql\n",
    "\n",
    "-- Inspect the schema of matches_csv\n",
    "DESCRIBE matches_csv;"
   ]
  },
  {
   "cell_type": "code",
   "execution_count": 0,
   "metadata": {
    "application/vnd.databricks.v1+cell": {
     "cellMetadata": {
      "byteLimit": 2048000,
      "implicitDf": true,
      "rowLimit": 10000
     },
     "inputWidgets": {},
     "nuid": "49a87978-c706-4824-b8ee-c7a7388e19be",
     "showTitle": false,
     "title": ""
    }
   },
   "outputs": [
    {
     "output_type": "display_data",
     "data": {
      "text/html": [
       "<style scoped>\n",
       "  .table-result-container {\n",
       "    max-height: 300px;\n",
       "    overflow: auto;\n",
       "  }\n",
       "  table, th, td {\n",
       "    border: 1px solid black;\n",
       "    border-collapse: collapse;\n",
       "  }\n",
       "  th, td {\n",
       "    padding: 5px;\n",
       "  }\n",
       "  th {\n",
       "    text-align: left;\n",
       "  }\n",
       "</style><div class='table-result-container'><table class='table-result'><thead style='background-color: white'><tr><th>match_id</th><th>date</th><th>player_name</th><th>GoalsScored</th></tr></thead><tbody><tr><td>1</td><td>2024-03-14</td><td>Kepa Arrizabalaga</td><td>2</td></tr><tr><td>5</td><td>2024-04-19</td><td>Enzo Fernández</td><td>2</td></tr><tr><td>4</td><td>2024-04-12</td><td>Ben Chilwell</td><td>3</td></tr><tr><td>6</td><td>2024-04-26</td><td>Raheem Sterling</td><td>4</td></tr><tr><td>2</td><td>2024-03-21</td><td>Thiago Silva</td><td>1</td></tr><tr><td>3</td><td>2024-04-05</td><td>Reece James</td><td>0</td></tr></tbody></table></div>"
      ]
     },
     "metadata": {
      "application/vnd.databricks.v1+output": {
       "addedWidgets": {},
       "aggData": [],
       "aggError": "",
       "aggOverflow": false,
       "aggSchema": [],
       "aggSeriesLimitReached": false,
       "aggType": "",
       "arguments": {},
       "columnCustomDisplayInfos": {},
       "data": [
        [
         1,
         "2024-03-14",
         "Kepa Arrizabalaga",
         2
        ],
        [
         5,
         "2024-04-19",
         "Enzo Fernández",
         2
        ],
        [
         4,
         "2024-04-12",
         "Ben Chilwell",
         3
        ],
        [
         6,
         "2024-04-26",
         "Raheem Sterling",
         4
        ],
        [
         2,
         "2024-03-21",
         "Thiago Silva",
         1
        ],
        [
         3,
         "2024-04-05",
         "Reece James",
         0
        ]
       ],
       "datasetInfos": [],
       "dbfsResultPath": null,
       "isJsonSchema": true,
       "metadata": {},
       "overflow": false,
       "plotOptions": {
        "customPlotOptions": {},
        "displayType": "table",
        "pivotAggregation": null,
        "pivotColumns": null,
        "xColumns": null,
        "yColumns": null
       },
       "removedWidgets": [],
       "schema": [
        {
         "metadata": "{}",
         "name": "match_id",
         "type": "\"integer\""
        },
        {
         "metadata": "{\"__detected_date_formats\":\"yyyy-M-d\"}",
         "name": "date",
         "type": "\"date\""
        },
        {
         "metadata": "{}",
         "name": "player_name",
         "type": "\"string\""
        },
        {
         "metadata": "{}",
         "name": "GoalsScored",
         "type": "\"integer\""
        }
       ],
       "type": "table"
      }
     },
     "output_type": "display_data"
    }
   ],
   "source": [
    "%sql\n",
    "-- Join players with matches to see player performance in each match\n",
    "SELECT m.MatchID as match_id, m.Date as date, p.Name as player_name, m.GoalsScored\n",
    "FROM matches_csv m\n",
    "INNER JOIN players_csv p ON m.PlayerID = p.PlayerID\n",
    "WHERE p.PlayerID IS NOT NULL\n",
    "AND m.PlayerID IS NOT NULL\n",
    "LIMIT 20;"
   ]
  },
  {
   "cell_type": "code",
   "execution_count": 0,
   "metadata": {
    "application/vnd.databricks.v1+cell": {
     "cellMetadata": {
      "byteLimit": 2048000,
      "implicitDf": true,
      "rowLimit": 10000
     },
     "inputWidgets": {},
     "nuid": "093166ec-5968-4d05-8a80-c22956aa9219",
     "showTitle": false,
     "title": ""
    }
   },
   "outputs": [
    {
     "output_type": "display_data",
     "data": {
      "text/html": [
       "<style scoped>\n",
       "  .table-result-container {\n",
       "    max-height: 300px;\n",
       "    overflow: auto;\n",
       "  }\n",
       "  table, th, td {\n",
       "    border: 1px solid black;\n",
       "    border-collapse: collapse;\n",
       "  }\n",
       "  th, td {\n",
       "    padding: 5px;\n",
       "  }\n",
       "  th {\n",
       "    text-align: left;\n",
       "  }\n",
       "</style><div class='table-result-container'><table class='table-result'><thead style='background-color: white'><tr><th>col_name</th><th>data_type</th><th>comment</th></tr></thead><tbody><tr><td>PlayerID</td><td>int</td><td>null</td></tr><tr><td>Name</td><td>string</td><td>null</td></tr><tr><td>Position</td><td>string</td><td>null</td></tr><tr><td>Nationality</td><td>string</td><td>null</td></tr><tr><td>Age</td><td>int</td><td>null</td></tr><tr><td>Appearances</td><td>int</td><td>null</td></tr><tr><td>Goals</td><td>int</td><td>null</td></tr><tr><td>Assists</td><td>int</td><td>null</td></tr></tbody></table></div>"
      ]
     },
     "metadata": {
      "application/vnd.databricks.v1+output": {
       "addedWidgets": {},
       "aggData": [],
       "aggError": "",
       "aggOverflow": false,
       "aggSchema": [],
       "aggSeriesLimitReached": false,
       "aggType": "",
       "arguments": {},
       "columnCustomDisplayInfos": {},
       "data": [
        [
         "PlayerID",
         "int",
         null
        ],
        [
         "Name",
         "string",
         null
        ],
        [
         "Position",
         "string",
         null
        ],
        [
         "Nationality",
         "string",
         null
        ],
        [
         "Age",
         "int",
         null
        ],
        [
         "Appearances",
         "int",
         null
        ],
        [
         "Goals",
         "int",
         null
        ],
        [
         "Assists",
         "int",
         null
        ]
       ],
       "datasetInfos": [],
       "dbfsResultPath": null,
       "isJsonSchema": true,
       "metadata": {},
       "overflow": false,
       "plotOptions": {
        "customPlotOptions": {},
        "displayType": "table",
        "pivotAggregation": null,
        "pivotColumns": null,
        "xColumns": null,
        "yColumns": null
       },
       "removedWidgets": [],
       "schema": [
        {
         "metadata": "{\"comment\":\"name of the column\"}",
         "name": "col_name",
         "type": "\"string\""
        },
        {
         "metadata": "{\"comment\":\"data type of the column\"}",
         "name": "data_type",
         "type": "\"string\""
        },
        {
         "metadata": "{\"comment\":\"comment of the column\"}",
         "name": "comment",
         "type": "\"string\""
        }
       ],
       "type": "table"
      }
     },
     "output_type": "display_data"
    }
   ],
   "source": [
    "%sql\n",
    "-- Describe the schema of the financials_csv table\n",
    "DESCRIBE financials_csv;"
   ]
  },
  {
   "cell_type": "code",
   "execution_count": 0,
   "metadata": {
    "application/vnd.databricks.v1+cell": {
     "cellMetadata": {
      "byteLimit": 2048000,
      "implicitDf": true,
      "rowLimit": 10000
     },
     "inputWidgets": {},
     "nuid": "dff84cf5-9056-4742-ba0f-c70c19c1ed42",
     "showTitle": false,
     "title": ""
    }
   },
   "outputs": [
    {
     "output_type": "display_data",
     "data": {
      "text/html": [
       "<style scoped>\n",
       "  .table-result-container {\n",
       "    max-height: 300px;\n",
       "    overflow: auto;\n",
       "  }\n",
       "  table, th, td {\n",
       "    border: 1px solid black;\n",
       "    border-collapse: collapse;\n",
       "  }\n",
       "  th, td {\n",
       "    padding: 5px;\n",
       "  }\n",
       "  th {\n",
       "    text-align: left;\n",
       "  }\n",
       "</style><div class='table-result-container'><table class='table-result'><thead style='background-color: white'><tr></tr></thead><tbody></tbody></table></div>"
      ]
     },
     "metadata": {
      "application/vnd.databricks.v1+output": {
       "addedWidgets": {},
       "aggData": [],
       "aggError": "",
       "aggOverflow": false,
       "aggSchema": [],
       "aggSeriesLimitReached": false,
       "aggType": "",
       "arguments": {},
       "columnCustomDisplayInfos": {},
       "data": [],
       "datasetInfos": [],
       "dbfsResultPath": null,
       "isJsonSchema": true,
       "metadata": {},
       "overflow": false,
       "plotOptions": {
        "customPlotOptions": {},
        "displayType": "table",
        "pivotAggregation": null,
        "pivotColumns": null,
        "xColumns": null,
        "yColumns": null
       },
       "removedWidgets": [],
       "schema": [],
       "type": "table"
      }
     },
     "output_type": "display_data"
    }
   ],
   "source": [
    "%sql\n",
    "-- Add a column for revenue to the financials_csv table\n",
    "ALTER TABLE financials_csv ADD COLUMNS (Revenue FLOAT);"
   ]
  },
  {
   "cell_type": "code",
   "execution_count": 0,
   "metadata": {
    "application/vnd.databricks.v1+cell": {
     "cellMetadata": {
      "byteLimit": 2048000,
      "implicitDf": true,
      "rowLimit": 10000
     },
     "inputWidgets": {},
     "nuid": "c3736471-8a22-437d-b88f-1a5d48148e25",
     "showTitle": false,
     "title": ""
    }
   },
   "outputs": [
    {
     "output_type": "display_data",
     "data": {
      "text/html": [
       "<style scoped>\n",
       "  .table-result-container {\n",
       "    max-height: 300px;\n",
       "    overflow: auto;\n",
       "  }\n",
       "  table, th, td {\n",
       "    border: 1px solid black;\n",
       "    border-collapse: collapse;\n",
       "  }\n",
       "  th, td {\n",
       "    padding: 5px;\n",
       "  }\n",
       "  th {\n",
       "    text-align: left;\n",
       "  }\n",
       "</style><div class='table-result-container'><table class='table-result'><thead style='background-color: white'><tr></tr></thead><tbody></tbody></table></div>"
      ]
     },
     "metadata": {
      "application/vnd.databricks.v1+output": {
       "addedWidgets": {},
       "aggData": [],
       "aggError": "",
       "aggOverflow": false,
       "aggSchema": [],
       "aggSeriesLimitReached": false,
       "aggType": "",
       "arguments": {},
       "columnCustomDisplayInfos": {},
       "data": [],
       "datasetInfos": [],
       "dbfsResultPath": null,
       "isJsonSchema": true,
       "metadata": {},
       "overflow": false,
       "plotOptions": {
        "customPlotOptions": {},
        "displayType": "table",
        "pivotAggregation": null,
        "pivotColumns": null,
        "xColumns": null,
        "yColumns": null
       },
       "removedWidgets": [],
       "schema": [],
       "type": "table"
      }
     },
     "output_type": "display_data"
    }
   ],
   "source": [
    "%sql\n",
    "-- Insert sample data into financials_csv with Revenue\n",
    "INSERT INTO financials_csv (PlayerID, Name, Position, Nationality, Age, Appearances, Goals, Assists, Revenue)\n",
    "VALUES\n",
    "(1, 'Player A', 'Forward', 'Country A', 25, 30, 10, 5, 100000),\n",
    "(2, 'Player B', 'Midfielder', 'Country B', 27, 28, 8, 12, 120000),\n",
    "(3, 'Player C', 'Defender', 'Country C', 30, 26, 5, 4, 90000);"
   ]
  },
  {
   "cell_type": "code",
   "execution_count": 0,
   "metadata": {
    "application/vnd.databricks.v1+cell": {
     "cellMetadata": {
      "byteLimit": 2048000,
      "implicitDf": true,
      "rowLimit": 10000
     },
     "inputWidgets": {},
     "nuid": "6abf195d-6ecf-45f3-9127-a1d3e8526a91",
     "showTitle": false,
     "title": ""
    }
   },
   "outputs": [
    {
     "output_type": "display_data",
     "data": {
      "text/html": [
       "<style scoped>\n",
       "  .table-result-container {\n",
       "    max-height: 300px;\n",
       "    overflow: auto;\n",
       "  }\n",
       "  table, th, td {\n",
       "    border: 1px solid black;\n",
       "    border-collapse: collapse;\n",
       "  }\n",
       "  th, td {\n",
       "    padding: 5px;\n",
       "  }\n",
       "  th {\n",
       "    text-align: left;\n",
       "  }\n",
       "</style><div class='table-result-container'><table class='table-result'><thead style='background-color: white'><tr><th>total_revenue</th></tr></thead><tbody><tr><td>310000.0</td></tr></tbody></table></div>"
      ]
     },
     "metadata": {
      "application/vnd.databricks.v1+output": {
       "addedWidgets": {},
       "aggData": [],
       "aggError": "",
       "aggOverflow": false,
       "aggSchema": [],
       "aggSeriesLimitReached": false,
       "aggType": "",
       "arguments": {},
       "columnCustomDisplayInfos": {},
       "data": [
        [
         310000.0
        ]
       ],
       "datasetInfos": [],
       "dbfsResultPath": null,
       "isJsonSchema": true,
       "metadata": {},
       "overflow": false,
       "plotOptions": {
        "customPlotOptions": {},
        "displayType": "table",
        "pivotAggregation": null,
        "pivotColumns": null,
        "xColumns": null,
        "yColumns": null
       },
       "removedWidgets": [],
       "schema": [
        {
         "metadata": "{}",
         "name": "total_revenue",
         "type": "\"double\""
        }
       ],
       "type": "table"
      }
     },
     "output_type": "display_data"
    }
   ],
   "source": [
    "%sql\n",
    "-- Calculate total revenue for the club\n",
    "SELECT SUM(Revenue) as total_revenue\n",
    "FROM financials_csv;"
   ]
  },
  {
   "cell_type": "code",
   "execution_count": 0,
   "metadata": {
    "application/vnd.databricks.v1+cell": {
     "cellMetadata": {
      "byteLimit": 2048000,
      "implicitDf": true,
      "rowLimit": 10000
     },
     "inputWidgets": {},
     "nuid": "f7363aed-f5cf-440e-91a9-b9b898a80991",
     "showTitle": false,
     "title": ""
    }
   },
   "outputs": [
    {
     "output_type": "display_data",
     "data": {
      "text/html": [
       "<style scoped>\n",
       "  .table-result-container {\n",
       "    max-height: 300px;\n",
       "    overflow: auto;\n",
       "  }\n",
       "  table, th, td {\n",
       "    border: 1px solid black;\n",
       "    border-collapse: collapse;\n",
       "  }\n",
       "  th, td {\n",
       "    padding: 5px;\n",
       "  }\n",
       "  th {\n",
       "    text-align: left;\n",
       "  }\n",
       "</style><div class='table-result-container'><table class='table-result'><thead style='background-color: white'><tr><th>player_name</th><th>total_goals</th></tr></thead><tbody><tr><td>Raheem Sterling</td><td>4</td></tr><tr><td>Ben Chilwell</td><td>3</td></tr><tr><td>Kepa Arrizabalaga</td><td>2</td></tr><tr><td>Enzo Fernández</td><td>2</td></tr><tr><td>Thiago Silva</td><td>1</td></tr><tr><td>Reece James</td><td>0</td></tr></tbody></table></div>"
      ]
     },
     "metadata": {
      "application/vnd.databricks.v1+output": {
       "addedWidgets": {},
       "aggData": [],
       "aggError": "",
       "aggOverflow": false,
       "aggSchema": [],
       "aggSeriesLimitReached": false,
       "aggType": "",
       "arguments": {},
       "columnCustomDisplayInfos": {},
       "data": [
        [
         "Raheem Sterling",
         4
        ],
        [
         "Ben Chilwell",
         3
        ],
        [
         "Kepa Arrizabalaga",
         2
        ],
        [
         "Enzo Fernández",
         2
        ],
        [
         "Thiago Silva",
         1
        ],
        [
         "Reece James",
         0
        ]
       ],
       "datasetInfos": [],
       "dbfsResultPath": null,
       "isJsonSchema": true,
       "metadata": {},
       "overflow": false,
       "plotOptions": {
        "customPlotOptions": {},
        "displayType": "table",
        "pivotAggregation": null,
        "pivotColumns": null,
        "xColumns": null,
        "yColumns": null
       },
       "removedWidgets": [],
       "schema": [
        {
         "metadata": "{}",
         "name": "player_name",
         "type": "\"string\""
        },
        {
         "metadata": "{}",
         "name": "total_goals",
         "type": "\"long\""
        }
       ],
       "type": "table"
      }
     },
     "output_type": "display_data"
    }
   ],
   "source": [
    "%sql\n",
    "-- Find the top goal scorers\n",
    "SELECT p.Name as player_name, SUM(m.GoalsScored) as total_goals\n",
    "FROM matches_csv m\n",
    "INNER JOIN players_csv p ON m.PlayerID = p.PlayerID\n",
    "GROUP BY p.Name\n",
    "ORDER BY total_goals DESC\n",
    "LIMIT 10;"
   ]
  },
  {
   "cell_type": "markdown",
   "metadata": {
    "application/vnd.databricks.v1+cell": {
     "cellMetadata": {},
     "inputWidgets": {},
     "nuid": "88464197-27c8-46ea-a78d-7f5a8399ccf5",
     "showTitle": false,
     "title": ""
    }
   },
   "source": [
    "Loading the Data into Databricks\n",
    "Historical Performance:"
   ]
  },
  {
   "cell_type": "code",
   "execution_count": 0,
   "metadata": {
    "application/vnd.databricks.v1+cell": {
     "cellMetadata": {
      "byteLimit": 2048000,
      "implicitDf": true,
      "rowLimit": 10000
     },
     "inputWidgets": {},
     "nuid": "c48218cd-4d55-45cc-ad98-031cec008460",
     "showTitle": false,
     "title": ""
    }
   },
   "outputs": [
    {
     "output_type": "display_data",
     "data": {
      "text/html": [
       "<style scoped>\n",
       "  .table-result-container {\n",
       "    max-height: 300px;\n",
       "    overflow: auto;\n",
       "  }\n",
       "  table, th, td {\n",
       "    border: 1px solid black;\n",
       "    border-collapse: collapse;\n",
       "  }\n",
       "  th, td {\n",
       "    padding: 5px;\n",
       "  }\n",
       "  th {\n",
       "    text-align: left;\n",
       "  }\n",
       "</style><div class='table-result-container'><table class='table-result'><thead style='background-color: white'><tr><th>_c0</th><th>_c1</th><th>_c2</th><th>_c3</th><th>_c4</th><th>_c5</th><th>_c6</th></tr></thead><tbody><tr><td>MatchID</td><td>Date</td><td>Opponent</td><td>Home/Away</td><td>Result</td><td>GoalsScored</td><td>GoalsConceded</td></tr><tr><td>1</td><td>2023-01-10</td><td>Manchester United</td><td>Home</td><td>Win</td><td>2</td><td>1</td></tr><tr><td>2</td><td>2023-01-15</td><td>Liverpool</td><td>Away</td><td>Draw</td><td>1</td><td>1</td></tr><tr><td>3</td><td>2023-01-22</td><td>Arsenal</td><td>Home</td><td>Win</td><td>3</td><td>1</td></tr><tr><td>4</td><td>2023-01-29</td><td>Chelsea</td><td>Away</td><td>Lose</td><td>0</td><td>2</td></tr><tr><td>5</td><td>2023-02-05</td><td>Tottenham Hotspur</td><td>Home</td><td>Win</td><td>2</td><td>0</td></tr><tr><td>6</td><td>2023-02-12</td><td>Everton</td><td>Away</td><td>Draw</td><td>1</td><td>1</td></tr><tr><td>7</td><td>2023-02-19</td><td>Leicester City</td><td>Home</td><td>Win</td><td>4</td><td>2</td></tr><tr><td>8</td><td>2023-02-26</td><td>Newcastle</td><td>Away</td><td>Win</td><td>1</td><td>0</td></tr><tr><td>9</td><td>2023-03-05</td><td>Brighton</td><td>Home</td><td>Draw</td><td>1</td><td>1</td></tr></tbody></table></div>"
      ]
     },
     "metadata": {
      "application/vnd.databricks.v1+output": {
       "addedWidgets": {},
       "aggData": [],
       "aggError": "",
       "aggOverflow": false,
       "aggSchema": [],
       "aggSeriesLimitReached": false,
       "aggType": "",
       "arguments": {},
       "columnCustomDisplayInfos": {},
       "data": [
        [
         "MatchID",
         "Date",
         "Opponent",
         "Home/Away",
         "Result",
         "GoalsScored",
         "GoalsConceded"
        ],
        [
         "1",
         "2023-01-10",
         "Manchester United",
         "Home",
         "Win",
         "2",
         "1"
        ],
        [
         "2",
         "2023-01-15",
         "Liverpool",
         "Away",
         "Draw",
         "1",
         "1"
        ],
        [
         "3",
         "2023-01-22",
         "Arsenal",
         "Home",
         "Win",
         "3",
         "1"
        ],
        [
         "4",
         "2023-01-29",
         "Chelsea",
         "Away",
         "Lose",
         "0",
         "2"
        ],
        [
         "5",
         "2023-02-05",
         "Tottenham Hotspur",
         "Home",
         "Win",
         "2",
         "0"
        ],
        [
         "6",
         "2023-02-12",
         "Everton",
         "Away",
         "Draw",
         "1",
         "1"
        ],
        [
         "7",
         "2023-02-19",
         "Leicester City",
         "Home",
         "Win",
         "4",
         "2"
        ],
        [
         "8",
         "2023-02-26",
         "Newcastle",
         "Away",
         "Win",
         "1",
         "0"
        ],
        [
         "9",
         "2023-03-05",
         "Brighton",
         "Home",
         "Draw",
         "1",
         "1"
        ]
       ],
       "datasetInfos": [],
       "dbfsResultPath": null,
       "isJsonSchema": true,
       "metadata": {},
       "overflow": false,
       "plotOptions": {
        "customPlotOptions": {},
        "displayType": "table",
        "pivotAggregation": null,
        "pivotColumns": null,
        "xColumns": null,
        "yColumns": null
       },
       "removedWidgets": [],
       "schema": [
        {
         "metadata": "{}",
         "name": "_c0",
         "type": "\"string\""
        },
        {
         "metadata": "{}",
         "name": "_c1",
         "type": "\"string\""
        },
        {
         "metadata": "{}",
         "name": "_c2",
         "type": "\"string\""
        },
        {
         "metadata": "{}",
         "name": "_c3",
         "type": "\"string\""
        },
        {
         "metadata": "{}",
         "name": "_c4",
         "type": "\"string\""
        },
        {
         "metadata": "{}",
         "name": "_c5",
         "type": "\"string\""
        },
        {
         "metadata": "{}",
         "name": "_c6",
         "type": "\"string\""
        }
       ],
       "type": "table"
      }
     },
     "output_type": "display_data"
    }
   ],
   "source": [
    "%sql\n",
    "-- Load historical performance data\n",
    "CREATE OR REPLACE TEMP VIEW historical_performance_csv AS\n",
    "SELECT *\n",
    "FROM csv.`/FileStore/tables/players/historical_performance_csv.txt`;\n",
    "\n",
    "-- Verify data\n",
    "SELECT * FROM historical_performance_csv LIMIT 10;"
   ]
  },
  {
   "cell_type": "code",
   "execution_count": 0,
   "metadata": {
    "application/vnd.databricks.v1+cell": {
     "cellMetadata": {
      "byteLimit": 2048000,
      "implicitDf": true,
      "rowLimit": 10000
     },
     "inputWidgets": {},
     "nuid": "ce3bf58b-3ba7-4df4-a06a-87e82a65b70c",
     "showTitle": false,
     "title": ""
    }
   },
   "outputs": [],
   "source": [
    "%python\n",
    "# Load historical performance data into a DataFrame\n",
    "df = spark.read.option(\"header\", \"true\").option(\"inferSchema\", \"true\").option(\"delimiter\", \",\").csv(\"/FileStore/tables/players/historical_performance_csv.txt\")\n",
    "\n",
    "# Register the DataFrame as a temporary view\n",
    "df.createOrReplaceTempView(\"historical_performance_csv\")"
   ]
  },
  {
   "cell_type": "code",
   "execution_count": 0,
   "metadata": {
    "application/vnd.databricks.v1+cell": {
     "cellMetadata": {
      "byteLimit": 2048000,
      "implicitDf": true,
      "rowLimit": 10000
     },
     "inputWidgets": {},
     "nuid": "1f1db013-fde8-46cb-b7af-a62c9993a45d",
     "showTitle": false,
     "title": ""
    }
   },
   "outputs": [
    {
     "output_type": "display_data",
     "data": {
      "text/html": [
       "<style scoped>\n",
       "  .table-result-container {\n",
       "    max-height: 300px;\n",
       "    overflow: auto;\n",
       "  }\n",
       "  table, th, td {\n",
       "    border: 1px solid black;\n",
       "    border-collapse: collapse;\n",
       "  }\n",
       "  th, td {\n",
       "    padding: 5px;\n",
       "  }\n",
       "  th {\n",
       "    text-align: left;\n",
       "  }\n",
       "</style><div class='table-result-container'><table class='table-result'><thead style='background-color: white'><tr><th>MatchID</th><th>Date</th><th>Opponent</th><th>Home/Away</th><th>Result</th><th>GoalsScored</th><th>GoalsConceded</th></tr></thead><tbody><tr><td>1</td><td>2023-01-10</td><td>Manchester United</td><td>Home</td><td>Win</td><td>2</td><td>1</td></tr><tr><td>2</td><td>2023-01-15</td><td>Liverpool</td><td>Away</td><td>Draw</td><td>1</td><td>1</td></tr><tr><td>3</td><td>2023-01-22</td><td>Arsenal</td><td>Home</td><td>Win</td><td>3</td><td>1</td></tr><tr><td>4</td><td>2023-01-29</td><td>Chelsea</td><td>Away</td><td>Lose</td><td>0</td><td>2</td></tr><tr><td>5</td><td>2023-02-05</td><td>Tottenham Hotspur</td><td>Home</td><td>Win</td><td>2</td><td>0</td></tr><tr><td>6</td><td>2023-02-12</td><td>Everton</td><td>Away</td><td>Draw</td><td>1</td><td>1</td></tr><tr><td>7</td><td>2023-02-19</td><td>Leicester City</td><td>Home</td><td>Win</td><td>4</td><td>2</td></tr><tr><td>8</td><td>2023-02-26</td><td>Newcastle</td><td>Away</td><td>Win</td><td>1</td><td>0</td></tr><tr><td>9</td><td>2023-03-05</td><td>Brighton</td><td>Home</td><td>Draw</td><td>1</td><td>1</td></tr><tr><td>10</td><td>2023-03-12</td><td>West Ham</td><td>Home</td><td>Win</td><td>2</td><td>1</td></tr></tbody></table></div>"
      ]
     },
     "metadata": {
      "application/vnd.databricks.v1+output": {
       "addedWidgets": {},
       "aggData": [],
       "aggError": "",
       "aggOverflow": false,
       "aggSchema": [],
       "aggSeriesLimitReached": false,
       "aggType": "",
       "arguments": {},
       "columnCustomDisplayInfos": {},
       "data": [
        [
         1,
         "2023-01-10",
         "Manchester United",
         "Home",
         "Win",
         2,
         1
        ],
        [
         2,
         "2023-01-15",
         "Liverpool",
         "Away",
         "Draw",
         1,
         1
        ],
        [
         3,
         "2023-01-22",
         "Arsenal",
         "Home",
         "Win",
         3,
         1
        ],
        [
         4,
         "2023-01-29",
         "Chelsea",
         "Away",
         "Lose",
         0,
         2
        ],
        [
         5,
         "2023-02-05",
         "Tottenham Hotspur",
         "Home",
         "Win",
         2,
         0
        ],
        [
         6,
         "2023-02-12",
         "Everton",
         "Away",
         "Draw",
         1,
         1
        ],
        [
         7,
         "2023-02-19",
         "Leicester City",
         "Home",
         "Win",
         4,
         2
        ],
        [
         8,
         "2023-02-26",
         "Newcastle",
         "Away",
         "Win",
         1,
         0
        ],
        [
         9,
         "2023-03-05",
         "Brighton",
         "Home",
         "Draw",
         1,
         1
        ],
        [
         10,
         "2023-03-12",
         "West Ham",
         "Home",
         "Win",
         2,
         1
        ]
       ],
       "datasetInfos": [],
       "dbfsResultPath": null,
       "isJsonSchema": true,
       "metadata": {},
       "overflow": false,
       "plotOptions": {
        "customPlotOptions": {},
        "displayType": "table",
        "pivotAggregation": null,
        "pivotColumns": null,
        "xColumns": null,
        "yColumns": null
       },
       "removedWidgets": [],
       "schema": [
        {
         "metadata": "{}",
         "name": "MatchID",
         "type": "\"integer\""
        },
        {
         "metadata": "{\"__detected_date_formats\":\"yyyy-M-d\"}",
         "name": "Date",
         "type": "\"date\""
        },
        {
         "metadata": "{}",
         "name": "Opponent",
         "type": "\"string\""
        },
        {
         "metadata": "{}",
         "name": "Home/Away",
         "type": "\"string\""
        },
        {
         "metadata": "{}",
         "name": "Result",
         "type": "\"string\""
        },
        {
         "metadata": "{}",
         "name": "GoalsScored",
         "type": "\"integer\""
        },
        {
         "metadata": "{}",
         "name": "GoalsConceded",
         "type": "\"integer\""
        }
       ],
       "type": "table"
      }
     },
     "output_type": "display_data"
    }
   ],
   "source": [
    "%sql\n",
    "-- Verify data\n",
    "SELECT * FROM historical_performance_csv LIMIT 10;"
   ]
  },
  {
   "cell_type": "markdown",
   "metadata": {
    "application/vnd.databricks.v1+cell": {
     "cellMetadata": {},
     "inputWidgets": {},
     "nuid": "57796f15-dd45-4fc7-854d-0ee54e261aa3",
     "showTitle": false,
     "title": ""
    }
   },
   "source": [
    "Managers:"
   ]
  },
  {
   "cell_type": "code",
   "execution_count": 0,
   "metadata": {
    "application/vnd.databricks.v1+cell": {
     "cellMetadata": {
      "byteLimit": 2048000,
      "implicitDf": true,
      "rowLimit": 10000
     },
     "inputWidgets": {},
     "nuid": "a90c3954-6716-4c07-a3e7-476b8cbd5f94",
     "showTitle": false,
     "title": ""
    }
   },
   "outputs": [],
   "source": [
    "%python\n",
    "# Load managers data into a DataFrame\n",
    "managers_df = spark.read.option(\"header\", \"true\").option(\"inferSchema\", \"true\").option(\"delimiter\", \",\").csv(\"/FileStore/tables/players/managers_csv.txt\")\n",
    "\n",
    "# Register the DataFrame as a temporary view\n",
    "managers_df.createOrReplaceTempView(\"managers_csv\")"
   ]
  },
  {
   "cell_type": "code",
   "execution_count": 0,
   "metadata": {
    "application/vnd.databricks.v1+cell": {
     "cellMetadata": {
      "byteLimit": 2048000,
      "implicitDf": true,
      "rowLimit": 10000
     },
     "inputWidgets": {},
     "nuid": "9ec0d838-3fa0-4b3b-8d6d-7cd1c2465336",
     "showTitle": false,
     "title": ""
    }
   },
   "outputs": [
    {
     "output_type": "display_data",
     "data": {
      "text/html": [
       "<style scoped>\n",
       "  .table-result-container {\n",
       "    max-height: 300px;\n",
       "    overflow: auto;\n",
       "  }\n",
       "  table, th, td {\n",
       "    border: 1px solid black;\n",
       "    border-collapse: collapse;\n",
       "  }\n",
       "  th, td {\n",
       "    padding: 5px;\n",
       "  }\n",
       "  th {\n",
       "    text-align: left;\n",
       "  }\n",
       "</style><div class='table-result-container'><table class='table-result'><thead style='background-color: white'><tr><th>ManagerID</th><th>Name</th><th>StartDate</th><th>EndDate</th></tr></thead><tbody><tr><td>1</td><td>Frank Lampard</td><td>2020-01-01</td><td>2021-06-30</td></tr><tr><td>2</td><td>Thomas Tuchel</td><td>2021-07-01</td><td>2022-09-05</td></tr><tr><td>3</td><td>Graham Potter</td><td>2022-09-06</td><td>2023-05-10</td></tr><tr><td>4</td><td>Pochettino</td><td>2023-05-11</td><td>Present</td></tr><tr><td>5</td><td>Antonio Conte</td><td>2019-01-01</td><td>2019-12-31</td></tr><tr><td>6</td><td>Jose Mourinho</td><td>2018-01-01</td><td>2018-12-31</td></tr><tr><td>7</td><td>Carlo Ancelotti</td><td>2017-01-01</td><td>2017-12-31</td></tr><tr><td>8</td><td>Roberto Di Matteo</td><td>2012-03-01</td><td>2012-05-19</td></tr><tr><td>9</td><td>Andre Villas-Boas</td><td>2011-07-01</td><td>2012-03-04</td></tr><tr><td>10</td><td>Guus Hiddink</td><td>2009-02-02</td><td>2009-05-29</td></tr></tbody></table></div>"
      ]
     },
     "metadata": {
      "application/vnd.databricks.v1+output": {
       "addedWidgets": {},
       "aggData": [],
       "aggError": "",
       "aggOverflow": false,
       "aggSchema": [],
       "aggSeriesLimitReached": false,
       "aggType": "",
       "arguments": {},
       "columnCustomDisplayInfos": {},
       "data": [
        [
         1,
         "Frank Lampard",
         "2020-01-01",
         "2021-06-30"
        ],
        [
         2,
         "Thomas Tuchel",
         "2021-07-01",
         "2022-09-05"
        ],
        [
         3,
         "Graham Potter",
         "2022-09-06",
         "2023-05-10"
        ],
        [
         4,
         "Pochettino",
         "2023-05-11",
         "Present"
        ],
        [
         5,
         "Antonio Conte",
         "2019-01-01",
         "2019-12-31"
        ],
        [
         6,
         "Jose Mourinho",
         "2018-01-01",
         "2018-12-31"
        ],
        [
         7,
         "Carlo Ancelotti",
         "2017-01-01",
         "2017-12-31"
        ],
        [
         8,
         "Roberto Di Matteo",
         "2012-03-01",
         "2012-05-19"
        ],
        [
         9,
         "Andre Villas-Boas",
         "2011-07-01",
         "2012-03-04"
        ],
        [
         10,
         "Guus Hiddink",
         "2009-02-02",
         "2009-05-29"
        ]
       ],
       "datasetInfos": [],
       "dbfsResultPath": null,
       "isJsonSchema": true,
       "metadata": {},
       "overflow": false,
       "plotOptions": {
        "customPlotOptions": {},
        "displayType": "table",
        "pivotAggregation": null,
        "pivotColumns": null,
        "xColumns": null,
        "yColumns": null
       },
       "removedWidgets": [],
       "schema": [
        {
         "metadata": "{}",
         "name": "ManagerID",
         "type": "\"integer\""
        },
        {
         "metadata": "{}",
         "name": "Name",
         "type": "\"string\""
        },
        {
         "metadata": "{\"__detected_date_formats\":\"yyyy-M-d\"}",
         "name": "StartDate",
         "type": "\"date\""
        },
        {
         "metadata": "{}",
         "name": "EndDate",
         "type": "\"string\""
        }
       ],
       "type": "table"
      }
     },
     "output_type": "display_data"
    }
   ],
   "source": [
    "%sql\n",
    "-- Verify data\n",
    "SELECT * FROM managers_csv LIMIT 10;"
   ]
  },
  {
   "cell_type": "markdown",
   "metadata": {
    "application/vnd.databricks.v1+cell": {
     "cellMetadata": {},
     "inputWidgets": {},
     "nuid": "7a84896c-2571-4b76-a350-c01bdd4cd658",
     "showTitle": false,
     "title": ""
    }
   },
   "source": [
    "Given the schema for the managers_csv table, it looks like you have a list of managers with their start and end dates. Unfortunately, this table does not directly include performance metrics. However, if you want to analyze the performance of different managers based on historical match data, you will need to establish a relationship between the managers and matches.\n",
    "\n",
    "Possible Approach for Manager Performance Analysis\n",
    "Assumption: If historical performance data is associated with managers, you would typically have a way to link matches with managers. For instance, if there is an additional column or table linking managers to specific matches, that would be ideal.\n",
    "\n",
    "Manually Linking Managers to Matches: If this information is missing, you might need to make some assumptions or adjustments to link managers to matches. For example, you might assume that managers were in charge during certain periods and then analyze match data accordingly.\n",
    "\n",
    "Example Queries\n",
    "Assuming we have a way to link managers to matches, here’s an example of how you might analyze manager performance based on match results:\n",
    "\n",
    "Example 1: Total Matches and Average Goals Scored by Manager\n",
    "If you had a table linking MatchID with ManagerID, you could write a query like this:"
   ]
  },
  {
   "cell_type": "markdown",
   "metadata": {
    "application/vnd.databricks.v1+cell": {
     "cellMetadata": {},
     "inputWidgets": {},
     "nuid": "5ba81ca5-10b9-4b8f-9baf-b4071d9241d4",
     "showTitle": false,
     "title": ""
    }
   },
   "source": [
    "Creating the match_manager_link Table\n",
    "If you have or can obtain data to create this table, you would typically define it and populate it based on the matches and managers information you have.\n",
    "\n",
    "Sample SQL to Create Table:"
   ]
  },
  {
   "cell_type": "code",
   "execution_count": 0,
   "metadata": {
    "application/vnd.databricks.v1+cell": {
     "cellMetadata": {
      "byteLimit": 2048000,
      "implicitDf": true,
      "rowLimit": 10000
     },
     "inputWidgets": {},
     "nuid": "59064f22-8da1-48ee-b177-4f405f76383c",
     "showTitle": false,
     "title": ""
    }
   },
   "outputs": [
    {
     "output_type": "display_data",
     "data": {
      "text/html": [
       "<style scoped>\n",
       "  .table-result-container {\n",
       "    max-height: 300px;\n",
       "    overflow: auto;\n",
       "  }\n",
       "  table, th, td {\n",
       "    border: 1px solid black;\n",
       "    border-collapse: collapse;\n",
       "  }\n",
       "  th, td {\n",
       "    padding: 5px;\n",
       "  }\n",
       "  th {\n",
       "    text-align: left;\n",
       "  }\n",
       "</style><div class='table-result-container'><table class='table-result'><thead style='background-color: white'><tr></tr></thead><tbody></tbody></table></div>"
      ]
     },
     "metadata": {
      "application/vnd.databricks.v1+output": {
       "addedWidgets": {},
       "aggData": [],
       "aggError": "",
       "aggOverflow": false,
       "aggSchema": [],
       "aggSeriesLimitReached": false,
       "aggType": "",
       "arguments": {},
       "columnCustomDisplayInfos": {},
       "data": [],
       "datasetInfos": [],
       "dbfsResultPath": null,
       "isJsonSchema": true,
       "metadata": {},
       "overflow": false,
       "plotOptions": {
        "customPlotOptions": {},
        "displayType": "table",
        "pivotAggregation": null,
        "pivotColumns": null,
        "xColumns": null,
        "yColumns": null
       },
       "removedWidgets": [],
       "schema": [],
       "type": "table"
      }
     },
     "output_type": "display_data"
    }
   ],
   "source": [
    "%sql\n",
    "CREATE TABLE match_manager_link (\n",
    "    MatchID INT,\n",
    "    ManagerID INT\n",
    ");"
   ]
  },
  {
   "cell_type": "markdown",
   "metadata": {
    "application/vnd.databricks.v1+cell": {
     "cellMetadata": {},
     "inputWidgets": {},
     "nuid": "b997bce8-1850-4f43-8b2a-621188d316a2",
     "showTitle": false,
     "title": ""
    }
   },
   "source": [
    "Inserting Data into the Table\n",
    "Once the table is created, you can insert the data into it. You would need to provide the data based on your matches and managers:"
   ]
  },
  {
   "cell_type": "code",
   "execution_count": 0,
   "metadata": {
    "application/vnd.databricks.v1+cell": {
     "cellMetadata": {
      "byteLimit": 2048000,
      "implicitDf": true,
      "rowLimit": 10000
     },
     "inputWidgets": {},
     "nuid": "a639ea2a-b8b7-43e6-8c22-f5994772d9ae",
     "showTitle": false,
     "title": ""
    }
   },
   "outputs": [
    {
     "output_type": "display_data",
     "data": {
      "text/html": [
       "<style scoped>\n",
       "  .table-result-container {\n",
       "    max-height: 300px;\n",
       "    overflow: auto;\n",
       "  }\n",
       "  table, th, td {\n",
       "    border: 1px solid black;\n",
       "    border-collapse: collapse;\n",
       "  }\n",
       "  th, td {\n",
       "    padding: 5px;\n",
       "  }\n",
       "  th {\n",
       "    text-align: left;\n",
       "  }\n",
       "</style><div class='table-result-container'><table class='table-result'><thead style='background-color: white'><tr><th>num_affected_rows</th><th>num_inserted_rows</th></tr></thead><tbody><tr><td>3</td><td>3</td></tr></tbody></table></div>"
      ]
     },
     "metadata": {
      "application/vnd.databricks.v1+output": {
       "addedWidgets": {},
       "aggData": [],
       "aggError": "",
       "aggOverflow": false,
       "aggSchema": [],
       "aggSeriesLimitReached": false,
       "aggType": "",
       "arguments": {},
       "columnCustomDisplayInfos": {},
       "data": [
        [
         3,
         3
        ]
       ],
       "datasetInfos": [],
       "dbfsResultPath": null,
       "isJsonSchema": true,
       "metadata": {},
       "overflow": false,
       "plotOptions": {
        "customPlotOptions": {},
        "displayType": "table",
        "pivotAggregation": null,
        "pivotColumns": null,
        "xColumns": null,
        "yColumns": null
       },
       "removedWidgets": [],
       "schema": [
        {
         "metadata": "{}",
         "name": "num_affected_rows",
         "type": "\"long\""
        },
        {
         "metadata": "{}",
         "name": "num_inserted_rows",
         "type": "\"long\""
        }
       ],
       "type": "table"
      }
     },
     "output_type": "display_data"
    }
   ],
   "source": [
    "%sql\n",
    "INSERT INTO match_manager_link (MatchID, ManagerID)\n",
    "VALUES\n",
    "(1, 2),\n",
    "(2, 3),\n",
    "(3, 4)\n",
    "-- Add more rows as needed\n",
    ";"
   ]
  },
  {
   "cell_type": "markdown",
   "metadata": {
    "application/vnd.databricks.v1+cell": {
     "cellMetadata": {},
     "inputWidgets": {},
     "nuid": "993556ab-1939-478c-a04f-9e3e3305b7f6",
     "showTitle": false,
     "title": ""
    }
   },
   "source": [
    "The match_manager_link table is typically used to establish a relationship between matches and managers. It helps link specific matches to the managers who were in charge during those matches. Here’s how this table would generally work:\n",
    "\n",
    "Structure of match_manager_link Table\n",
    "Columns:\n",
    "\n",
    "MatchID: The unique identifier for each match. This would reference the MatchID in the historical_performance_csv table.\n",
    "ManagerID: The unique identifier for each manager. This would reference the ManagerID in the managers_csv table.\n",
    "Sample Structure:\n",
    "\n",
    "plaintext\n",
    "Copy code\n",
    "MatchID    | ManagerID\n",
    "----------------------\n",
    "1         | 2\n",
    "2         | 3\n",
    "3         | 4\n",
    "Purpose\n",
    "Linking Data: This table links the historical_performance_csv (which contains match performance data) with the managers_csv (which contains information about managers). This helps in understanding which manager was in charge during specific matches.\n",
    "Analysis: It allows for detailed analysis of managerial impact. For instance, you can analyze how different managers performed in terms of match outcomes, average goals scored, etc."
   ]
  },
  {
   "cell_type": "markdown",
   "metadata": {
    "application/vnd.databricks.v1+cell": {
     "cellMetadata": {},
     "inputWidgets": {},
     "nuid": "a355fa95-698a-4938-9b37-3e099059e893",
     "showTitle": false,
     "title": ""
    }
   },
   "source": [
    "Verifying Data\n",
    "You can verify the data inserted into the table:"
   ]
  },
  {
   "cell_type": "markdown",
   "metadata": {
    "application/vnd.databricks.v1+cell": {
     "cellMetadata": {},
     "inputWidgets": {},
     "nuid": "b5b8dfe9-4a14-4eea-b2bc-c69af9a3f62e",
     "showTitle": false,
     "title": ""
    }
   },
   "source": [
    "Example Use Cases\n",
    "Performance Analysis:\n",
    "\n",
    "Determine which manager had the most successful matches or the highest average goals scored."
   ]
  },
  {
   "cell_type": "code",
   "execution_count": 0,
   "metadata": {
    "application/vnd.databricks.v1+cell": {
     "cellMetadata": {
      "byteLimit": 2048000,
      "implicitDf": true,
      "rowLimit": 10000
     },
     "inputWidgets": {},
     "nuid": "bc1e9bbd-7f57-4560-9c2d-05683a537207",
     "showTitle": false,
     "title": ""
    }
   },
   "outputs": [
    {
     "output_type": "display_data",
     "data": {
      "text/html": [
       "<style scoped>\n",
       "  .table-result-container {\n",
       "    max-height: 300px;\n",
       "    overflow: auto;\n",
       "  }\n",
       "  table, th, td {\n",
       "    border: 1px solid black;\n",
       "    border-collapse: collapse;\n",
       "  }\n",
       "  th, td {\n",
       "    padding: 5px;\n",
       "  }\n",
       "  th {\n",
       "    text-align: left;\n",
       "  }\n",
       "</style><div class='table-result-container'><table class='table-result'><thead style='background-color: white'><tr><th>ManagerName</th><th>TotalMatches</th><th>AvgGoalsScored</th></tr></thead><tbody><tr><td>Pochettino</td><td>1</td><td>3.0</td></tr><tr><td>Thomas Tuchel</td><td>1</td><td>2.0</td></tr><tr><td>Graham Potter</td><td>1</td><td>1.0</td></tr></tbody></table></div>"
      ]
     },
     "metadata": {
      "application/vnd.databricks.v1+output": {
       "addedWidgets": {},
       "aggData": [],
       "aggError": "",
       "aggOverflow": false,
       "aggSchema": [],
       "aggSeriesLimitReached": false,
       "aggType": "",
       "arguments": {},
       "columnCustomDisplayInfos": {},
       "data": [
        [
         "Pochettino",
         1,
         3.0
        ],
        [
         "Thomas Tuchel",
         1,
         2.0
        ],
        [
         "Graham Potter",
         1,
         1.0
        ]
       ],
       "datasetInfos": [],
       "dbfsResultPath": null,
       "isJsonSchema": true,
       "metadata": {},
       "overflow": false,
       "plotOptions": {
        "customPlotOptions": {},
        "displayType": "table",
        "pivotAggregation": null,
        "pivotColumns": null,
        "xColumns": null,
        "yColumns": null
       },
       "removedWidgets": [],
       "schema": [
        {
         "metadata": "{}",
         "name": "ManagerName",
         "type": "\"string\""
        },
        {
         "metadata": "{}",
         "name": "TotalMatches",
         "type": "\"long\""
        },
        {
         "metadata": "{}",
         "name": "AvgGoalsScored",
         "type": "\"double\""
        }
       ],
       "type": "table"
      }
     },
     "output_type": "display_data"
    }
   ],
   "source": [
    "%sql\n",
    "SELECT m.Name AS ManagerName, COUNT(h.MatchID) AS TotalMatches, AVG(h.GoalsScored) AS AvgGoalsScored\n",
    "FROM historical_performance_csv h\n",
    "JOIN match_manager_link mm ON h.MatchID = mm.MatchID\n",
    "JOIN managers_csv m ON mm.ManagerID = m.ManagerID\n",
    "GROUP BY m.Name\n",
    "ORDER BY AvgGoalsScored DESC;"
   ]
  },
  {
   "cell_type": "markdown",
   "metadata": {
    "application/vnd.databricks.v1+cell": {
     "cellMetadata": {},
     "inputWidgets": {},
     "nuid": "3c5665e4-678c-4dc5-807d-9db9eb2a849b",
     "showTitle": false,
     "title": ""
    }
   },
   "source": [
    "Match History by Manager:\n",
    "\n",
    "Review all matches managed by a specific manager to analyze their performance over time."
   ]
  },
  {
   "cell_type": "code",
   "execution_count": 0,
   "metadata": {
    "application/vnd.databricks.v1+cell": {
     "cellMetadata": {
      "byteLimit": 2048000,
      "implicitDf": true,
      "rowLimit": 10000
     },
     "inputWidgets": {},
     "nuid": "f44103b8-2648-495a-9ca8-fddf18f61f63",
     "showTitle": false,
     "title": ""
    }
   },
   "outputs": [
    {
     "output_type": "display_data",
     "data": {
      "text/html": [
       "<style scoped>\n",
       "  .table-result-container {\n",
       "    max-height: 300px;\n",
       "    overflow: auto;\n",
       "  }\n",
       "  table, th, td {\n",
       "    border: 1px solid black;\n",
       "    border-collapse: collapse;\n",
       "  }\n",
       "  th, td {\n",
       "    padding: 5px;\n",
       "  }\n",
       "  th {\n",
       "    text-align: left;\n",
       "  }\n",
       "</style><div class='table-result-container'><table class='table-result'><thead style='background-color: white'><tr><th>ManagerName</th><th>MatchID</th><th>Date</th><th>Opponent</th><th>GoalsScored</th><th>GoalsConceded</th></tr></thead><tbody></tbody></table></div>"
      ]
     },
     "metadata": {
      "application/vnd.databricks.v1+output": {
       "addedWidgets": {},
       "aggData": [],
       "aggError": "",
       "aggOverflow": false,
       "aggSchema": [],
       "aggSeriesLimitReached": false,
       "aggType": "",
       "arguments": {},
       "columnCustomDisplayInfos": {},
       "data": [],
       "datasetInfos": [],
       "dbfsResultPath": null,
       "isJsonSchema": true,
       "metadata": {},
       "overflow": false,
       "plotOptions": {
        "customPlotOptions": {},
        "displayType": "table",
        "pivotAggregation": null,
        "pivotColumns": null,
        "xColumns": null,
        "yColumns": null
       },
       "removedWidgets": [],
       "schema": [
        {
         "metadata": "{}",
         "name": "ManagerName",
         "type": "\"string\""
        },
        {
         "metadata": "{}",
         "name": "MatchID",
         "type": "\"integer\""
        },
        {
         "metadata": "{\"__detected_date_formats\":\"yyyy-M-d\"}",
         "name": "Date",
         "type": "\"date\""
        },
        {
         "metadata": "{}",
         "name": "Opponent",
         "type": "\"string\""
        },
        {
         "metadata": "{}",
         "name": "GoalsScored",
         "type": "\"integer\""
        },
        {
         "metadata": "{}",
         "name": "GoalsConceded",
         "type": "\"integer\""
        }
       ],
       "type": "table"
      }
     },
     "output_type": "display_data"
    }
   ],
   "source": [
    "%sql\n",
    "SELECT m.Name AS ManagerName, h.MatchID, h.Date, h.Opponent, h.GoalsScored, h.GoalsConceded\n",
    "FROM historical_performance_csv h\n",
    "JOIN match_manager_link mm ON h.MatchID = mm.MatchID\n",
    "JOIN managers_csv m ON mm.ManagerID = m.ManagerID\n",
    "WHERE m.Name = 'Frank Lampard';"
   ]
  },
  {
   "cell_type": "markdown",
   "metadata": {
    "application/vnd.databricks.v1+cell": {
     "cellMetadata": {},
     "inputWidgets": {},
     "nuid": "3c731279-db27-4957-81c9-e2606ed9da8e",
     "showTitle": false,
     "title": ""
    }
   },
   "source": [
    "Next Steps\n",
    "Verify Available Tables:\n",
    "\n",
    "List all available tables to see if there’s any other relevant data."
   ]
  },
  {
   "cell_type": "code",
   "execution_count": 0,
   "metadata": {
    "application/vnd.databricks.v1+cell": {
     "cellMetadata": {
      "byteLimit": 2048000,
      "implicitDf": true,
      "rowLimit": 10000
     },
     "inputWidgets": {},
     "nuid": "0047cdd6-08c7-46ba-8482-8ce9b3ace4fc",
     "showTitle": false,
     "title": ""
    }
   },
   "outputs": [
    {
     "output_type": "display_data",
     "data": {
      "text/html": [
       "<style scoped>\n",
       "  .table-result-container {\n",
       "    max-height: 300px;\n",
       "    overflow: auto;\n",
       "  }\n",
       "  table, th, td {\n",
       "    border: 1px solid black;\n",
       "    border-collapse: collapse;\n",
       "  }\n",
       "  th, td {\n",
       "    padding: 5px;\n",
       "  }\n",
       "  th {\n",
       "    text-align: left;\n",
       "  }\n",
       "</style><div class='table-result-container'><table class='table-result'><thead style='background-color: white'><tr><th>database</th><th>tableName</th><th>isTemporary</th></tr></thead><tbody><tr><td>default</td><td>financials_csv</td><td>false</td></tr><tr><td>default</td><td>match_manager_link</td><td>false</td></tr><tr><td>default</td><td>matches_csv</td><td>false</td></tr><tr><td>default</td><td>players_csv</td><td>false</td></tr><tr><td>default</td><td>players_csv_1_txt</td><td>false</td></tr><tr><td></td><td>historical_performance_csv</td><td>true</td></tr><tr><td></td><td>investors_csv</td><td>true</td></tr><tr><td></td><td>managers_csv</td><td>true</td></tr><tr><td></td><td>players_csv_1_txt</td><td>true</td></tr></tbody></table></div>"
      ]
     },
     "metadata": {
      "application/vnd.databricks.v1+output": {
       "addedWidgets": {},
       "aggData": [],
       "aggError": "",
       "aggOverflow": false,
       "aggSchema": [],
       "aggSeriesLimitReached": false,
       "aggType": "",
       "arguments": {},
       "columnCustomDisplayInfos": {},
       "data": [
        [
         "default",
         "financials_csv",
         false
        ],
        [
         "default",
         "match_manager_link",
         false
        ],
        [
         "default",
         "matches_csv",
         false
        ],
        [
         "default",
         "players_csv",
         false
        ],
        [
         "default",
         "players_csv_1_txt",
         false
        ],
        [
         "",
         "historical_performance_csv",
         true
        ],
        [
         "",
         "investors_csv",
         true
        ],
        [
         "",
         "managers_csv",
         true
        ],
        [
         "",
         "players_csv_1_txt",
         true
        ]
       ],
       "datasetInfos": [],
       "dbfsResultPath": null,
       "isJsonSchema": true,
       "metadata": {},
       "overflow": false,
       "plotOptions": {
        "customPlotOptions": {},
        "displayType": "table",
        "pivotAggregation": null,
        "pivotColumns": null,
        "xColumns": null,
        "yColumns": null
       },
       "removedWidgets": [],
       "schema": [
        {
         "metadata": "{}",
         "name": "database",
         "type": "\"string\""
        },
        {
         "metadata": "{}",
         "name": "tableName",
         "type": "\"string\""
        },
        {
         "metadata": "{}",
         "name": "isTemporary",
         "type": "\"boolean\""
        }
       ],
       "type": "table"
      }
     },
     "output_type": "display_data"
    }
   ],
   "source": [
    "%sql\n",
    "SHOW TABLES;"
   ]
  },
  {
   "cell_type": "markdown",
   "metadata": {
    "application/vnd.databricks.v1+cell": {
     "cellMetadata": {},
     "inputWidgets": {},
     "nuid": "b2983fec-081c-4c44-8af4-376904569d04",
     "showTitle": false,
     "title": ""
    }
   },
   "source": [
    "Manual Analysis Based on Available Data:\n",
    "\n",
    "If no linking information is available, you might perform a more general analysis based on match performance and try to deduce managerial performance.\n",
    "For example, analyzing overall team performance during different periods can be done without linking specific managers:"
   ]
  },
  {
   "cell_type": "code",
   "execution_count": 0,
   "metadata": {
    "application/vnd.databricks.v1+cell": {
     "cellMetadata": {
      "byteLimit": 2048000,
      "implicitDf": true,
      "rowLimit": 10000
     },
     "inputWidgets": {},
     "nuid": "d9e9b6e6-bd5c-40e8-a5b0-a2645126cf70",
     "showTitle": false,
     "title": ""
    }
   },
   "outputs": [
    {
     "output_type": "display_data",
     "data": {
      "text/html": [
       "<style scoped>\n",
       "  .table-result-container {\n",
       "    max-height: 300px;\n",
       "    overflow: auto;\n",
       "  }\n",
       "  table, th, td {\n",
       "    border: 1px solid black;\n",
       "    border-collapse: collapse;\n",
       "  }\n",
       "  th, td {\n",
       "    padding: 5px;\n",
       "  }\n",
       "  th {\n",
       "    text-align: left;\n",
       "  }\n",
       "</style><div class='table-result-container'><table class='table-result'><thead style='background-color: white'><tr><th>AvgGoalsScored</th><th>AvgGoalsConceded</th></tr></thead><tbody><tr><td>1.6666666666666667</td><td>1.0333333333333334</td></tr></tbody></table></div>"
      ]
     },
     "metadata": {
      "application/vnd.databricks.v1+output": {
       "addedWidgets": {},
       "aggData": [],
       "aggError": "",
       "aggOverflow": false,
       "aggSchema": [],
       "aggSeriesLimitReached": false,
       "aggType": "",
       "arguments": {},
       "columnCustomDisplayInfos": {},
       "data": [
        [
         1.6666666666666667,
         1.0333333333333334
        ]
       ],
       "datasetInfos": [],
       "dbfsResultPath": null,
       "isJsonSchema": true,
       "metadata": {},
       "overflow": false,
       "plotOptions": {
        "customPlotOptions": {},
        "displayType": "table",
        "pivotAggregation": null,
        "pivotColumns": null,
        "xColumns": null,
        "yColumns": null
       },
       "removedWidgets": [],
       "schema": [
        {
         "metadata": "{}",
         "name": "AvgGoalsScored",
         "type": "\"double\""
        },
        {
         "metadata": "{}",
         "name": "AvgGoalsConceded",
         "type": "\"double\""
        }
       ],
       "type": "table"
      }
     },
     "output_type": "display_data"
    }
   ],
   "source": [
    "%sql\n",
    "-- General performance analysis\n",
    "SELECT AVG(GoalsScored) AS AvgGoalsScored, AVG(GoalsConceded) AS AvgGoalsConceded\n",
    "FROM historical_performance_csv;"
   ]
  },
  {
   "cell_type": "code",
   "execution_count": 0,
   "metadata": {
    "application/vnd.databricks.v1+cell": {
     "cellMetadata": {
      "byteLimit": 2048000,
      "implicitDf": true,
      "rowLimit": 10000
     },
     "inputWidgets": {},
     "nuid": "1b985765-3e65-452d-a076-ad99be370f47",
     "showTitle": false,
     "title": ""
    }
   },
   "outputs": [
    {
     "output_type": "display_data",
     "data": {
      "text/html": [
       "<style scoped>\n",
       "  .table-result-container {\n",
       "    max-height: 300px;\n",
       "    overflow: auto;\n",
       "  }\n",
       "  table, th, td {\n",
       "    border: 1px solid black;\n",
       "    border-collapse: collapse;\n",
       "  }\n",
       "  th, td {\n",
       "    padding: 5px;\n",
       "  }\n",
       "  th {\n",
       "    text-align: left;\n",
       "  }\n",
       "</style><div class='table-result-container'><table class='table-result'><thead style='background-color: white'><tr><th>MatchID</th><th>ManagerID</th></tr></thead><tbody><tr><td>1</td><td>2</td></tr><tr><td>2</td><td>3</td></tr><tr><td>3</td><td>4</td></tr></tbody></table></div>"
      ]
     },
     "metadata": {
      "application/vnd.databricks.v1+output": {
       "addedWidgets": {},
       "aggData": [],
       "aggError": "",
       "aggOverflow": false,
       "aggSchema": [],
       "aggSeriesLimitReached": false,
       "aggType": "",
       "arguments": {},
       "columnCustomDisplayInfos": {},
       "data": [
        [
         1,
         2
        ],
        [
         2,
         3
        ],
        [
         3,
         4
        ]
       ],
       "datasetInfos": [],
       "dbfsResultPath": null,
       "isJsonSchema": true,
       "metadata": {},
       "overflow": false,
       "plotOptions": {
        "customPlotOptions": {},
        "displayType": "table",
        "pivotAggregation": null,
        "pivotColumns": null,
        "xColumns": null,
        "yColumns": null
       },
       "removedWidgets": [],
       "schema": [
        {
         "metadata": "{}",
         "name": "MatchID",
         "type": "\"integer\""
        },
        {
         "metadata": "{}",
         "name": "ManagerID",
         "type": "\"integer\""
        }
       ],
       "type": "table"
      }
     },
     "output_type": "display_data"
    }
   ],
   "source": [
    "%sql\n",
    "SELECT * FROM match_manager_link LIMIT 10;\n"
   ]
  },
  {
   "cell_type": "markdown",
   "metadata": {
    "application/vnd.databricks.v1+cell": {
     "cellMetadata": {},
     "inputWidgets": {},
     "nuid": "81d95b5d-4bca-4d70-a6b4-12a18e78f54a",
     "showTitle": false,
     "title": ""
    }
   },
   "source": [
    "Querying with the New Table\n",
    "You can now use this table in your queries to join with other tables and perform analyses. For example:"
   ]
  },
  {
   "cell_type": "code",
   "execution_count": 0,
   "metadata": {
    "application/vnd.databricks.v1+cell": {
     "cellMetadata": {
      "byteLimit": 2048000,
      "implicitDf": true,
      "rowLimit": 10000
     },
     "inputWidgets": {},
     "nuid": "55bc07df-f891-4ab0-a03b-8a2b04d33ad6",
     "showTitle": false,
     "title": ""
    }
   },
   "outputs": [
    {
     "output_type": "display_data",
     "data": {
      "text/html": [
       "<style scoped>\n",
       "  .table-result-container {\n",
       "    max-height: 300px;\n",
       "    overflow: auto;\n",
       "  }\n",
       "  table, th, td {\n",
       "    border: 1px solid black;\n",
       "    border-collapse: collapse;\n",
       "  }\n",
       "  th, td {\n",
       "    padding: 5px;\n",
       "  }\n",
       "  th {\n",
       "    text-align: left;\n",
       "  }\n",
       "</style><div class='table-result-container'><table class='table-result'><thead style='background-color: white'><tr><th>ManagerName</th><th>TotalMatches</th><th>AvgGoalsScored</th></tr></thead><tbody><tr><td>Pochettino</td><td>1</td><td>3.0</td></tr><tr><td>Thomas Tuchel</td><td>1</td><td>2.0</td></tr><tr><td>Graham Potter</td><td>1</td><td>1.0</td></tr></tbody></table></div>"
      ]
     },
     "metadata": {
      "application/vnd.databricks.v1+output": {
       "addedWidgets": {},
       "aggData": [],
       "aggError": "",
       "aggOverflow": false,
       "aggSchema": [],
       "aggSeriesLimitReached": false,
       "aggType": "",
       "arguments": {},
       "columnCustomDisplayInfos": {},
       "data": [
        [
         "Pochettino",
         1,
         3.0
        ],
        [
         "Thomas Tuchel",
         1,
         2.0
        ],
        [
         "Graham Potter",
         1,
         1.0
        ]
       ],
       "datasetInfos": [],
       "dbfsResultPath": null,
       "isJsonSchema": true,
       "metadata": {},
       "overflow": false,
       "plotOptions": {
        "customPlotOptions": {},
        "displayType": "table",
        "pivotAggregation": null,
        "pivotColumns": null,
        "xColumns": null,
        "yColumns": null
       },
       "removedWidgets": [],
       "schema": [
        {
         "metadata": "{}",
         "name": "ManagerName",
         "type": "\"string\""
        },
        {
         "metadata": "{}",
         "name": "TotalMatches",
         "type": "\"long\""
        },
        {
         "metadata": "{}",
         "name": "AvgGoalsScored",
         "type": "\"double\""
        }
       ],
       "type": "table"
      }
     },
     "output_type": "display_data"
    }
   ],
   "source": [
    "%sql\n",
    "SELECT m.Name AS ManagerName, COUNT(h.MatchID) AS TotalMatches, AVG(h.GoalsScored) AS AvgGoalsScored\n",
    "FROM historical_performance_csv h\n",
    "JOIN match_manager_link mm ON h.MatchID = mm.MatchID\n",
    "JOIN managers_csv m ON mm.ManagerID = m.ManagerID\n",
    "GROUP BY m.Name\n",
    "ORDER BY AvgGoalsScored DESC;"
   ]
  },
  {
   "cell_type": "markdown",
   "metadata": {
    "application/vnd.databricks.v1+cell": {
     "cellMetadata": {},
     "inputWidgets": {},
     "nuid": "374fc475-5f3e-431a-82aa-2deacdc920b3",
     "showTitle": false,
     "title": ""
    }
   },
   "source": [
    "Notes\n",
    "Data Integrity: Without foreign key constraints, you’ll need to ensure the data integrity manually, ensuring that MatchID and ManagerID values in match_manager_link exist in historical_performance_csv and managers_csv, respectively.\n",
    "Database-Specific Features: Depending on your SQL environment, there might be specific tools or features available to enforce data integrity or simulate foreign key behavior.\n",
    "If you have any more questions or need further adjustments, feel free to ask!"
   ]
  },
  {
   "cell_type": "markdown",
   "metadata": {
    "application/vnd.databricks.v1+cell": {
     "cellMetadata": {},
     "inputWidgets": {},
     "nuid": "2b8789ad-c737-4e39-93f0-5ed60d1cdc9a",
     "showTitle": false,
     "title": ""
    }
   },
   "source": []
  },
  {
   "cell_type": "code",
   "execution_count": 0,
   "metadata": {
    "application/vnd.databricks.v1+cell": {
     "cellMetadata": {
      "byteLimit": 2048000,
      "implicitDf": true,
      "rowLimit": 10000
     },
     "inputWidgets": {},
     "nuid": "e6a6e21f-60c5-487b-ac19-8c8086ad9c46",
     "showTitle": false,
     "title": ""
    }
   },
   "outputs": [
    {
     "output_type": "display_data",
     "data": {
      "text/html": [
       "<style scoped>\n",
       "  .table-result-container {\n",
       "    max-height: 300px;\n",
       "    overflow: auto;\n",
       "  }\n",
       "  table, th, td {\n",
       "    border: 1px solid black;\n",
       "    border-collapse: collapse;\n",
       "  }\n",
       "  th, td {\n",
       "    padding: 5px;\n",
       "  }\n",
       "  th {\n",
       "    text-align: left;\n",
       "  }\n",
       "</style><div class='table-result-container'><table class='table-result'><thead style='background-color: white'><tr><th>ManagerName</th><th>TotalMatches</th><th>AvgGoalsScored</th></tr></thead><tbody><tr><td>Pochettino</td><td>1</td><td>3.0</td></tr><tr><td>Thomas Tuchel</td><td>1</td><td>2.0</td></tr><tr><td>Graham Potter</td><td>1</td><td>1.0</td></tr></tbody></table></div>"
      ]
     },
     "metadata": {
      "application/vnd.databricks.v1+output": {
       "addedWidgets": {},
       "aggData": [],
       "aggError": "",
       "aggOverflow": false,
       "aggSchema": [],
       "aggSeriesLimitReached": false,
       "aggType": "",
       "arguments": {},
       "columnCustomDisplayInfos": {},
       "data": [
        [
         "Pochettino",
         1,
         3.0
        ],
        [
         "Thomas Tuchel",
         1,
         2.0
        ],
        [
         "Graham Potter",
         1,
         1.0
        ]
       ],
       "datasetInfos": [],
       "dbfsResultPath": null,
       "isJsonSchema": true,
       "metadata": {},
       "overflow": false,
       "plotOptions": {
        "customPlotOptions": {},
        "displayType": "table",
        "pivotAggregation": null,
        "pivotColumns": null,
        "xColumns": null,
        "yColumns": null
       },
       "removedWidgets": [],
       "schema": [
        {
         "metadata": "{}",
         "name": "ManagerName",
         "type": "\"string\""
        },
        {
         "metadata": "{}",
         "name": "TotalMatches",
         "type": "\"long\""
        },
        {
         "metadata": "{}",
         "name": "AvgGoalsScored",
         "type": "\"double\""
        }
       ],
       "type": "table"
      }
     },
     "output_type": "display_data"
    }
   ],
   "source": [
    "%sql\n",
    "-- Assuming there is a table 'match_manager_link' that links matches to managers\n",
    "SELECT m.Name AS ManagerName, COUNT(h.MatchID) AS TotalMatches, AVG(h.GoalsScored) AS AvgGoalsScored\n",
    "FROM historical_performance_csv h\n",
    "JOIN match_manager_link mm ON h.MatchID = mm.MatchID\n",
    "JOIN managers_csv m ON mm.ManagerID = m.ManagerID\n",
    "GROUP BY m.Name\n",
    "ORDER BY AvgGoalsScored DESC;"
   ]
  },
  {
   "cell_type": "markdown",
   "metadata": {
    "application/vnd.databricks.v1+cell": {
     "cellMetadata": {},
     "inputWidgets": {},
     "nuid": "e7ac2a90-a8e7-4f32-aa7c-8942a02fdc48",
     "showTitle": false,
     "title": ""
    }
   },
   "source": [
    "Example 2: Performance Over Time\n",
    "If you want to analyze performance during specific managerial periods:"
   ]
  },
  {
   "cell_type": "code",
   "execution_count": 0,
   "metadata": {
    "application/vnd.databricks.v1+cell": {
     "cellMetadata": {
      "byteLimit": 2048000,
      "implicitDf": true,
      "rowLimit": 10000
     },
     "inputWidgets": {},
     "nuid": "dd2b1b36-4277-4779-b5fb-d4f9f7f9e508",
     "showTitle": false,
     "title": ""
    }
   },
   "outputs": [
    {
     "output_type": "display_data",
     "data": {
      "text/html": [
       "<style scoped>\n",
       "  .table-result-container {\n",
       "    max-height: 300px;\n",
       "    overflow: auto;\n",
       "  }\n",
       "  table, th, td {\n",
       "    border: 1px solid black;\n",
       "    border-collapse: collapse;\n",
       "  }\n",
       "  th, td {\n",
       "    padding: 5px;\n",
       "  }\n",
       "  th {\n",
       "    text-align: left;\n",
       "  }\n",
       "</style><div class='table-result-container'><table class='table-result'><thead style='background-color: white'><tr><th>ManagerName</th><th>AvgGoalsScored</th></tr></thead><tbody><tr><td>Graham Potter</td><td>1.0</td></tr></tbody></table></div>"
      ]
     },
     "metadata": {
      "application/vnd.databricks.v1+output": {
       "addedWidgets": {},
       "aggData": [],
       "aggError": "",
       "aggOverflow": false,
       "aggSchema": [],
       "aggSeriesLimitReached": false,
       "aggType": "",
       "arguments": {},
       "columnCustomDisplayInfos": {},
       "data": [
        [
         "Graham Potter",
         1.0
        ]
       ],
       "datasetInfos": [],
       "dbfsResultPath": null,
       "isJsonSchema": true,
       "metadata": {},
       "overflow": false,
       "plotOptions": {
        "customPlotOptions": {},
        "displayType": "table",
        "pivotAggregation": null,
        "pivotColumns": null,
        "xColumns": null,
        "yColumns": null
       },
       "removedWidgets": [],
       "schema": [
        {
         "metadata": "{}",
         "name": "ManagerName",
         "type": "\"string\""
        },
        {
         "metadata": "{}",
         "name": "AvgGoalsScored",
         "type": "\"double\""
        }
       ],
       "type": "table"
      }
     },
     "output_type": "display_data"
    }
   ],
   "source": [
    "%sql\n",
    "-- Analyzing average goals scored during different managerial periods\n",
    "SELECT m.Name AS ManagerName, AVG(h.GoalsScored) AS AvgGoalsScored\n",
    "FROM historical_performance_csv h\n",
    "JOIN match_manager_link mm ON h.MatchID = mm.MatchID\n",
    "JOIN managers_csv m ON mm.ManagerID = m.ManagerID\n",
    "WHERE h.Date BETWEEN m.StartDate AND COALESCE(m.EndDate, CURRENT_DATE())\n",
    "GROUP BY m.Name\n",
    "ORDER BY AvgGoalsScored DESC;"
   ]
  },
  {
   "cell_type": "markdown",
   "metadata": {
    "application/vnd.databricks.v1+cell": {
     "cellMetadata": {},
     "inputWidgets": {},
     "nuid": "2c84d047-4a78-4c19-87a7-f7ff75f45fe7",
     "showTitle": false,
     "title": ""
    }
   },
   "source": [
    "Investors:"
   ]
  },
  {
   "cell_type": "code",
   "execution_count": 0,
   "metadata": {
    "application/vnd.databricks.v1+cell": {
     "cellMetadata": {
      "byteLimit": 2048000,
      "implicitDf": true,
      "rowLimit": 10000
     },
     "inputWidgets": {},
     "nuid": "4e9dbdd9-c558-41e5-ac63-3a8dbf8a1878",
     "showTitle": false,
     "title": ""
    }
   },
   "outputs": [],
   "source": [
    "%python\n",
    "# Load investors data into a DataFrame\n",
    "investors_df = spark.read.option(\"header\", \"true\").option(\"inferSchema\", \"true\").option(\"delimiter\", \",\").csv(\"/FileStore/tables/players/investors_csv.txt\")\n",
    "\n",
    "# Register the DataFrame as a temporary view\n",
    "investors_df.createOrReplaceTempView(\"investors_csv\")"
   ]
  },
  {
   "cell_type": "markdown",
   "metadata": {
    "application/vnd.databricks.v1+cell": {
     "cellMetadata": {},
     "inputWidgets": {},
     "nuid": "52842f33-6213-4b53-bcc7-bb021124f25c",
     "showTitle": false,
     "title": ""
    }
   },
   "source": [
    "Verify the Data\n",
    "\n",
    "Use SQL to query the data:"
   ]
  },
  {
   "cell_type": "code",
   "execution_count": 0,
   "metadata": {
    "application/vnd.databricks.v1+cell": {
     "cellMetadata": {
      "byteLimit": 2048000,
      "implicitDf": true,
      "rowLimit": 10000
     },
     "inputWidgets": {},
     "nuid": "42e39492-95c7-4d2b-aafa-007c69d29a7c",
     "showTitle": false,
     "title": ""
    }
   },
   "outputs": [
    {
     "output_type": "display_data",
     "data": {
      "text/html": [
       "<style scoped>\n",
       "  .table-result-container {\n",
       "    max-height: 300px;\n",
       "    overflow: auto;\n",
       "  }\n",
       "  table, th, td {\n",
       "    border: 1px solid black;\n",
       "    border-collapse: collapse;\n",
       "  }\n",
       "  th, td {\n",
       "    padding: 5px;\n",
       "  }\n",
       "  th {\n",
       "    text-align: left;\n",
       "  }\n",
       "</style><div class='table-result-container'><table class='table-result'><thead style='background-color: white'><tr><th>InvestorID</th><th>Name</th><th>InvestmentAmount</th><th>InvestmentDate</th></tr></thead><tbody><tr><td>1</td><td>John Doe</td><td>5000000</td><td>2022-01-15</td></tr><tr><td>2</td><td>Jane Smith</td><td>3000000</td><td>2022-03-22</td></tr><tr><td>3</td><td>Acme Corp</td><td>10000000</td><td>2023-06-18</td></tr><tr><td>4</td><td>Global Investments</td><td>2500000</td><td>2023-09-10</td></tr><tr><td>5</td><td>ABC Ventures</td><td>4000000</td><td>2023-01-25</td></tr><tr><td>6</td><td>XYZ Holdings</td><td>6000000</td><td>2023-02-20</td></tr><tr><td>7</td><td>Tech Giants Inc</td><td>7500000</td><td>2023-03-15</td></tr><tr><td>8</td><td>Future Finance</td><td>2000000</td><td>2023-04-01</td></tr><tr><td>9</td><td>Green Energy Fund</td><td>3500000</td><td>2023-05-30</td></tr><tr><td>10</td><td>Smart Investments</td><td>4500000</td><td>2023-07-05</td></tr></tbody></table></div>"
      ]
     },
     "metadata": {
      "application/vnd.databricks.v1+output": {
       "addedWidgets": {},
       "aggData": [],
       "aggError": "",
       "aggOverflow": false,
       "aggSchema": [],
       "aggSeriesLimitReached": false,
       "aggType": "",
       "arguments": {},
       "columnCustomDisplayInfos": {},
       "data": [
        [
         1,
         "John Doe",
         5000000,
         "2022-01-15"
        ],
        [
         2,
         "Jane Smith",
         3000000,
         "2022-03-22"
        ],
        [
         3,
         "Acme Corp",
         10000000,
         "2023-06-18"
        ],
        [
         4,
         "Global Investments",
         2500000,
         "2023-09-10"
        ],
        [
         5,
         "ABC Ventures",
         4000000,
         "2023-01-25"
        ],
        [
         6,
         "XYZ Holdings",
         6000000,
         "2023-02-20"
        ],
        [
         7,
         "Tech Giants Inc",
         7500000,
         "2023-03-15"
        ],
        [
         8,
         "Future Finance",
         2000000,
         "2023-04-01"
        ],
        [
         9,
         "Green Energy Fund",
         3500000,
         "2023-05-30"
        ],
        [
         10,
         "Smart Investments",
         4500000,
         "2023-07-05"
        ]
       ],
       "datasetInfos": [],
       "dbfsResultPath": null,
       "isJsonSchema": true,
       "metadata": {},
       "overflow": false,
       "plotOptions": {
        "customPlotOptions": {},
        "displayType": "table",
        "pivotAggregation": null,
        "pivotColumns": null,
        "xColumns": null,
        "yColumns": null
       },
       "removedWidgets": [],
       "schema": [
        {
         "metadata": "{}",
         "name": "InvestorID",
         "type": "\"integer\""
        },
        {
         "metadata": "{}",
         "name": "Name",
         "type": "\"string\""
        },
        {
         "metadata": "{}",
         "name": "InvestmentAmount",
         "type": "\"integer\""
        },
        {
         "metadata": "{\"__detected_date_formats\":\"yyyy-M-d\"}",
         "name": "InvestmentDate",
         "type": "\"date\""
        }
       ],
       "type": "table"
      }
     },
     "output_type": "display_data"
    }
   ],
   "source": [
    "%sql\n",
    "-- Verify data\n",
    "SELECT * FROM investors_csv LIMIT 10;"
   ]
  },
  {
   "cell_type": "markdown",
   "metadata": {
    "application/vnd.databricks.v1+cell": {
     "cellMetadata": {},
     "inputWidgets": {},
     "nuid": "38146782-ca5e-4c8e-958c-bd00c1445953",
     "showTitle": false,
     "title": ""
    }
   },
   "source": [
    "Here are the SQL INSERT statements to add 20 more players, additional revenue data, and 20 more matches to your tables.\n",
    "\n",
    "1. Insert 20 More Players into players_csv"
   ]
  },
  {
   "cell_type": "code",
   "execution_count": 0,
   "metadata": {
    "application/vnd.databricks.v1+cell": {
     "cellMetadata": {
      "byteLimit": 2048000,
      "implicitDf": true,
      "rowLimit": 10000
     },
     "inputWidgets": {},
     "nuid": "e4010640-244b-468f-a6d2-5534eeb1c54a",
     "showTitle": false,
     "title": ""
    }
   },
   "outputs": [
    {
     "output_type": "display_data",
     "data": {
      "text/html": [
       "<style scoped>\n",
       "  .table-result-container {\n",
       "    max-height: 300px;\n",
       "    overflow: auto;\n",
       "  }\n",
       "  table, th, td {\n",
       "    border: 1px solid black;\n",
       "    border-collapse: collapse;\n",
       "  }\n",
       "  th, td {\n",
       "    padding: 5px;\n",
       "  }\n",
       "  th {\n",
       "    text-align: left;\n",
       "  }\n",
       "</style><div class='table-result-container'><table class='table-result'><thead style='background-color: white'><tr></tr></thead><tbody></tbody></table></div>"
      ]
     },
     "metadata": {
      "application/vnd.databricks.v1+output": {
       "addedWidgets": {},
       "aggData": [],
       "aggError": "",
       "aggOverflow": false,
       "aggSchema": [],
       "aggSeriesLimitReached": false,
       "aggType": "",
       "arguments": {},
       "columnCustomDisplayInfos": {},
       "data": [],
       "datasetInfos": [],
       "dbfsResultPath": null,
       "isJsonSchema": true,
       "metadata": {},
       "overflow": false,
       "plotOptions": {
        "customPlotOptions": {},
        "displayType": "table",
        "pivotAggregation": null,
        "pivotColumns": null,
        "xColumns": null,
        "yColumns": null
       },
       "removedWidgets": [],
       "schema": [],
       "type": "table"
      }
     },
     "output_type": "display_data"
    }
   ],
   "source": [
    "%sql\n",
    "-- Insert 20 more players into players_csv\n",
    "INSERT INTO players_csv (PlayerID, Name, Position, Nationality, Age, Appearances, Goals)\n",
    "VALUES\n",
    "(8, 'Marcus Rashford', 'Forward', 'England', 26, 30, 12),\n",
    "(9, 'Jadon Sancho', 'Forward', 'England', 24, 28, 8),\n",
    "(10, 'Bruno Fernandes', 'Midfielder', 'Portugal', 29, 32, 15),\n",
    "(11, 'Paul Pogba', 'Midfielder', 'France', 31, 27, 6),\n",
    "(12, 'N’Golo Kanté', 'Midfielder', 'France', 33, 25, 3),\n",
    "(13, 'Riyad Mahrez', 'Forward', 'Algeria', 32, 22, 10),\n",
    "(14, 'Edouard Mendy', 'Goalkeeper', 'Senegal', 32, 20, 0),\n",
    "(15, 'Christian Pulisic', 'Forward', 'USA', 25, 26, 7),\n",
    "(16, 'Kalidou Koulibaly', 'Defender', 'Senegal', 32, 24, 2),\n",
    "(17, 'Sergio Ramos', 'Defender', 'Spain', 37, 21, 5),\n",
    "(18, 'Virgil van Dijk', 'Defender', 'Netherlands', 32, 30, 6),\n",
    "(19, 'Joshua Kimmich', 'Midfielder', 'Germany', 29, 33, 8),\n",
    "(20, 'Manuel Neuer', 'Goalkeeper', 'Germany', 38, 22, 0),\n",
    "(21, 'Frenkie de Jong', 'Midfielder', 'Netherlands', 26, 27, 5),\n",
    "(22, 'Leroy Sané', 'Forward', 'Germany', 28, 28, 12),\n",
    "(23, 'Thomas Müller', 'Forward', 'Germany', 34, 29, 10),\n",
    "(24, 'Kylian Mbappé', 'Forward', 'France', 25, 30, 20),\n",
    "(25, 'Neymar Jr.', 'Forward', 'Brazil', 32, 25, 14),\n",
    "(26, 'Gianluigi Donnarumma', 'Goalkeeper', 'Italy', 25, 23, 0),\n",
    "(27, 'Paulo Dybala', 'Forward', 'Argentina', 30, 22, 9),\n",
    "(28, 'Karim Benzema', 'Forward', 'France', 36, 20, 15),\n",
    "(29, 'João Cancelo', 'Defender', 'Portugal', 30, 26, 3),\n",
    "(30, 'Mason Mount', 'Midfielder', 'England', 25, 27, 6);\n"
   ]
  },
  {
   "cell_type": "markdown",
   "metadata": {
    "application/vnd.databricks.v1+cell": {
     "cellMetadata": {},
     "inputWidgets": {},
     "nuid": "10c9dbc8-aec1-4536-9715-78853794145e",
     "showTitle": false,
     "title": ""
    }
   },
   "source": [
    "2. Insert Additional Revenue Data into financials_csv"
   ]
  },
  {
   "cell_type": "code",
   "execution_count": 0,
   "metadata": {
    "application/vnd.databricks.v1+cell": {
     "cellMetadata": {
      "byteLimit": 2048000,
      "implicitDf": true,
      "rowLimit": 10000
     },
     "inputWidgets": {},
     "nuid": "f9fc2f48-5b68-4b8a-b20b-53bee78ce448",
     "showTitle": false,
     "title": ""
    }
   },
   "outputs": [
    {
     "output_type": "display_data",
     "data": {
      "text/html": [
       "<style scoped>\n",
       "  .table-result-container {\n",
       "    max-height: 300px;\n",
       "    overflow: auto;\n",
       "  }\n",
       "  table, th, td {\n",
       "    border: 1px solid black;\n",
       "    border-collapse: collapse;\n",
       "  }\n",
       "  th, td {\n",
       "    padding: 5px;\n",
       "  }\n",
       "  th {\n",
       "    text-align: left;\n",
       "  }\n",
       "</style><div class='table-result-container'><table class='table-result'><thead style='background-color: white'><tr></tr></thead><tbody></tbody></table></div>"
      ]
     },
     "metadata": {
      "application/vnd.databricks.v1+output": {
       "addedWidgets": {},
       "aggData": [],
       "aggError": "",
       "aggOverflow": false,
       "aggSchema": [],
       "aggSeriesLimitReached": false,
       "aggType": "",
       "arguments": {},
       "columnCustomDisplayInfos": {},
       "data": [],
       "datasetInfos": [],
       "dbfsResultPath": null,
       "isJsonSchema": true,
       "metadata": {},
       "overflow": false,
       "plotOptions": {
        "customPlotOptions": {},
        "displayType": "table",
        "pivotAggregation": null,
        "pivotColumns": null,
        "xColumns": null,
        "yColumns": null
       },
       "removedWidgets": [],
       "schema": [],
       "type": "table"
      }
     },
     "output_type": "display_data"
    }
   ],
   "source": [
    "%sql\n",
    "-- Insert additional revenue data into financials_csv\n",
    "INSERT INTO financials_csv (PlayerID, Name, Position, Nationality, Age, Appearances, Goals, Assists)\n",
    "VALUES\n",
    "(8, 'Marcus Rashford', 'Forward', 'England', 26, 100, 20, 10),\n",
    "(9, 'Jadon Sancho', 'Forward', 'England', 24, 90, 15, 8),\n",
    "(10, 'Bruno Fernandes', 'Midfielder', 'Portugal', 29, 120, 25, 15),\n",
    "(11, 'Paul Pogba', 'Midfielder', 'France', 31, 80, 12, 10),\n",
    "(12, 'N’Golo Kanté', 'Midfielder', 'France', 33, 85, 10, 7),\n",
    "(13, 'Riyad Mahrez', 'Forward', 'Algeria', 32, 95, 18, 6),\n",
    "(14, 'Edouard Mendy', 'Goalkeeper', 'Senegal', 31, 50, 0, 0),\n",
    "(15, 'Christian Pulisic', 'Forward', 'USA', 25, 75, 14, 5),\n",
    "(16, 'Kalidou Koulibaly', 'Defender', 'Senegal', 32, 60, 2, 1),\n",
    "(17, 'Sergio Ramos', 'Defender', 'Spain', 37, 70, 5, 2),\n",
    "(18, 'Virgil van Dijk', 'Defender', 'Netherlands', 33, 65, 3, 1),\n",
    "(19, 'Joshua Kimmich', 'Midfielder', 'Germany', 29, 85, 8, 15),\n",
    "(20, 'Manuel Neuer', 'Goalkeeper', 'Germany', 38, 50, 0, 0),\n",
    "(21, 'Frenkie de Jong', 'Midfielder', 'Netherlands', 26, 90, 12, 14),\n",
    "(22, 'Leroy Sané', 'Forward', 'Germany', 28, 80, 16, 9),\n",
    "(23, 'Thomas Müller', 'Forward', 'Germany', 34, 75, 14, 11),\n",
    "(24, 'Kylian Mbappé', 'Forward', 'France', 25, 100, 30, 12),\n",
    "(25, 'Neymar Jr.', 'Forward', 'Brazil', 32, 85, 22, 11),\n",
    "(26, 'Gianluigi Donnarumma', 'Goalkeeper', 'Italy', 25, 50, 0, 0),\n",
    "(27, 'Paulo Dybala', 'Forward', 'Argentina', 30, 90, 20, 8),\n",
    "(28, 'Karim Benzema', 'Forward', 'France', 36, 95, 25, 10),\n",
    "(29, 'João Cancelo', 'Defender', 'Portugal', 30, 85, 3, 6),\n",
    "(30, 'Mason Mount', 'Midfielder', 'England', 25, 70, 10, 12);"
   ]
  },
  {
   "cell_type": "markdown",
   "metadata": {
    "application/vnd.databricks.v1+cell": {
     "cellMetadata": {},
     "inputWidgets": {},
     "nuid": "90e4a97d-c734-4135-a1bf-96111effd593",
     "showTitle": false,
     "title": ""
    }
   },
   "source": [
    "3. Insert 20 More Matches into matches_csv"
   ]
  },
  {
   "cell_type": "code",
   "execution_count": 0,
   "metadata": {
    "application/vnd.databricks.v1+cell": {
     "cellMetadata": {
      "byteLimit": 2048000,
      "implicitDf": true,
      "rowLimit": 10000
     },
     "inputWidgets": {},
     "nuid": "a68eb1a1-7850-4715-91cc-b0017384e631",
     "showTitle": false,
     "title": ""
    }
   },
   "outputs": [
    {
     "output_type": "display_data",
     "data": {
      "text/html": [
       "<style scoped>\n",
       "  .table-result-container {\n",
       "    max-height: 300px;\n",
       "    overflow: auto;\n",
       "  }\n",
       "  table, th, td {\n",
       "    border: 1px solid black;\n",
       "    border-collapse: collapse;\n",
       "  }\n",
       "  th, td {\n",
       "    padding: 5px;\n",
       "  }\n",
       "  th {\n",
       "    text-align: left;\n",
       "  }\n",
       "</style><div class='table-result-container'><table class='table-result'><thead style='background-color: white'><tr></tr></thead><tbody></tbody></table></div>"
      ]
     },
     "metadata": {
      "application/vnd.databricks.v1+output": {
       "addedWidgets": {},
       "aggData": [],
       "aggError": "",
       "aggOverflow": false,
       "aggSchema": [],
       "aggSeriesLimitReached": false,
       "aggType": "",
       "arguments": {},
       "columnCustomDisplayInfos": {},
       "data": [],
       "datasetInfos": [],
       "dbfsResultPath": null,
       "isJsonSchema": true,
       "metadata": {},
       "overflow": false,
       "plotOptions": {
        "customPlotOptions": {},
        "displayType": "table",
        "pivotAggregation": null,
        "pivotColumns": null,
        "xColumns": null,
        "yColumns": null
       },
       "removedWidgets": [],
       "schema": [],
       "type": "table"
      }
     },
     "output_type": "display_data"
    }
   ],
   "source": [
    "%sql\n",
    "-- Insert 20 more matches into matches_csv\n",
    "INSERT INTO matches_csv (MatchID, Date, Opponent, `Home/Away`, Result, GoalsScored, GoalsConceded, PlayerID)\n",
    "VALUES\n",
    "(7, CAST('2024-03-05' AS DATE), 'Fulham', 'Home', 'Win', 3, 1, 8),\n",
    "(8, CAST('2024-03-12' AS DATE), 'Bournemouth', 'Away', 'Draw', 2, 2, 9),\n",
    "(9, CAST('2024-03-19' AS DATE), 'Nottingham Forest', 'Home', 'Win', 1, 0, 10),\n",
    "(10, CAST('2024-03-26' AS DATE), 'West Ham', 'Away', 'Lose', 0, 2, 11),\n",
    "(11, CAST('2024-04-02' AS DATE), 'Newcastle', 'Home', 'Win', 4, 0, 12),\n",
    "(12, CAST('2024-04-09' AS DATE), 'Brentford', 'Away', 'Draw', 1, 1, 13),\n",
    "(13, CAST('2024-04-16' AS DATE), 'Everton', 'Home', 'Win', 2, 0, 14),\n",
    "(14, CAST('2024-04-23' AS DATE), 'Sheffield United', 'Away', 'Win', 2, 1, 15),\n",
    "(15, CAST('2024-04-30' AS DATE), 'Wolverhampton', 'Home', 'Draw', 1, 1, 16),\n",
    "(16, CAST('2024-05-07' AS DATE), 'Burnley', 'Away', 'Win', 3, 0, 17),\n",
    "(17, CAST('2024-05-14' AS DATE), 'Aston Villa', 'Home', 'Win', 2, 1, 18),\n",
    "(18, CAST('2024-05-21' AS DATE), 'Manchester City', 'Away', 'Lose', 1, 2, 19),\n",
    "(19, CAST('2024-06-01' AS DATE), 'Liverpool', 'Home', 'Draw', 1, 1, 20),\n",
    "(20, CAST('2024-06-08' AS DATE), 'Arsenal', 'Away', 'Win', 3, 2, 8),\n",
    "(21, CAST('2024-06-15' AS DATE), 'Chelsea', 'Home', 'Draw', 0, 0, 9),\n",
    "(22, CAST('2024-06-22' AS DATE), 'Tottenham Hotspur', 'Away', 'Win', 2, 1, 10),\n",
    "(23, CAST('2024-07-01' AS DATE), 'Leicester City', 'Home', 'Win', 4, 1, 11),\n",
    "(24, CAST('2024-07-08' AS DATE), 'Crystal Palace', 'Away', 'Win', 2, 1, 12),\n",
    "(25, CAST('2024-07-15' AS DATE), 'Brentford', 'Home', 'Draw', 1, 1, 13),\n",
    "(26, CAST('2024-07-22' AS DATE), 'Everton', 'Away', 'Win', 3, 0, 14),\n",
    "(27, CAST('2024-08-01' AS DATE), 'Nottingham Forest', 'Home', 'Win', 2, 0, 15),\n",
    "(28, CAST('2024-08-08' AS DATE), 'West Ham', 'Away', 'Lose', 1, 3, 16),\n",
    "(29, CAST('2024-08-15' AS DATE), 'Newcastle', 'Home', 'Draw', 1, 1, 17),\n",
    "(30, CAST('2024-08-22' AS DATE), 'Wolverhampton', 'Away', 'Win', 2, 1, 18);\n"
   ]
  },
  {
   "cell_type": "markdown",
   "metadata": {
    "application/vnd.databricks.v1+cell": {
     "cellMetadata": {},
     "inputWidgets": {},
     "nuid": "ea1198a7-9c16-4a4d-8d3c-c611388cf8f4",
     "showTitle": false,
     "title": ""
    }
   },
   "source": [
    "With your datasets loaded, you can start performing various analyses. Here are a few ideas for analysis based on the data:\n",
    "\n",
    "Player Performance Analysis\n",
    "\n",
    "Top Goal Scorers: Identify the top players based on the number of goals scored.\n",
    "Player Contributions: Analyze contributions (goals, assists) from different players in various matches.\n",
    "Match Performance Analysis\n",
    "\n",
    "Match Results: Analyze win/loss/draw ratios for different opponents.\n",
    "Home vs. Away Performance: Compare performance at home versus away games.\n",
    "Revenue Analysis\n",
    "\n",
    "Total Revenue: Calculate total revenue from all sources.\n",
    "Revenue Trends: Analyze trends over time if the data includes date information.\n",
    "Manager Performance Analysis\n",
    "\n",
    "Manager Impact: Assess how different managers have impacted team performance over time.\n",
    "Investor Analysis\n",
    "\n",
    "Investor Contributions: Analyze contributions or engagements from various investors.\n",
    "Historical Performance Trends\n",
    "\n",
    "Game-by-Game Performance: Examine performance trends over historical games to identify patterns."
   ]
  },
  {
   "cell_type": "markdown",
   "metadata": {
    "application/vnd.databricks.v1+cell": {
     "cellMetadata": {},
     "inputWidgets": {},
     "nuid": "6497c360-4f00-4297-bf02-8c4e5f551d8c",
     "showTitle": false,
     "title": ""
    }
   },
   "source": [
    "Sample Queries\n",
    "Top Goal Scorers"
   ]
  },
  {
   "cell_type": "code",
   "execution_count": 0,
   "metadata": {
    "application/vnd.databricks.v1+cell": {
     "cellMetadata": {
      "byteLimit": 2048000,
      "implicitDf": true,
      "rowLimit": 10000
     },
     "inputWidgets": {},
     "nuid": "be3bacb7-74ec-451b-a10e-f6174b6c1fa1",
     "showTitle": false,
     "title": ""
    }
   },
   "outputs": [
    {
     "output_type": "display_data",
     "data": {
      "text/html": [
       "<style scoped>\n",
       "  .table-result-container {\n",
       "    max-height: 300px;\n",
       "    overflow: auto;\n",
       "  }\n",
       "  table, th, td {\n",
       "    border: 1px solid black;\n",
       "    border-collapse: collapse;\n",
       "  }\n",
       "  th, td {\n",
       "    padding: 5px;\n",
       "  }\n",
       "  th {\n",
       "    text-align: left;\n",
       "  }\n",
       "</style><div class='table-result-container'><table class='table-result'><thead style='background-color: white'><tr><th>player_name</th><th>total_goals</th></tr></thead><tbody><tr><td>N’Golo Kanté</td><td>6</td></tr><tr><td>Marcus Rashford</td><td>6</td></tr><tr><td>Edouard Mendy</td><td>5</td></tr><tr><td>Raheem Sterling</td><td>4</td></tr><tr><td>Virgil van Dijk</td><td>4</td></tr><tr><td>Sergio Ramos</td><td>4</td></tr><tr><td>Paul Pogba</td><td>4</td></tr><tr><td>Christian Pulisic</td><td>4</td></tr><tr><td>Ben Chilwell</td><td>3</td></tr><tr><td>Bruno Fernandes</td><td>3</td></tr></tbody></table></div>"
      ]
     },
     "metadata": {
      "application/vnd.databricks.v1+output": {
       "addedWidgets": {},
       "aggData": [],
       "aggError": "",
       "aggOverflow": false,
       "aggSchema": [],
       "aggSeriesLimitReached": false,
       "aggType": "",
       "arguments": {},
       "columnCustomDisplayInfos": {},
       "data": [
        [
         "N’Golo Kanté",
         6
        ],
        [
         "Marcus Rashford",
         6
        ],
        [
         "Edouard Mendy",
         5
        ],
        [
         "Raheem Sterling",
         4
        ],
        [
         "Virgil van Dijk",
         4
        ],
        [
         "Sergio Ramos",
         4
        ],
        [
         "Paul Pogba",
         4
        ],
        [
         "Christian Pulisic",
         4
        ],
        [
         "Ben Chilwell",
         3
        ],
        [
         "Bruno Fernandes",
         3
        ]
       ],
       "datasetInfos": [],
       "dbfsResultPath": null,
       "isJsonSchema": true,
       "metadata": {},
       "overflow": false,
       "plotOptions": {
        "customPlotOptions": {},
        "displayType": "table",
        "pivotAggregation": null,
        "pivotColumns": null,
        "xColumns": null,
        "yColumns": null
       },
       "removedWidgets": [],
       "schema": [
        {
         "metadata": "{}",
         "name": "player_name",
         "type": "\"string\""
        },
        {
         "metadata": "{}",
         "name": "total_goals",
         "type": "\"long\""
        }
       ],
       "type": "table"
      }
     },
     "output_type": "display_data"
    }
   ],
   "source": [
    "%sql\n",
    "SELECT p.Name AS player_name, SUM(m.GoalsScored) AS total_goals\n",
    "FROM matches_csv m\n",
    "INNER JOIN players_csv p ON m.PlayerID = p.PlayerID\n",
    "GROUP BY p.Name\n",
    "ORDER BY total_goals DESC\n",
    "LIMIT 10;"
   ]
  },
  {
   "cell_type": "markdown",
   "metadata": {
    "application/vnd.databricks.v1+cell": {
     "cellMetadata": {},
     "inputWidgets": {},
     "nuid": "dbd2e0a5-1589-4cb0-8dca-f3c8726edda2",
     "showTitle": false,
     "title": ""
    }
   },
   "source": [
    "Match Results"
   ]
  },
  {
   "cell_type": "code",
   "execution_count": 0,
   "metadata": {
    "application/vnd.databricks.v1+cell": {
     "cellMetadata": {
      "byteLimit": 2048000,
      "implicitDf": true,
      "rowLimit": 10000
     },
     "inputWidgets": {},
     "nuid": "99d7f834-da9e-4d3f-be0e-7aa7c1519b4d",
     "showTitle": false,
     "title": ""
    }
   },
   "outputs": [
    {
     "output_type": "display_data",
     "data": {
      "text/html": [
       "<style scoped>\n",
       "  .table-result-container {\n",
       "    max-height: 300px;\n",
       "    overflow: auto;\n",
       "  }\n",
       "  table, th, td {\n",
       "    border: 1px solid black;\n",
       "    border-collapse: collapse;\n",
       "  }\n",
       "  th, td {\n",
       "    padding: 5px;\n",
       "  }\n",
       "  th {\n",
       "    text-align: left;\n",
       "  }\n",
       "</style><div class='table-result-container'><table class='table-result'><thead style='background-color: white'><tr><th>Opponent</th><th>num_matches</th><th>wins</th><th>draws</th><th>losses</th></tr></thead><tbody><tr><td>Leicester City</td><td>3</td><td>3</td><td>0</td><td>0</td></tr><tr><td>Tottenham Hotspur</td><td>3</td><td>3</td><td>0</td><td>0</td></tr><tr><td>Everton</td><td>2</td><td>2</td><td>0</td><td>0</td></tr><tr><td>Nottingham Forest</td><td>2</td><td>2</td><td>0</td><td>0</td></tr><tr><td>Manchester City</td><td>3</td><td>2</td><td>0</td><td>1</td></tr><tr><td>Manchester United</td><td>2</td><td>2</td><td>0</td><td>0</td></tr><tr><td>Sheffield United</td><td>1</td><td>1</td><td>0</td><td>0</td></tr><tr><td>Crystal Palace</td><td>1</td><td>1</td><td>0</td><td>0</td></tr><tr><td>Wolverhampton</td><td>2</td><td>1</td><td>1</td><td>0</td></tr><tr><td>Newcastle</td><td>2</td><td>1</td><td>1</td><td>0</td></tr><tr><td>Burnley</td><td>1</td><td>1</td><td>0</td><td>0</td></tr><tr><td>Aston Villa</td><td>1</td><td>1</td><td>0</td><td>0</td></tr><tr><td>Fulham</td><td>1</td><td>1</td><td>0</td><td>0</td></tr><tr><td>Arsenal</td><td>3</td><td>1</td><td>0</td><td>2</td></tr><tr><td>Brentford</td><td>2</td><td>0</td><td>2</td><td>0</td></tr><tr><td>West Ham</td><td>2</td><td>0</td><td>0</td><td>2</td></tr><tr><td>Bournemouth</td><td>1</td><td>0</td><td>1</td><td>0</td></tr><tr><td>Liverpool</td><td>3</td><td>0</td><td>3</td><td>0</td></tr><tr><td>Chelsea</td><td>1</td><td>0</td><td>1</td><td>0</td></tr></tbody></table></div>"
      ]
     },
     "metadata": {
      "application/vnd.databricks.v1+output": {
       "addedWidgets": {},
       "aggData": [],
       "aggError": "",
       "aggOverflow": false,
       "aggSchema": [],
       "aggSeriesLimitReached": false,
       "aggType": "",
       "arguments": {},
       "columnCustomDisplayInfos": {},
       "data": [
        [
         "Leicester City",
         3,
         3,
         0,
         0
        ],
        [
         "Tottenham Hotspur",
         3,
         3,
         0,
         0
        ],
        [
         "Everton",
         2,
         2,
         0,
         0
        ],
        [
         "Nottingham Forest",
         2,
         2,
         0,
         0
        ],
        [
         "Manchester City",
         3,
         2,
         0,
         1
        ],
        [
         "Manchester United",
         2,
         2,
         0,
         0
        ],
        [
         "Sheffield United",
         1,
         1,
         0,
         0
        ],
        [
         "Crystal Palace",
         1,
         1,
         0,
         0
        ],
        [
         "Wolverhampton",
         2,
         1,
         1,
         0
        ],
        [
         "Newcastle",
         2,
         1,
         1,
         0
        ],
        [
         "Burnley",
         1,
         1,
         0,
         0
        ],
        [
         "Aston Villa",
         1,
         1,
         0,
         0
        ],
        [
         "Fulham",
         1,
         1,
         0,
         0
        ],
        [
         "Arsenal",
         3,
         1,
         0,
         2
        ],
        [
         "Brentford",
         2,
         0,
         2,
         0
        ],
        [
         "West Ham",
         2,
         0,
         0,
         2
        ],
        [
         "Bournemouth",
         1,
         0,
         1,
         0
        ],
        [
         "Liverpool",
         3,
         0,
         3,
         0
        ],
        [
         "Chelsea",
         1,
         0,
         1,
         0
        ]
       ],
       "datasetInfos": [],
       "dbfsResultPath": null,
       "isJsonSchema": true,
       "metadata": {},
       "overflow": false,
       "plotOptions": {
        "customPlotOptions": {},
        "displayType": "table",
        "pivotAggregation": null,
        "pivotColumns": null,
        "xColumns": null,
        "yColumns": null
       },
       "removedWidgets": [],
       "schema": [
        {
         "metadata": "{}",
         "name": "Opponent",
         "type": "\"string\""
        },
        {
         "metadata": "{}",
         "name": "num_matches",
         "type": "\"long\""
        },
        {
         "metadata": "{}",
         "name": "wins",
         "type": "\"long\""
        },
        {
         "metadata": "{}",
         "name": "draws",
         "type": "\"long\""
        },
        {
         "metadata": "{}",
         "name": "losses",
         "type": "\"long\""
        }
       ],
       "type": "table"
      }
     },
     "output_type": "display_data"
    }
   ],
   "source": [
    "%sql\n",
    "SELECT Opponent, COUNT(*) AS num_matches, \n",
    "       SUM(CASE WHEN Result = 'Win' THEN 1 ELSE 0 END) AS wins,\n",
    "       SUM(CASE WHEN Result = 'Draw' THEN 1 ELSE 0 END) AS draws,\n",
    "       SUM(CASE WHEN Result = 'Lose' THEN 1 ELSE 0 END) AS losses\n",
    "FROM matches_csv\n",
    "GROUP BY Opponent\n",
    "ORDER BY wins DESC;\n"
   ]
  },
  {
   "cell_type": "markdown",
   "metadata": {
    "application/vnd.databricks.v1+cell": {
     "cellMetadata": {},
     "inputWidgets": {},
     "nuid": "32df0841-c525-4a23-837b-844618cd8190",
     "showTitle": false,
     "title": ""
    }
   },
   "source": [
    "Revenue Analysis"
   ]
  },
  {
   "cell_type": "code",
   "execution_count": 0,
   "metadata": {
    "application/vnd.databricks.v1+cell": {
     "cellMetadata": {
      "byteLimit": 2048000,
      "implicitDf": true,
      "rowLimit": 10000
     },
     "inputWidgets": {},
     "nuid": "83d0bba6-9168-4f79-a7f4-b06b11a31a06",
     "showTitle": false,
     "title": ""
    }
   },
   "outputs": [
    {
     "output_type": "display_data",
     "data": {
      "text/html": [
       "<style scoped>\n",
       "  .table-result-container {\n",
       "    max-height: 300px;\n",
       "    overflow: auto;\n",
       "  }\n",
       "  table, th, td {\n",
       "    border: 1px solid black;\n",
       "    border-collapse: collapse;\n",
       "  }\n",
       "  th, td {\n",
       "    padding: 5px;\n",
       "  }\n",
       "  th {\n",
       "    text-align: left;\n",
       "  }\n",
       "</style><div class='table-result-container'><table class='table-result'><thead style='background-color: white'><tr><th>total_revenue</th></tr></thead><tbody><tr><td>310000.0</td></tr></tbody></table></div>"
      ]
     },
     "metadata": {
      "application/vnd.databricks.v1+output": {
       "addedWidgets": {},
       "aggData": [],
       "aggError": "",
       "aggOverflow": false,
       "aggSchema": [],
       "aggSeriesLimitReached": false,
       "aggType": "",
       "arguments": {},
       "columnCustomDisplayInfos": {},
       "data": [
        [
         310000.0
        ]
       ],
       "datasetInfos": [],
       "dbfsResultPath": null,
       "isJsonSchema": true,
       "metadata": {},
       "overflow": false,
       "plotOptions": {
        "customPlotOptions": {},
        "displayType": "table",
        "pivotAggregation": null,
        "pivotColumns": null,
        "xColumns": null,
        "yColumns": null
       },
       "removedWidgets": [],
       "schema": [
        {
         "metadata": "{}",
         "name": "total_revenue",
         "type": "\"double\""
        }
       ],
       "type": "table"
      }
     },
     "output_type": "display_data"
    }
   ],
   "source": [
    "%sql\n",
    "SELECT SUM(revenue) AS total_revenue\n",
    "FROM financials_csv;"
   ]
  },
  {
   "cell_type": "markdown",
   "metadata": {
    "application/vnd.databricks.v1+cell": {
     "cellMetadata": {},
     "inputWidgets": {},
     "nuid": "0dc62339-46b2-4867-b75f-f0b4387fd0dd",
     "showTitle": false,
     "title": ""
    }
   },
   "source": [
    "Manager Impact"
   ]
  },
  {
   "cell_type": "code",
   "execution_count": 0,
   "metadata": {
    "application/vnd.databricks.v1+cell": {
     "cellMetadata": {
      "byteLimit": 2048000,
      "implicitDf": true,
      "rowLimit": 10000
     },
     "inputWidgets": {},
     "nuid": "f2886924-477c-4abf-ac13-8580bf88ab33",
     "showTitle": false,
     "title": ""
    }
   },
   "outputs": [
    {
     "output_type": "display_data",
     "data": {
      "text/html": [
       "<style scoped>\n",
       "  .table-result-container {\n",
       "    max-height: 300px;\n",
       "    overflow: auto;\n",
       "  }\n",
       "  table, th, td {\n",
       "    border: 1px solid black;\n",
       "    border-collapse: collapse;\n",
       "  }\n",
       "  th, td {\n",
       "    padding: 5px;\n",
       "  }\n",
       "  th {\n",
       "    text-align: left;\n",
       "  }\n",
       "</style><div class='table-result-container'><table class='table-result'><thead style='background-color: white'><tr><th>col_name</th><th>data_type</th><th>comment</th></tr></thead><tbody><tr><td>MatchID</td><td>int</td><td>null</td></tr><tr><td>Date</td><td>date</td><td>null</td></tr><tr><td>Opponent</td><td>string</td><td>null</td></tr><tr><td>Home/Away</td><td>string</td><td>null</td></tr><tr><td>Result</td><td>string</td><td>null</td></tr><tr><td>GoalsScored</td><td>int</td><td>null</td></tr><tr><td>GoalsConceded</td><td>int</td><td>null</td></tr></tbody></table></div>"
      ]
     },
     "metadata": {
      "application/vnd.databricks.v1+output": {
       "addedWidgets": {},
       "aggData": [],
       "aggError": "",
       "aggOverflow": false,
       "aggSchema": [],
       "aggSeriesLimitReached": false,
       "aggType": "",
       "arguments": {},
       "columnCustomDisplayInfos": {},
       "data": [
        [
         "MatchID",
         "int",
         null
        ],
        [
         "Date",
         "date",
         null
        ],
        [
         "Opponent",
         "string",
         null
        ],
        [
         "Home/Away",
         "string",
         null
        ],
        [
         "Result",
         "string",
         null
        ],
        [
         "GoalsScored",
         "int",
         null
        ],
        [
         "GoalsConceded",
         "int",
         null
        ]
       ],
       "datasetInfos": [],
       "dbfsResultPath": null,
       "isJsonSchema": true,
       "metadata": {},
       "overflow": false,
       "plotOptions": {
        "customPlotOptions": {},
        "displayType": "table",
        "pivotAggregation": null,
        "pivotColumns": null,
        "xColumns": null,
        "yColumns": null
       },
       "removedWidgets": [],
       "schema": [
        {
         "metadata": "{\"comment\":\"name of the column\"}",
         "name": "col_name",
         "type": "\"string\""
        },
        {
         "metadata": "{\"comment\":\"data type of the column\"}",
         "name": "data_type",
         "type": "\"string\""
        },
        {
         "metadata": "{\"comment\":\"comment of the column\"}",
         "name": "comment",
         "type": "\"string\""
        }
       ],
       "type": "table"
      }
     },
     "output_type": "display_data"
    }
   ],
   "source": [
    "%sql\n",
    "DESCRIBE historical_performance_csv"
   ]
  },
  {
   "cell_type": "markdown",
   "metadata": {
    "application/vnd.databricks.v1+cell": {
     "cellMetadata": {},
     "inputWidgets": {},
     "nuid": "80083c92-f062-4d18-8e71-8ce885a2dbd9",
     "showTitle": false,
     "title": ""
    }
   },
   "source": [
    "It looks like the historical_performance_csv table does not include columns for manager names or performance scores. Based on the available columns, here’s what you can do to proceed with analysis related to historical performance:\n",
    "\n",
    "If Manager Information is in Another Table: If you have manager information in a different table, you'll need to join that table with the historical performance data to perform any analysis.\n",
    "\n",
    "Calculate Performance Metrics from Available Data: If you want to analyze performance metrics using the available columns, you can aggregate data like goals scored or conceded.\n",
    "\n",
    "Here’s an example of how you might aggregate the performance data:\n",
    "\n",
    "Example 1: Analyzing Total Goals Scored and Conceded"
   ]
  },
  {
   "cell_type": "code",
   "execution_count": 0,
   "metadata": {
    "application/vnd.databricks.v1+cell": {
     "cellMetadata": {
      "byteLimit": 2048000,
      "implicitDf": true,
      "rowLimit": 10000
     },
     "inputWidgets": {},
     "nuid": "dfe5da8b-de54-4411-bfbf-44ea31e96e1a",
     "showTitle": false,
     "title": ""
    }
   },
   "outputs": [
    {
     "output_type": "display_data",
     "data": {
      "text/html": [
       "<style scoped>\n",
       "  .table-result-container {\n",
       "    max-height: 300px;\n",
       "    overflow: auto;\n",
       "  }\n",
       "  table, th, td {\n",
       "    border: 1px solid black;\n",
       "    border-collapse: collapse;\n",
       "  }\n",
       "  th, td {\n",
       "    padding: 5px;\n",
       "  }\n",
       "  th {\n",
       "    text-align: left;\n",
       "  }\n",
       "</style><div class='table-result-container'><table class='table-result'><thead style='background-color: white'><tr><th>total_goals_scored</th><th>total_goals_conceded</th></tr></thead><tbody><tr><td>50</td><td>31</td></tr></tbody></table></div>"
      ]
     },
     "metadata": {
      "application/vnd.databricks.v1+output": {
       "addedWidgets": {},
       "aggData": [],
       "aggError": "",
       "aggOverflow": false,
       "aggSchema": [],
       "aggSeriesLimitReached": false,
       "aggType": "",
       "arguments": {},
       "columnCustomDisplayInfos": {},
       "data": [
        [
         50,
         31
        ]
       ],
       "datasetInfos": [],
       "dbfsResultPath": null,
       "isJsonSchema": true,
       "metadata": {},
       "overflow": false,
       "plotOptions": {
        "customPlotOptions": {},
        "displayType": "table",
        "pivotAggregation": null,
        "pivotColumns": null,
        "xColumns": null,
        "yColumns": null
       },
       "removedWidgets": [],
       "schema": [
        {
         "metadata": "{}",
         "name": "total_goals_scored",
         "type": "\"long\""
        },
        {
         "metadata": "{}",
         "name": "total_goals_conceded",
         "type": "\"long\""
        }
       ],
       "type": "table"
      }
     },
     "output_type": "display_data"
    }
   ],
   "source": [
    "%sql\n",
    "-- Calculate total goals scored and conceded in historical matches\n",
    "SELECT SUM(GoalsScored) AS total_goals_scored, SUM(GoalsConceded) AS total_goals_conceded\n",
    "FROM historical_performance_csv;\n"
   ]
  },
  {
   "cell_type": "markdown",
   "metadata": {
    "application/vnd.databricks.v1+cell": {
     "cellMetadata": {},
     "inputWidgets": {},
     "nuid": "e5e005b1-854c-4889-9f25-f00414e606d9",
     "showTitle": false,
     "title": ""
    }
   },
   "source": [
    "Example 2: Performance by Opponent"
   ]
  },
  {
   "cell_type": "code",
   "execution_count": 0,
   "metadata": {
    "application/vnd.databricks.v1+cell": {
     "cellMetadata": {
      "byteLimit": 2048000,
      "implicitDf": true,
      "rowLimit": 10000
     },
     "inputWidgets": {},
     "nuid": "451104ef-91f0-4ce6-989b-2e7d14ee5125",
     "showTitle": false,
     "title": ""
    }
   },
   "outputs": [
    {
     "output_type": "display_data",
     "data": {
      "text/html": [
       "<style scoped>\n",
       "  .table-result-container {\n",
       "    max-height: 300px;\n",
       "    overflow: auto;\n",
       "  }\n",
       "  table, th, td {\n",
       "    border: 1px solid black;\n",
       "    border-collapse: collapse;\n",
       "  }\n",
       "  th, td {\n",
       "    padding: 5px;\n",
       "  }\n",
       "  th {\n",
       "    text-align: left;\n",
       "  }\n",
       "</style><div class='table-result-container'><table class='table-result'><thead style='background-color: white'><tr><th>Opponent</th><th>avg_goals_scored</th><th>avg_goals_conceded</th></tr></thead><tbody><tr><td>Sheffield United</td><td>3.5</td><td>1.0</td></tr><tr><td>Burnley</td><td>3.0</td><td>0.0</td></tr><tr><td>Arsenal</td><td>2.5</td><td>1.5</td></tr><tr><td>Leicester City</td><td>2.5</td><td>1.5</td></tr><tr><td>Tottenham Hotspur</td><td>2.5</td><td>0.5</td></tr><tr><td>Brentford</td><td>2.0</td><td>2.0</td></tr><tr><td>Crystal Palace</td><td>2.0</td><td>1.0</td></tr><tr><td>West Ham</td><td>2.0</td><td>1.5</td></tr><tr><td>Southampton</td><td>2.0</td><td>0.0</td></tr><tr><td>Manchester United</td><td>1.5</td><td>1.0</td></tr><tr><td>Newcastle</td><td>1.5</td><td>0.5</td></tr><tr><td>Everton</td><td>1.5</td><td>0.5</td></tr><tr><td>Brighton</td><td>1.0</td><td>0.5</td></tr><tr><td>Aston Villa</td><td>1.0</td><td>0.0</td></tr><tr><td>Nottingham Forest</td><td>1.0</td><td>0.0</td></tr><tr><td>Wolverhampton</td><td>1.0</td><td>1.0</td></tr><tr><td>Liverpool</td><td>0.5</td><td>1.5</td></tr><tr><td>Manchester City</td><td>0.0</td><td>2.5</td></tr><tr><td>Chelsea</td><td>0.0</td><td>2.0</td></tr></tbody></table></div>"
      ]
     },
     "metadata": {
      "application/vnd.databricks.v1+output": {
       "addedWidgets": {},
       "aggData": [],
       "aggError": "",
       "aggOverflow": false,
       "aggSchema": [],
       "aggSeriesLimitReached": false,
       "aggType": "",
       "arguments": {},
       "columnCustomDisplayInfos": {},
       "data": [
        [
         "Sheffield United",
         3.5,
         1.0
        ],
        [
         "Burnley",
         3.0,
         0.0
        ],
        [
         "Arsenal",
         2.5,
         1.5
        ],
        [
         "Leicester City",
         2.5,
         1.5
        ],
        [
         "Tottenham Hotspur",
         2.5,
         0.5
        ],
        [
         "Brentford",
         2.0,
         2.0
        ],
        [
         "Crystal Palace",
         2.0,
         1.0
        ],
        [
         "West Ham",
         2.0,
         1.5
        ],
        [
         "Southampton",
         2.0,
         0.0
        ],
        [
         "Manchester United",
         1.5,
         1.0
        ],
        [
         "Newcastle",
         1.5,
         0.5
        ],
        [
         "Everton",
         1.5,
         0.5
        ],
        [
         "Brighton",
         1.0,
         0.5
        ],
        [
         "Aston Villa",
         1.0,
         0.0
        ],
        [
         "Nottingham Forest",
         1.0,
         0.0
        ],
        [
         "Wolverhampton",
         1.0,
         1.0
        ],
        [
         "Liverpool",
         0.5,
         1.5
        ],
        [
         "Manchester City",
         0.0,
         2.5
        ],
        [
         "Chelsea",
         0.0,
         2.0
        ]
       ],
       "datasetInfos": [],
       "dbfsResultPath": null,
       "isJsonSchema": true,
       "metadata": {},
       "overflow": false,
       "plotOptions": {
        "customPlotOptions": {},
        "displayType": "table",
        "pivotAggregation": null,
        "pivotColumns": null,
        "xColumns": null,
        "yColumns": null
       },
       "removedWidgets": [],
       "schema": [
        {
         "metadata": "{}",
         "name": "Opponent",
         "type": "\"string\""
        },
        {
         "metadata": "{}",
         "name": "avg_goals_scored",
         "type": "\"double\""
        },
        {
         "metadata": "{}",
         "name": "avg_goals_conceded",
         "type": "\"double\""
        }
       ],
       "type": "table"
      }
     },
     "output_type": "display_data"
    }
   ],
   "source": [
    "%sql\n",
    "-- Calculate average goals scored and conceded against each opponent\n",
    "SELECT Opponent, AVG(GoalsScored) AS avg_goals_scored, AVG(GoalsConceded) AS avg_goals_conceded\n",
    "FROM historical_performance_csv\n",
    "GROUP BY Opponent\n",
    "ORDER BY avg_goals_scored DESC;"
   ]
  },
  {
   "cell_type": "markdown",
   "metadata": {
    "application/vnd.databricks.v1+cell": {
     "cellMetadata": {},
     "inputWidgets": {},
     "nuid": "aeb367ad-2e2e-4ba5-96aa-23fde9725831",
     "showTitle": false,
     "title": ""
    }
   },
   "source": [
    "Example 3: Performance at Home vs. Away"
   ]
  },
  {
   "cell_type": "code",
   "execution_count": 0,
   "metadata": {
    "application/vnd.databricks.v1+cell": {
     "cellMetadata": {
      "byteLimit": 2048000,
      "implicitDf": true,
      "rowLimit": 10000
     },
     "inputWidgets": {},
     "nuid": "74ad52a9-f1b8-4353-b682-17f95a62b0a3",
     "showTitle": false,
     "title": ""
    }
   },
   "outputs": [
    {
     "output_type": "display_data",
     "data": {
      "text/html": [
       "<style scoped>\n",
       "  .table-result-container {\n",
       "    max-height: 300px;\n",
       "    overflow: auto;\n",
       "  }\n",
       "  table, th, td {\n",
       "    border: 1px solid black;\n",
       "    border-collapse: collapse;\n",
       "  }\n",
       "  th, td {\n",
       "    padding: 5px;\n",
       "  }\n",
       "  th {\n",
       "    text-align: left;\n",
       "  }\n",
       "</style><div class='table-result-container'><table class='table-result'><thead style='background-color: white'><tr><th>Home/Away</th><th>avg_goals_scored</th><th>avg_goals_conceded</th></tr></thead><tbody><tr><td>Home</td><td>2.3125</td><td>1.0</td></tr><tr><td>Away</td><td>0.9285714285714286</td><td>1.0714285714285714</td></tr></tbody></table></div>"
      ]
     },
     "metadata": {
      "application/vnd.databricks.v1+output": {
       "addedWidgets": {},
       "aggData": [],
       "aggError": "",
       "aggOverflow": false,
       "aggSchema": [],
       "aggSeriesLimitReached": false,
       "aggType": "",
       "arguments": {},
       "columnCustomDisplayInfos": {},
       "data": [
        [
         "Home",
         2.3125,
         1.0
        ],
        [
         "Away",
         0.9285714285714286,
         1.0714285714285714
        ]
       ],
       "datasetInfos": [],
       "dbfsResultPath": null,
       "isJsonSchema": true,
       "metadata": {},
       "overflow": false,
       "plotOptions": {
        "customPlotOptions": {},
        "displayType": "table",
        "pivotAggregation": null,
        "pivotColumns": null,
        "xColumns": null,
        "yColumns": null
       },
       "removedWidgets": [],
       "schema": [
        {
         "metadata": "{}",
         "name": "Home/Away",
         "type": "\"string\""
        },
        {
         "metadata": "{}",
         "name": "avg_goals_scored",
         "type": "\"double\""
        },
        {
         "metadata": "{}",
         "name": "avg_goals_conceded",
         "type": "\"double\""
        }
       ],
       "type": "table"
      }
     },
     "output_type": "display_data"
    }
   ],
   "source": [
    "%sql\n",
    "-- Compare average goals scored and conceded at home vs. away\n",
    "SELECT `Home/Away`, AVG(GoalsScored) AS avg_goals_scored, AVG(GoalsConceded) AS avg_goals_conceded\n",
    "FROM historical_performance_csv\n",
    "GROUP BY `Home/Away`;\n"
   ]
  },
  {
   "cell_type": "markdown",
   "metadata": {
    "application/vnd.databricks.v1+cell": {
     "cellMetadata": {},
     "inputWidgets": {},
     "nuid": "5149d5b6-712d-4c7b-9d05-c18ffc4e5828",
     "showTitle": false,
     "title": ""
    }
   },
   "source": [
    "Investor Contributions"
   ]
  },
  {
   "cell_type": "code",
   "execution_count": 0,
   "metadata": {
    "application/vnd.databricks.v1+cell": {
     "cellMetadata": {
      "byteLimit": 2048000,
      "implicitDf": true,
      "rowLimit": 10000
     },
     "inputWidgets": {},
     "nuid": "7826d355-c6ff-4cf6-a8ab-91c2e6b35d3f",
     "showTitle": false,
     "title": ""
    }
   },
   "outputs": [
    {
     "output_type": "display_data",
     "data": {
      "text/html": [
       "<style scoped>\n",
       "  .table-result-container {\n",
       "    max-height: 300px;\n",
       "    overflow: auto;\n",
       "  }\n",
       "  table, th, td {\n",
       "    border: 1px solid black;\n",
       "    border-collapse: collapse;\n",
       "  }\n",
       "  th, td {\n",
       "    padding: 5px;\n",
       "  }\n",
       "  th {\n",
       "    text-align: left;\n",
       "  }\n",
       "</style><div class='table-result-container'><table class='table-result'><thead style='background-color: white'><tr><th>investor_name</th><th>total_contribution</th></tr></thead><tbody><tr><td>Acme Corp</td><td>10000000</td></tr><tr><td>NextGen Partners</td><td>8000000</td></tr><tr><td>Advanced Capital</td><td>8000000</td></tr><tr><td>Tech Giants Inc</td><td>7500000</td></tr><tr><td>Insight Capital</td><td>7000000</td></tr><tr><td>Global Finance</td><td>7000000</td></tr><tr><td>Future Capital</td><td>7000000</td></tr><tr><td>Prime Equity</td><td>6500000</td></tr><tr><td>Visionary Fund</td><td>6000000</td></tr><tr><td>XYZ Holdings</td><td>6000000</td></tr><tr><td>Innovative Ventures</td><td>6000000</td></tr><tr><td>Green Ventures</td><td>5500000</td></tr><tr><td>Global Wealth Fund</td><td>5500000</td></tr><tr><td>Urban Capital</td><td>5000000</td></tr><tr><td>Elite Investors</td><td>5000000</td></tr><tr><td>Elite Holdings</td><td>5000000</td></tr><tr><td>John Doe</td><td>5000000</td></tr><tr><td>Smart Investments</td><td>4500000</td></tr><tr><td>Dynamic Holdings</td><td>4500000</td></tr><tr><td>Strategic Wealth</td><td>4000000</td></tr><tr><td>ABC Ventures</td><td>4000000</td></tr><tr><td>Innovate Inc</td><td>3500000</td></tr><tr><td>Capital Boost</td><td>3500000</td></tr><tr><td>Green Energy Fund</td><td>3500000</td></tr><tr><td>NextLevel Fund</td><td>3000000</td></tr><tr><td>Legacy Group</td><td>3000000</td></tr><tr><td>Strategic Partners</td><td>3000000</td></tr><tr><td>Jane Smith</td><td>3000000</td></tr><tr><td>Global Investments</td><td>2500000</td></tr><tr><td>Future Finance</td><td>2000000</td></tr></tbody></table></div>"
      ]
     },
     "metadata": {
      "application/vnd.databricks.v1+output": {
       "addedWidgets": {},
       "aggData": [],
       "aggError": "",
       "aggOverflow": false,
       "aggSchema": [],
       "aggSeriesLimitReached": false,
       "aggType": "",
       "arguments": {},
       "columnCustomDisplayInfos": {},
       "data": [
        [
         "Acme Corp",
         10000000
        ],
        [
         "NextGen Partners",
         8000000
        ],
        [
         "Advanced Capital",
         8000000
        ],
        [
         "Tech Giants Inc",
         7500000
        ],
        [
         "Insight Capital",
         7000000
        ],
        [
         "Global Finance",
         7000000
        ],
        [
         "Future Capital",
         7000000
        ],
        [
         "Prime Equity",
         6500000
        ],
        [
         "Visionary Fund",
         6000000
        ],
        [
         "XYZ Holdings",
         6000000
        ],
        [
         "Innovative Ventures",
         6000000
        ],
        [
         "Green Ventures",
         5500000
        ],
        [
         "Global Wealth Fund",
         5500000
        ],
        [
         "Urban Capital",
         5000000
        ],
        [
         "Elite Investors",
         5000000
        ],
        [
         "Elite Holdings",
         5000000
        ],
        [
         "John Doe",
         5000000
        ],
        [
         "Smart Investments",
         4500000
        ],
        [
         "Dynamic Holdings",
         4500000
        ],
        [
         "Strategic Wealth",
         4000000
        ],
        [
         "ABC Ventures",
         4000000
        ],
        [
         "Innovate Inc",
         3500000
        ],
        [
         "Capital Boost",
         3500000
        ],
        [
         "Green Energy Fund",
         3500000
        ],
        [
         "NextLevel Fund",
         3000000
        ],
        [
         "Legacy Group",
         3000000
        ],
        [
         "Strategic Partners",
         3000000
        ],
        [
         "Jane Smith",
         3000000
        ],
        [
         "Global Investments",
         2500000
        ],
        [
         "Future Finance",
         2000000
        ]
       ],
       "datasetInfos": [],
       "dbfsResultPath": null,
       "isJsonSchema": true,
       "metadata": {},
       "overflow": false,
       "plotOptions": {
        "customPlotOptions": {},
        "displayType": "table",
        "pivotAggregation": null,
        "pivotColumns": null,
        "xColumns": null,
        "yColumns": null
       },
       "removedWidgets": [],
       "schema": [
        {
         "metadata": "{}",
         "name": "investor_name",
         "type": "\"string\""
        },
        {
         "metadata": "{}",
         "name": "total_contribution",
         "type": "\"long\""
        }
       ],
       "type": "table"
      }
     },
     "output_type": "display_data"
    }
   ],
   "source": [
    "%sql\n",
    "-- Calculate total contribution from each investor\n",
    "SELECT Name AS investor_name, SUM(InvestmentAmount) AS total_contribution\n",
    "FROM investors_csv\n",
    "GROUP BY Name\n",
    "ORDER BY total_contribution DESC;\n"
   ]
  },
  {
   "cell_type": "markdown",
   "metadata": {
    "application/vnd.databricks.v1+cell": {
     "cellMetadata": {},
     "inputWidgets": {},
     "nuid": "05c4c4ce-3daf-4db5-a396-bee39cd3c608",
     "showTitle": false,
     "title": ""
    }
   },
   "source": [
    "What if now you see all the tables and the sample data on those tables, then we do some visualizations, and later also do some modeling, and some serious reports with lots of JOINs.\n",
    "We also create AGGs and load data, we create FACT tables and load data, create some procedures to send email alerts and do scheduled runs to load some tables, we also do monitoring of the environments using procedures and python scripts, we create some views and TEMP tables among other stuffs?"
   ]
  },
  {
   "cell_type": "markdown",
   "metadata": {
    "application/vnd.databricks.v1+cell": {
     "cellMetadata": {},
     "inputWidgets": {},
     "nuid": "7bb0dfeb-4b3f-4b78-9cfe-06b2758112fb",
     "showTitle": false,
     "title": ""
    }
   },
   "source": [
    "That sounds like a comprehensive data analysis and management plan! Here’s a broad outline of how you could tackle each part of the project:\n",
    "\n",
    "1. Explore Tables and Sample Data\n",
    "View Table Structures:\n",
    "\n",
    "sql\n",
    "Copy code\n",
    "DESCRIBE <table_name>;\n",
    "Sample Data:\n",
    "\n",
    "sql\n",
    "Copy code\n",
    "SELECT * FROM <table_name> LIMIT 10;\n",
    "2. Visualizations\n",
    "Tools:\n",
    "\n",
    "Matplotlib/Seaborn in Python\n",
    "Tableau or Power BI for interactive dashboards\n",
    "Examples:\n",
    "\n",
    "Bar Charts: Total goals per player\n",
    "Line Charts: Trends in goals scored over time\n",
    "Pie Charts: Distribution of match results (Win/Draw/Lose)\n",
    "3. Data Modeling\n",
    "Create Fact Tables:\n",
    "\n",
    "Example Fact Table: match_performance_fact\n",
    "sql\n",
    "Copy code\n",
    "CREATE TABLE match_performance_fact (\n",
    "    MatchID INT,\n",
    "    Date DATE,\n",
    "    GoalsScored INT,\n",
    "    GoalsConceded INT,\n",
    "    PlayerID INT\n",
    ");\n",
    "Create Dimension Tables:\n",
    "\n",
    "Player Dimension:\n",
    "sql\n",
    "Copy code\n",
    "CREATE TABLE player_dim (\n",
    "    PlayerID INT PRIMARY KEY,\n",
    "    Name STRING,\n",
    "    Position STRING,\n",
    "    Nationality STRING,\n",
    "    Age INT\n",
    ");\n",
    "4. Aggregations\n",
    "Example Aggregation:\n",
    "sql\n",
    "Copy code\n",
    "SELECT PlayerID, SUM(GoalsScored) AS TotalGoals\n",
    "FROM matches_csv\n",
    "GROUP BY PlayerID;\n",
    "5. Procedures and Scheduled Jobs\n",
    "Send Email Alerts:\n",
    "\n",
    "Use Python scripts with smtplib or a database procedure to send emails when certain conditions are met.\n",
    "Scheduled Data Loads:\n",
    "\n",
    "Using SQL:\n",
    "\n",
    "sql\n",
    "Copy code\n",
    "CREATE PROCEDURE load_match_data()\n",
    "BEGIN\n",
    "    -- SQL to load data\n",
    "END;\n",
    "Scheduled Jobs:\n",
    "\n",
    "Using cron jobs (for Unix-like systems) or Task Scheduler (for Windows) to run the procedure at regular intervals.\n",
    "6. Monitoring\n",
    "Environment Monitoring:\n",
    "Python Scripts: Use libraries like psutil to monitor system performance.\n",
    "Database Monitoring: Use database-specific tools to monitor performance metrics.\n",
    "7. Views and TEMP Tables\n",
    "Create Views:\n",
    "\n",
    "sql\n",
    "Copy code\n",
    "CREATE VIEW player_performance AS\n",
    "SELECT PlayerID, SUM(GoalsScored) AS TotalGoals\n",
    "FROM matches_csv\n",
    "GROUP BY PlayerID;\n",
    "Create TEMP Tables:\n",
    "\n",
    "sql\n",
    "Copy code\n",
    "CREATE TEMPORARY TABLE temp_match_stats AS\n",
    "SELECT * FROM matches_csv;\n",
    "8. Reporting\n",
    "Complex Queries:\n",
    "Join Operations: Combine data from multiple tables to create comprehensive reports.\n",
    "Example:\n",
    "sql\n",
    "Copy code\n",
    "SELECT p.Name, m.Date, m.GoalsScored\n",
    "FROM matches_csv m\n",
    "JOIN players_csv p ON m.PlayerID = p.PlayerID\n",
    "WHERE m.Date BETWEEN '2024-01-01' AND '2024-12-31';\n",
    "Example Workflow\n",
    "Extract Data: Load data from CSVs or databases.\n",
    "Transform Data: Clean and preprocess data.\n",
    "Load Data: Insert into fact and dimension tables.\n",
    "Visualize Data: Create charts and dashboards.\n",
    "Analyze Data: Run aggregations and join tables.\n",
    "Automate: Set up procedures and schedules.\n",
    "Monitor: Track system and query performance.\n",
    "Report: Generate and share insights.\n",
    "Feel free to adjust these steps based on your specific needs and environment. If you have any particular requirements or questions, let me know!"
   ]
  },
  {
   "cell_type": "code",
   "execution_count": 0,
   "metadata": {
    "application/vnd.databricks.v1+cell": {
     "cellMetadata": {
      "byteLimit": 2048000,
      "implicitDf": true,
      "rowLimit": 10000
     },
     "inputWidgets": {},
     "nuid": "d1c70b59-c64a-49e9-acef-a163587162f0",
     "showTitle": false,
     "title": ""
    }
   },
   "outputs": [
    {
     "output_type": "display_data",
     "data": {
      "text/html": [
       "<style scoped>\n",
       "  .table-result-container {\n",
       "    max-height: 300px;\n",
       "    overflow: auto;\n",
       "  }\n",
       "  table, th, td {\n",
       "    border: 1px solid black;\n",
       "    border-collapse: collapse;\n",
       "  }\n",
       "  th, td {\n",
       "    padding: 5px;\n",
       "  }\n",
       "  th {\n",
       "    text-align: left;\n",
       "  }\n",
       "</style><div class='table-result-container'><table class='table-result'><thead style='background-color: white'><tr><th>database</th><th>tableName</th><th>isTemporary</th></tr></thead><tbody><tr><td>default</td><td>financials_csv</td><td>false</td></tr><tr><td>default</td><td>match_manager_link</td><td>false</td></tr><tr><td>default</td><td>matches_csv</td><td>false</td></tr><tr><td>default</td><td>players_csv</td><td>false</td></tr><tr><td>default</td><td>players_csv_1_txt</td><td>false</td></tr><tr><td></td><td>historical_performance_csv</td><td>true</td></tr><tr><td></td><td>investors_csv</td><td>true</td></tr><tr><td></td><td>managers_csv</td><td>true</td></tr><tr><td></td><td>players_csv_1_txt</td><td>true</td></tr></tbody></table></div>"
      ]
     },
     "metadata": {
      "application/vnd.databricks.v1+output": {
       "addedWidgets": {},
       "aggData": [],
       "aggError": "",
       "aggOverflow": false,
       "aggSchema": [],
       "aggSeriesLimitReached": false,
       "aggType": "",
       "arguments": {},
       "columnCustomDisplayInfos": {},
       "data": [
        [
         "default",
         "financials_csv",
         false
        ],
        [
         "default",
         "match_manager_link",
         false
        ],
        [
         "default",
         "matches_csv",
         false
        ],
        [
         "default",
         "players_csv",
         false
        ],
        [
         "default",
         "players_csv_1_txt",
         false
        ],
        [
         "",
         "historical_performance_csv",
         true
        ],
        [
         "",
         "investors_csv",
         true
        ],
        [
         "",
         "managers_csv",
         true
        ],
        [
         "",
         "players_csv_1_txt",
         true
        ]
       ],
       "datasetInfos": [],
       "dbfsResultPath": null,
       "isJsonSchema": true,
       "metadata": {},
       "overflow": false,
       "plotOptions": {
        "customPlotOptions": {},
        "displayType": "table",
        "pivotAggregation": null,
        "pivotColumns": null,
        "xColumns": null,
        "yColumns": null
       },
       "removedWidgets": [],
       "schema": [
        {
         "metadata": "{}",
         "name": "database",
         "type": "\"string\""
        },
        {
         "metadata": "{}",
         "name": "tableName",
         "type": "\"string\""
        },
        {
         "metadata": "{}",
         "name": "isTemporary",
         "type": "\"boolean\""
        }
       ],
       "type": "table"
      }
     },
     "output_type": "display_data"
    }
   ],
   "source": [
    "%sql\n",
    "SHOW TABLES"
   ]
  },
  {
   "cell_type": "markdown",
   "metadata": {
    "application/vnd.databricks.v1+cell": {
     "cellMetadata": {},
     "inputWidgets": {},
     "nuid": "ec52dffb-328c-45fa-b653-371fb4fe4ea3",
     "showTitle": false,
     "title": ""
    }
   },
   "source": [
    "It looks like you have several tables and temporary views available. Here's a summary of the tables and views:\n",
    "\n",
    "Tables\n",
    "financials_csv\n",
    "match_manager_link\n",
    "matches_csv\n",
    "players_csv\n",
    "Temporary Views\n",
    "historical_performance_csv\n",
    "investors_csv\n",
    "managers_csv\n",
    "players_csv_1_txt\n",
    "Next Steps\n",
    "1. Data Exploration\n",
    "View Table Schema and Sample Data:\n",
    "sql\n",
    "Copy code\n",
    "DESCRIBE financials_csv;\n",
    "SELECT * FROM financials_csv LIMIT 10;\n",
    "\n",
    "DESCRIBE match_manager_link;\n",
    "SELECT * FROM match_manager_link LIMIT 10;\n",
    "\n",
    "DESCRIBE matches_csv;\n",
    "SELECT * FROM matches_csv LIMIT 10;\n",
    "\n",
    "DESCRIBE players_csv;\n",
    "SELECT * FROM players_csv LIMIT 10;\n",
    "\n",
    "DESCRIBE historical_performance_csv;\n",
    "SELECT * FROM historical_performance_csv LIMIT 10;\n",
    "\n",
    "DESCRIBE investors_csv;\n",
    "SELECT * FROM investors_csv LIMIT 10;\n",
    "\n",
    "DESCRIBE managers_csv;\n",
    "SELECT * FROM managers_csv LIMIT 10;\n",
    "\n",
    "DESCRIBE players_csv_1_txt;\n",
    "SELECT * FROM players_csv_1_txt LIMIT 10;\n",
    "2. Data Analysis and Visualization\n",
    "Aggregate and Analyze Data:\n",
    "\n",
    "Example: Calculate total goals by player\n",
    "sql\n",
    "Copy code\n",
    "SELECT p.Name AS PlayerName, SUM(m.GoalsScored) AS TotalGoals\n",
    "FROM matches_csv m\n",
    "JOIN players_csv p ON m.PlayerID = p.PlayerID\n",
    "GROUP BY p.Name\n",
    "ORDER BY TotalGoals DESC;\n",
    "Visualize Data:\n",
    "\n",
    "Use tools like Matplotlib, Seaborn, Tableau, or Power BI to create charts and dashboards.\n",
    "3. Data Modeling\n",
    "Create Fact and Dimension Tables:\n",
    "Example Fact Table:\n",
    "\n",
    "sql\n",
    "Copy code\n",
    "CREATE TABLE match_performance_fact (\n",
    "    MatchID INT,\n",
    "    Date DATE,\n",
    "    GoalsScored INT,\n",
    "    GoalsConceded INT,\n",
    "    PlayerID INT\n",
    ");\n",
    "Example Dimension Table:\n",
    "\n",
    "sql\n",
    "Copy code\n",
    "CREATE TABLE player_dim (\n",
    "    PlayerID INT PRIMARY KEY,\n",
    "    Name STRING,\n",
    "    Position STRING,\n",
    "    Nationality STRING,\n",
    "    Age INT\n",
    ");\n",
    "4. Procedures and Scheduling\n",
    "Create Procedures:\n",
    "\n",
    "Example:\n",
    "sql\n",
    "Copy code\n",
    "CREATE PROCEDURE load_match_data()\n",
    "BEGIN\n",
    "    -- SQL to load data\n",
    "END;\n",
    "Schedule Jobs:\n",
    "\n",
    "Use cron jobs or Task Scheduler to automate data loading and other tasks.\n",
    "5. Monitoring and Alerts\n",
    "Create Monitoring Scripts:\n",
    "\n",
    "Use Python with libraries like psutil for system monitoring and SQL for database performance.\n",
    "Send Alerts:\n",
    "\n",
    "Use Python scripts or database procedures to send email alerts based on certain conditions.\n",
    "6. Reporting\n",
    "Create Complex Queries:\n",
    "\n",
    "Example:\n",
    "sql\n",
    "Copy code\n",
    "SELECT p.Name AS PlayerName, m.Date, m.GoalsScored\n",
    "FROM matches_csv m\n",
    "JOIN players_csv p ON m.PlayerID = p.PlayerID\n",
    "WHERE m.Date BETWEEN '2024-01-01' AND '2024-12-31';\n",
    "Generate Reports:\n",
    "\n",
    "Use Tableau, Power BI, or custom scripts to generate and share reports.\n",
    "Feel free to dive into any of these areas based on your priorities and let me know if you need help with specific tasks or queries!"
   ]
  },
  {
   "cell_type": "markdown",
   "metadata": {
    "application/vnd.databricks.v1+cell": {
     "cellMetadata": {},
     "inputWidgets": {},
     "nuid": "03e467c3-3efb-444c-b261-fb41b6029a81",
     "showTitle": false,
     "title": ""
    }
   },
   "source": [
    "1. Data Exploration\n",
    "View Table Schema and Sample Data:"
   ]
  },
  {
   "cell_type": "code",
   "execution_count": 0,
   "metadata": {
    "application/vnd.databricks.v1+cell": {
     "cellMetadata": {
      "byteLimit": 2048000,
      "implicitDf": true,
      "rowLimit": 10000
     },
     "inputWidgets": {},
     "nuid": "5ddd4d4c-d3e8-48ad-8301-483168be46d4",
     "showTitle": false,
     "title": ""
    }
   },
   "outputs": [
    {
     "output_type": "display_data",
     "data": {
      "text/html": [
       "<style scoped>\n",
       "  .table-result-container {\n",
       "    max-height: 300px;\n",
       "    overflow: auto;\n",
       "  }\n",
       "  table, th, td {\n",
       "    border: 1px solid black;\n",
       "    border-collapse: collapse;\n",
       "  }\n",
       "  th, td {\n",
       "    padding: 5px;\n",
       "  }\n",
       "  th {\n",
       "    text-align: left;\n",
       "  }\n",
       "</style><div class='table-result-container'><table class='table-result'><thead style='background-color: white'><tr><th>col_name</th><th>data_type</th><th>comment</th></tr></thead><tbody><tr><td>PlayerID</td><td>int</td><td>null</td></tr><tr><td>Name</td><td>string</td><td>null</td></tr><tr><td>Position</td><td>string</td><td>null</td></tr><tr><td>Nationality</td><td>string</td><td>null</td></tr><tr><td>Age</td><td>int</td><td>null</td></tr><tr><td>Appearances</td><td>int</td><td>null</td></tr><tr><td>Goals</td><td>int</td><td>null</td></tr><tr><td>Assists</td><td>int</td><td>null</td></tr><tr><td>Revenue</td><td>float</td><td>null</td></tr></tbody></table></div>"
      ]
     },
     "metadata": {
      "application/vnd.databricks.v1+output": {
       "addedWidgets": {},
       "aggData": [],
       "aggError": "",
       "aggOverflow": false,
       "aggSchema": [],
       "aggSeriesLimitReached": false,
       "aggType": "",
       "arguments": {},
       "columnCustomDisplayInfos": {},
       "data": [
        [
         "PlayerID",
         "int",
         null
        ],
        [
         "Name",
         "string",
         null
        ],
        [
         "Position",
         "string",
         null
        ],
        [
         "Nationality",
         "string",
         null
        ],
        [
         "Age",
         "int",
         null
        ],
        [
         "Appearances",
         "int",
         null
        ],
        [
         "Goals",
         "int",
         null
        ],
        [
         "Assists",
         "int",
         null
        ],
        [
         "Revenue",
         "float",
         null
        ]
       ],
       "datasetInfos": [],
       "dbfsResultPath": null,
       "isJsonSchema": true,
       "metadata": {},
       "overflow": false,
       "plotOptions": {
        "customPlotOptions": {},
        "displayType": "table",
        "pivotAggregation": null,
        "pivotColumns": null,
        "xColumns": null,
        "yColumns": null
       },
       "removedWidgets": [],
       "schema": [
        {
         "metadata": "{\"comment\":\"name of the column\"}",
         "name": "col_name",
         "type": "\"string\""
        },
        {
         "metadata": "{\"comment\":\"data type of the column\"}",
         "name": "data_type",
         "type": "\"string\""
        },
        {
         "metadata": "{\"comment\":\"comment of the column\"}",
         "name": "comment",
         "type": "\"string\""
        }
       ],
       "type": "table"
      }
     },
     "output_type": "display_data"
    }
   ],
   "source": [
    "%sql\n",
    "DESCRIBE financials_csv;"
   ]
  },
  {
   "cell_type": "code",
   "execution_count": 0,
   "metadata": {
    "application/vnd.databricks.v1+cell": {
     "cellMetadata": {
      "byteLimit": 2048000,
      "implicitDf": true,
      "rowLimit": 10000
     },
     "inputWidgets": {},
     "nuid": "ac7e035c-f66c-43cd-a9ba-1671a441ed4b",
     "showTitle": false,
     "title": ""
    }
   },
   "outputs": [
    {
     "output_type": "display_data",
     "data": {
      "text/html": [
       "<style scoped>\n",
       "  .table-result-container {\n",
       "    max-height: 300px;\n",
       "    overflow: auto;\n",
       "  }\n",
       "  table, th, td {\n",
       "    border: 1px solid black;\n",
       "    border-collapse: collapse;\n",
       "  }\n",
       "  th, td {\n",
       "    padding: 5px;\n",
       "  }\n",
       "  th {\n",
       "    text-align: left;\n",
       "  }\n",
       "</style><div class='table-result-container'><table class='table-result'><thead style='background-color: white'><tr><th>PlayerID</th><th>Name</th><th>Position</th><th>Nationality</th><th>Age</th><th>Appearances</th><th>Goals</th><th>Assists</th><th>Revenue</th></tr></thead><tbody><tr><td>1</td><td>Kepa Arrizabalaga</td><td>Goalkeeper</td><td>Spain</td><td>29</td><td>20</td><td>0</td><td>0</td><td>null</td></tr><tr><td>2</td><td>Thiago Silva</td><td>Defender</td><td>Brazil</td><td>39</td><td>28</td><td>2</td><td>1</td><td>null</td></tr><tr><td>3</td><td>Reece James</td><td>Defender</td><td>England</td><td>24</td><td>25</td><td>3</td><td>5</td><td>null</td></tr><tr><td>4</td><td>Ben Chilwell</td><td>Defender</td><td>England</td><td>27</td><td>22</td><td>2</td><td>3</td><td>null</td></tr><tr><td>5</td><td>Enzo Fernández</td><td>Midfielder</td><td>Argentina</td><td>23</td><td>30</td><td>5</td><td>7</td><td>null</td></tr><tr><td>6</td><td>Raheem Sterling</td><td>Forward</td><td>England</td><td>29</td><td>26</td><td>10</td><td>4</td><td>null</td></tr><tr><td>7</td><td>Nicholas Jackson</td><td>Forward</td><td>Senegal</td><td>22</td><td>24</td><td>8</td><td>6</td><td>null</td></tr><tr><td>16</td><td>Kalidou Koulibaly</td><td>Defender</td><td>Senegal</td><td>32</td><td>60</td><td>2</td><td>1</td><td>null</td></tr><tr><td>17</td><td>Sergio Ramos</td><td>Defender</td><td>Spain</td><td>37</td><td>70</td><td>5</td><td>2</td><td>null</td></tr><tr><td>18</td><td>Virgil van Dijk</td><td>Defender</td><td>Netherlands</td><td>33</td><td>65</td><td>3</td><td>1</td><td>null</td></tr></tbody></table></div>"
      ]
     },
     "metadata": {
      "application/vnd.databricks.v1+output": {
       "addedWidgets": {},
       "aggData": [],
       "aggError": "",
       "aggOverflow": false,
       "aggSchema": [],
       "aggSeriesLimitReached": false,
       "aggType": "",
       "arguments": {},
       "columnCustomDisplayInfos": {},
       "data": [
        [
         1,
         "Kepa Arrizabalaga",
         "Goalkeeper",
         "Spain",
         29,
         20,
         0,
         0,
         null
        ],
        [
         2,
         "Thiago Silva",
         "Defender",
         "Brazil",
         39,
         28,
         2,
         1,
         null
        ],
        [
         3,
         "Reece James",
         "Defender",
         "England",
         24,
         25,
         3,
         5,
         null
        ],
        [
         4,
         "Ben Chilwell",
         "Defender",
         "England",
         27,
         22,
         2,
         3,
         null
        ],
        [
         5,
         "Enzo Fernández",
         "Midfielder",
         "Argentina",
         23,
         30,
         5,
         7,
         null
        ],
        [
         6,
         "Raheem Sterling",
         "Forward",
         "England",
         29,
         26,
         10,
         4,
         null
        ],
        [
         7,
         "Nicholas Jackson",
         "Forward",
         "Senegal",
         22,
         24,
         8,
         6,
         null
        ],
        [
         16,
         "Kalidou Koulibaly",
         "Defender",
         "Senegal",
         32,
         60,
         2,
         1,
         null
        ],
        [
         17,
         "Sergio Ramos",
         "Defender",
         "Spain",
         37,
         70,
         5,
         2,
         null
        ],
        [
         18,
         "Virgil van Dijk",
         "Defender",
         "Netherlands",
         33,
         65,
         3,
         1,
         null
        ]
       ],
       "datasetInfos": [],
       "dbfsResultPath": null,
       "isJsonSchema": true,
       "metadata": {},
       "overflow": false,
       "plotOptions": {
        "customPlotOptions": {},
        "displayType": "table",
        "pivotAggregation": null,
        "pivotColumns": null,
        "xColumns": null,
        "yColumns": null
       },
       "removedWidgets": [],
       "schema": [
        {
         "metadata": "{}",
         "name": "PlayerID",
         "type": "\"integer\""
        },
        {
         "metadata": "{}",
         "name": "Name",
         "type": "\"string\""
        },
        {
         "metadata": "{}",
         "name": "Position",
         "type": "\"string\""
        },
        {
         "metadata": "{}",
         "name": "Nationality",
         "type": "\"string\""
        },
        {
         "metadata": "{}",
         "name": "Age",
         "type": "\"integer\""
        },
        {
         "metadata": "{}",
         "name": "Appearances",
         "type": "\"integer\""
        },
        {
         "metadata": "{}",
         "name": "Goals",
         "type": "\"integer\""
        },
        {
         "metadata": "{}",
         "name": "Assists",
         "type": "\"integer\""
        },
        {
         "metadata": "{}",
         "name": "Revenue",
         "type": "\"float\""
        }
       ],
       "type": "table"
      }
     },
     "output_type": "display_data"
    }
   ],
   "source": [
    "%sql\n",
    "SELECT * FROM financials_csv LIMIT 10;"
   ]
  },
  {
   "cell_type": "code",
   "execution_count": 0,
   "metadata": {
    "application/vnd.databricks.v1+cell": {
     "cellMetadata": {
      "byteLimit": 2048000,
      "implicitDf": true,
      "rowLimit": 10000
     },
     "inputWidgets": {},
     "nuid": "ee1e7060-4012-4a79-a7e6-08fe1a97773f",
     "showTitle": false,
     "title": ""
    }
   },
   "outputs": [
    {
     "output_type": "display_data",
     "data": {
      "text/html": [
       "<style scoped>\n",
       "  .table-result-container {\n",
       "    max-height: 300px;\n",
       "    overflow: auto;\n",
       "  }\n",
       "  table, th, td {\n",
       "    border: 1px solid black;\n",
       "    border-collapse: collapse;\n",
       "  }\n",
       "  th, td {\n",
       "    padding: 5px;\n",
       "  }\n",
       "  th {\n",
       "    text-align: left;\n",
       "  }\n",
       "</style><div class='table-result-container'><table class='table-result'><thead style='background-color: white'><tr><th>col_name</th><th>data_type</th><th>comment</th></tr></thead><tbody><tr><td>MatchID</td><td>int</td><td>null</td></tr><tr><td>ManagerID</td><td>int</td><td>null</td></tr></tbody></table></div>"
      ]
     },
     "metadata": {
      "application/vnd.databricks.v1+output": {
       "addedWidgets": {},
       "aggData": [],
       "aggError": "",
       "aggOverflow": false,
       "aggSchema": [],
       "aggSeriesLimitReached": false,
       "aggType": "",
       "arguments": {},
       "columnCustomDisplayInfos": {},
       "data": [
        [
         "MatchID",
         "int",
         null
        ],
        [
         "ManagerID",
         "int",
         null
        ]
       ],
       "datasetInfos": [],
       "dbfsResultPath": null,
       "isJsonSchema": true,
       "metadata": {},
       "overflow": false,
       "plotOptions": {
        "customPlotOptions": {},
        "displayType": "table",
        "pivotAggregation": null,
        "pivotColumns": null,
        "xColumns": null,
        "yColumns": null
       },
       "removedWidgets": [],
       "schema": [
        {
         "metadata": "{\"comment\":\"name of the column\"}",
         "name": "col_name",
         "type": "\"string\""
        },
        {
         "metadata": "{\"comment\":\"data type of the column\"}",
         "name": "data_type",
         "type": "\"string\""
        },
        {
         "metadata": "{\"comment\":\"comment of the column\"}",
         "name": "comment",
         "type": "\"string\""
        }
       ],
       "type": "table"
      }
     },
     "output_type": "display_data"
    }
   ],
   "source": [
    "%sql\n",
    "DESCRIBE match_manager_link;"
   ]
  },
  {
   "cell_type": "code",
   "execution_count": 0,
   "metadata": {
    "application/vnd.databricks.v1+cell": {
     "cellMetadata": {
      "byteLimit": 2048000,
      "implicitDf": true,
      "rowLimit": 10000
     },
     "inputWidgets": {},
     "nuid": "8366b693-4db0-40bb-9e88-125fd8f97da1",
     "showTitle": false,
     "title": ""
    }
   },
   "outputs": [
    {
     "output_type": "display_data",
     "data": {
      "text/html": [
       "<style scoped>\n",
       "  .table-result-container {\n",
       "    max-height: 300px;\n",
       "    overflow: auto;\n",
       "  }\n",
       "  table, th, td {\n",
       "    border: 1px solid black;\n",
       "    border-collapse: collapse;\n",
       "  }\n",
       "  th, td {\n",
       "    padding: 5px;\n",
       "  }\n",
       "  th {\n",
       "    text-align: left;\n",
       "  }\n",
       "</style><div class='table-result-container'><table class='table-result'><thead style='background-color: white'><tr><th>MatchID</th><th>ManagerID</th></tr></thead><tbody><tr><td>1</td><td>2</td></tr><tr><td>2</td><td>3</td></tr><tr><td>3</td><td>4</td></tr></tbody></table></div>"
      ]
     },
     "metadata": {
      "application/vnd.databricks.v1+output": {
       "addedWidgets": {},
       "aggData": [],
       "aggError": "",
       "aggOverflow": false,
       "aggSchema": [],
       "aggSeriesLimitReached": false,
       "aggType": "",
       "arguments": {},
       "columnCustomDisplayInfos": {},
       "data": [
        [
         1,
         2
        ],
        [
         2,
         3
        ],
        [
         3,
         4
        ]
       ],
       "datasetInfos": [],
       "dbfsResultPath": null,
       "isJsonSchema": true,
       "metadata": {},
       "overflow": false,
       "plotOptions": {
        "customPlotOptions": {},
        "displayType": "table",
        "pivotAggregation": null,
        "pivotColumns": null,
        "xColumns": null,
        "yColumns": null
       },
       "removedWidgets": [],
       "schema": [
        {
         "metadata": "{}",
         "name": "MatchID",
         "type": "\"integer\""
        },
        {
         "metadata": "{}",
         "name": "ManagerID",
         "type": "\"integer\""
        }
       ],
       "type": "table"
      }
     },
     "output_type": "display_data"
    }
   ],
   "source": [
    "%sql\n",
    "SELECT * FROM match_manager_link LIMIT 10;"
   ]
  },
  {
   "cell_type": "code",
   "execution_count": 0,
   "metadata": {
    "application/vnd.databricks.v1+cell": {
     "cellMetadata": {
      "byteLimit": 2048000,
      "implicitDf": true,
      "rowLimit": 10000
     },
     "inputWidgets": {},
     "nuid": "970a10df-a034-4e29-993e-ae6bf33312d5",
     "showTitle": false,
     "title": ""
    }
   },
   "outputs": [
    {
     "output_type": "display_data",
     "data": {
      "text/html": [
       "<style scoped>\n",
       "  .table-result-container {\n",
       "    max-height: 300px;\n",
       "    overflow: auto;\n",
       "  }\n",
       "  table, th, td {\n",
       "    border: 1px solid black;\n",
       "    border-collapse: collapse;\n",
       "  }\n",
       "  th, td {\n",
       "    padding: 5px;\n",
       "  }\n",
       "  th {\n",
       "    text-align: left;\n",
       "  }\n",
       "</style><div class='table-result-container'><table class='table-result'><thead style='background-color: white'><tr><th>col_name</th><th>data_type</th><th>comment</th></tr></thead><tbody><tr><td>MatchID</td><td>int</td><td>null</td></tr><tr><td>Date</td><td>date</td><td>null</td></tr><tr><td>Opponent</td><td>string</td><td>null</td></tr><tr><td>Home/Away</td><td>string</td><td>null</td></tr><tr><td>Result</td><td>string</td><td>null</td></tr><tr><td>GoalsScored</td><td>int</td><td>null</td></tr><tr><td>GoalsConceded</td><td>int</td><td>null</td></tr><tr><td>PlayerID</td><td>int</td><td>null</td></tr></tbody></table></div>"
      ]
     },
     "metadata": {
      "application/vnd.databricks.v1+output": {
       "addedWidgets": {},
       "aggData": [],
       "aggError": "",
       "aggOverflow": false,
       "aggSchema": [],
       "aggSeriesLimitReached": false,
       "aggType": "",
       "arguments": {},
       "columnCustomDisplayInfos": {},
       "data": [
        [
         "MatchID",
         "int",
         null
        ],
        [
         "Date",
         "date",
         null
        ],
        [
         "Opponent",
         "string",
         null
        ],
        [
         "Home/Away",
         "string",
         null
        ],
        [
         "Result",
         "string",
         null
        ],
        [
         "GoalsScored",
         "int",
         null
        ],
        [
         "GoalsConceded",
         "int",
         null
        ],
        [
         "PlayerID",
         "int",
         null
        ]
       ],
       "datasetInfos": [],
       "dbfsResultPath": null,
       "isJsonSchema": true,
       "metadata": {},
       "overflow": false,
       "plotOptions": {
        "customPlotOptions": {},
        "displayType": "table",
        "pivotAggregation": null,
        "pivotColumns": null,
        "xColumns": null,
        "yColumns": null
       },
       "removedWidgets": [],
       "schema": [
        {
         "metadata": "{\"comment\":\"name of the column\"}",
         "name": "col_name",
         "type": "\"string\""
        },
        {
         "metadata": "{\"comment\":\"data type of the column\"}",
         "name": "data_type",
         "type": "\"string\""
        },
        {
         "metadata": "{\"comment\":\"comment of the column\"}",
         "name": "comment",
         "type": "\"string\""
        }
       ],
       "type": "table"
      }
     },
     "output_type": "display_data"
    }
   ],
   "source": [
    "%sql\n",
    "DESCRIBE matches_csv;"
   ]
  },
  {
   "cell_type": "code",
   "execution_count": 0,
   "metadata": {
    "application/vnd.databricks.v1+cell": {
     "cellMetadata": {
      "byteLimit": 2048000,
      "implicitDf": true,
      "rowLimit": 10000
     },
     "inputWidgets": {},
     "nuid": "2f138716-9f31-47fe-ba94-9f90e7a55769",
     "showTitle": false,
     "title": ""
    }
   },
   "outputs": [
    {
     "output_type": "display_data",
     "data": {
      "text/html": [
       "<style scoped>\n",
       "  .table-result-container {\n",
       "    max-height: 300px;\n",
       "    overflow: auto;\n",
       "  }\n",
       "  table, th, td {\n",
       "    border: 1px solid black;\n",
       "    border-collapse: collapse;\n",
       "  }\n",
       "  th, td {\n",
       "    padding: 5px;\n",
       "  }\n",
       "  th {\n",
       "    text-align: left;\n",
       "  }\n",
       "</style><div class='table-result-container'><table class='table-result'><thead style='background-color: white'><tr><th>MatchID</th><th>Date</th><th>Opponent</th><th>Home/Away</th><th>Result</th><th>GoalsScored</th><th>GoalsConceded</th><th>PlayerID</th></tr></thead><tbody><tr><td>22</td><td>2024-06-22</td><td>Tottenham Hotspur</td><td>Away</td><td>Win</td><td>2</td><td>1</td><td>10</td></tr><tr><td>23</td><td>2024-07-01</td><td>Leicester City</td><td>Home</td><td>Win</td><td>4</td><td>1</td><td>11</td></tr><tr><td>24</td><td>2024-07-08</td><td>Crystal Palace</td><td>Away</td><td>Win</td><td>2</td><td>1</td><td>12</td></tr><tr><td>13</td><td>2024-04-16</td><td>Everton</td><td>Home</td><td>Win</td><td>2</td><td>0</td><td>14</td></tr><tr><td>14</td><td>2024-04-23</td><td>Sheffield United</td><td>Away</td><td>Win</td><td>2</td><td>1</td><td>15</td></tr><tr><td>15</td><td>2024-04-30</td><td>Wolverhampton</td><td>Home</td><td>Draw</td><td>1</td><td>1</td><td>16</td></tr><tr><td>25</td><td>2024-07-15</td><td>Brentford</td><td>Home</td><td>Draw</td><td>1</td><td>1</td><td>13</td></tr><tr><td>26</td><td>2024-07-22</td><td>Everton</td><td>Away</td><td>Win</td><td>3</td><td>0</td><td>14</td></tr><tr><td>27</td><td>2024-08-01</td><td>Nottingham Forest</td><td>Home</td><td>Win</td><td>2</td><td>0</td><td>15</td></tr><tr><td>28</td><td>2024-08-08</td><td>West Ham</td><td>Away</td><td>Lose</td><td>1</td><td>3</td><td>16</td></tr></tbody></table></div>"
      ]
     },
     "metadata": {
      "application/vnd.databricks.v1+output": {
       "addedWidgets": {},
       "aggData": [],
       "aggError": "",
       "aggOverflow": false,
       "aggSchema": [],
       "aggSeriesLimitReached": false,
       "aggType": "",
       "arguments": {},
       "columnCustomDisplayInfos": {},
       "data": [
        [
         22,
         "2024-06-22",
         "Tottenham Hotspur",
         "Away",
         "Win",
         2,
         1,
         10
        ],
        [
         23,
         "2024-07-01",
         "Leicester City",
         "Home",
         "Win",
         4,
         1,
         11
        ],
        [
         24,
         "2024-07-08",
         "Crystal Palace",
         "Away",
         "Win",
         2,
         1,
         12
        ],
        [
         13,
         "2024-04-16",
         "Everton",
         "Home",
         "Win",
         2,
         0,
         14
        ],
        [
         14,
         "2024-04-23",
         "Sheffield United",
         "Away",
         "Win",
         2,
         1,
         15
        ],
        [
         15,
         "2024-04-30",
         "Wolverhampton",
         "Home",
         "Draw",
         1,
         1,
         16
        ],
        [
         25,
         "2024-07-15",
         "Brentford",
         "Home",
         "Draw",
         1,
         1,
         13
        ],
        [
         26,
         "2024-07-22",
         "Everton",
         "Away",
         "Win",
         3,
         0,
         14
        ],
        [
         27,
         "2024-08-01",
         "Nottingham Forest",
         "Home",
         "Win",
         2,
         0,
         15
        ],
        [
         28,
         "2024-08-08",
         "West Ham",
         "Away",
         "Lose",
         1,
         3,
         16
        ]
       ],
       "datasetInfos": [],
       "dbfsResultPath": null,
       "isJsonSchema": true,
       "metadata": {},
       "overflow": false,
       "plotOptions": {
        "customPlotOptions": {},
        "displayType": "table",
        "pivotAggregation": null,
        "pivotColumns": null,
        "xColumns": null,
        "yColumns": null
       },
       "removedWidgets": [],
       "schema": [
        {
         "metadata": "{}",
         "name": "MatchID",
         "type": "\"integer\""
        },
        {
         "metadata": "{\"__detected_date_formats\":\"yyyy-M-d\"}",
         "name": "Date",
         "type": "\"date\""
        },
        {
         "metadata": "{}",
         "name": "Opponent",
         "type": "\"string\""
        },
        {
         "metadata": "{}",
         "name": "Home/Away",
         "type": "\"string\""
        },
        {
         "metadata": "{}",
         "name": "Result",
         "type": "\"string\""
        },
        {
         "metadata": "{}",
         "name": "GoalsScored",
         "type": "\"integer\""
        },
        {
         "metadata": "{}",
         "name": "GoalsConceded",
         "type": "\"integer\""
        },
        {
         "metadata": "{}",
         "name": "PlayerID",
         "type": "\"integer\""
        }
       ],
       "type": "table"
      }
     },
     "output_type": "display_data"
    }
   ],
   "source": [
    "%sql\n",
    "SELECT * FROM matches_csv LIMIT 10;"
   ]
  },
  {
   "cell_type": "code",
   "execution_count": 0,
   "metadata": {
    "application/vnd.databricks.v1+cell": {
     "cellMetadata": {
      "byteLimit": 2048000,
      "implicitDf": true,
      "rowLimit": 10000
     },
     "inputWidgets": {},
     "nuid": "7017c748-5722-469f-adb5-e49d8c3368c1",
     "showTitle": false,
     "title": ""
    }
   },
   "outputs": [
    {
     "output_type": "display_data",
     "data": {
      "text/html": [
       "<style scoped>\n",
       "  .table-result-container {\n",
       "    max-height: 300px;\n",
       "    overflow: auto;\n",
       "  }\n",
       "  table, th, td {\n",
       "    border: 1px solid black;\n",
       "    border-collapse: collapse;\n",
       "  }\n",
       "  th, td {\n",
       "    padding: 5px;\n",
       "  }\n",
       "  th {\n",
       "    text-align: left;\n",
       "  }\n",
       "</style><div class='table-result-container'><table class='table-result'><thead style='background-color: white'><tr><th>col_name</th><th>data_type</th><th>comment</th></tr></thead><tbody><tr><td>PlayerID</td><td>int</td><td>null</td></tr><tr><td>Name</td><td>string</td><td>null</td></tr><tr><td>Position</td><td>string</td><td>null</td></tr><tr><td>Nationality</td><td>string</td><td>null</td></tr><tr><td>Age</td><td>int</td><td>null</td></tr><tr><td>Appearances</td><td>int</td><td>null</td></tr><tr><td>Goals</td><td>int</td><td>null</td></tr><tr><td>Assists</td><td>int</td><td>null</td></tr></tbody></table></div>"
      ]
     },
     "metadata": {
      "application/vnd.databricks.v1+output": {
       "addedWidgets": {},
       "aggData": [],
       "aggError": "",
       "aggOverflow": false,
       "aggSchema": [],
       "aggSeriesLimitReached": false,
       "aggType": "",
       "arguments": {},
       "columnCustomDisplayInfos": {},
       "data": [
        [
         "PlayerID",
         "int",
         null
        ],
        [
         "Name",
         "string",
         null
        ],
        [
         "Position",
         "string",
         null
        ],
        [
         "Nationality",
         "string",
         null
        ],
        [
         "Age",
         "int",
         null
        ],
        [
         "Appearances",
         "int",
         null
        ],
        [
         "Goals",
         "int",
         null
        ],
        [
         "Assists",
         "int",
         null
        ]
       ],
       "datasetInfos": [],
       "dbfsResultPath": null,
       "isJsonSchema": true,
       "metadata": {},
       "overflow": false,
       "plotOptions": {
        "customPlotOptions": {},
        "displayType": "table",
        "pivotAggregation": null,
        "pivotColumns": null,
        "xColumns": null,
        "yColumns": null
       },
       "removedWidgets": [],
       "schema": [
        {
         "metadata": "{\"comment\":\"name of the column\"}",
         "name": "col_name",
         "type": "\"string\""
        },
        {
         "metadata": "{\"comment\":\"data type of the column\"}",
         "name": "data_type",
         "type": "\"string\""
        },
        {
         "metadata": "{\"comment\":\"comment of the column\"}",
         "name": "comment",
         "type": "\"string\""
        }
       ],
       "type": "table"
      }
     },
     "output_type": "display_data"
    }
   ],
   "source": [
    "%sql\n",
    "DESCRIBE players_csv;"
   ]
  },
  {
   "cell_type": "code",
   "execution_count": 0,
   "metadata": {
    "application/vnd.databricks.v1+cell": {
     "cellMetadata": {
      "byteLimit": 2048000,
      "implicitDf": true,
      "rowLimit": 10000
     },
     "inputWidgets": {},
     "nuid": "5be46e4b-2e67-4de0-b82b-087206b928da",
     "showTitle": false,
     "title": ""
    }
   },
   "outputs": [
    {
     "output_type": "display_data",
     "data": {
      "text/html": [
       "<style scoped>\n",
       "  .table-result-container {\n",
       "    max-height: 300px;\n",
       "    overflow: auto;\n",
       "  }\n",
       "  table, th, td {\n",
       "    border: 1px solid black;\n",
       "    border-collapse: collapse;\n",
       "  }\n",
       "  th, td {\n",
       "    padding: 5px;\n",
       "  }\n",
       "  th {\n",
       "    text-align: left;\n",
       "  }\n",
       "</style><div class='table-result-container'><table class='table-result'><thead style='background-color: white'><tr><th>PlayerID</th><th>Name</th><th>Position</th><th>Nationality</th><th>Age</th><th>Appearances</th><th>Goals</th><th>Assists</th></tr></thead><tbody><tr><td>1</td><td>Kepa Arrizabalaga</td><td>Goalkeeper</td><td>Spain</td><td>29</td><td>20</td><td>0</td><td>0</td></tr><tr><td>2</td><td>Thiago Silva</td><td>Defender</td><td>Brazil</td><td>39</td><td>28</td><td>2</td><td>1</td></tr><tr><td>3</td><td>Reece James</td><td>Defender</td><td>England</td><td>24</td><td>25</td><td>3</td><td>5</td></tr><tr><td>4</td><td>Ben Chilwell</td><td>Defender</td><td>England</td><td>27</td><td>22</td><td>2</td><td>3</td></tr><tr><td>5</td><td>Enzo Fernández</td><td>Midfielder</td><td>Argentina</td><td>23</td><td>30</td><td>5</td><td>7</td></tr><tr><td>6</td><td>Raheem Sterling</td><td>Forward</td><td>England</td><td>29</td><td>26</td><td>10</td><td>4</td></tr><tr><td>7</td><td>Nicholas Jackson</td><td>Forward</td><td>Senegal</td><td>22</td><td>24</td><td>8</td><td>6</td></tr><tr><td>16</td><td>Kalidou Koulibaly</td><td>Defender</td><td>Senegal</td><td>32</td><td>24</td><td>2</td><td>null</td></tr><tr><td>17</td><td>Sergio Ramos</td><td>Defender</td><td>Spain</td><td>37</td><td>21</td><td>5</td><td>null</td></tr><tr><td>18</td><td>Virgil van Dijk</td><td>Defender</td><td>Netherlands</td><td>32</td><td>30</td><td>6</td><td>null</td></tr></tbody></table></div>"
      ]
     },
     "metadata": {
      "application/vnd.databricks.v1+output": {
       "addedWidgets": {},
       "aggData": [],
       "aggError": "",
       "aggOverflow": false,
       "aggSchema": [],
       "aggSeriesLimitReached": false,
       "aggType": "",
       "arguments": {},
       "columnCustomDisplayInfos": {},
       "data": [
        [
         1,
         "Kepa Arrizabalaga",
         "Goalkeeper",
         "Spain",
         29,
         20,
         0,
         0
        ],
        [
         2,
         "Thiago Silva",
         "Defender",
         "Brazil",
         39,
         28,
         2,
         1
        ],
        [
         3,
         "Reece James",
         "Defender",
         "England",
         24,
         25,
         3,
         5
        ],
        [
         4,
         "Ben Chilwell",
         "Defender",
         "England",
         27,
         22,
         2,
         3
        ],
        [
         5,
         "Enzo Fernández",
         "Midfielder",
         "Argentina",
         23,
         30,
         5,
         7
        ],
        [
         6,
         "Raheem Sterling",
         "Forward",
         "England",
         29,
         26,
         10,
         4
        ],
        [
         7,
         "Nicholas Jackson",
         "Forward",
         "Senegal",
         22,
         24,
         8,
         6
        ],
        [
         16,
         "Kalidou Koulibaly",
         "Defender",
         "Senegal",
         32,
         24,
         2,
         null
        ],
        [
         17,
         "Sergio Ramos",
         "Defender",
         "Spain",
         37,
         21,
         5,
         null
        ],
        [
         18,
         "Virgil van Dijk",
         "Defender",
         "Netherlands",
         32,
         30,
         6,
         null
        ]
       ],
       "datasetInfos": [],
       "dbfsResultPath": null,
       "isJsonSchema": true,
       "metadata": {},
       "overflow": false,
       "plotOptions": {
        "customPlotOptions": {},
        "displayType": "table",
        "pivotAggregation": null,
        "pivotColumns": null,
        "xColumns": null,
        "yColumns": null
       },
       "removedWidgets": [],
       "schema": [
        {
         "metadata": "{}",
         "name": "PlayerID",
         "type": "\"integer\""
        },
        {
         "metadata": "{}",
         "name": "Name",
         "type": "\"string\""
        },
        {
         "metadata": "{}",
         "name": "Position",
         "type": "\"string\""
        },
        {
         "metadata": "{}",
         "name": "Nationality",
         "type": "\"string\""
        },
        {
         "metadata": "{}",
         "name": "Age",
         "type": "\"integer\""
        },
        {
         "metadata": "{}",
         "name": "Appearances",
         "type": "\"integer\""
        },
        {
         "metadata": "{}",
         "name": "Goals",
         "type": "\"integer\""
        },
        {
         "metadata": "{}",
         "name": "Assists",
         "type": "\"integer\""
        }
       ],
       "type": "table"
      }
     },
     "output_type": "display_data"
    }
   ],
   "source": [
    "%sql\n",
    "SELECT * FROM players_csv LIMIT 10;"
   ]
  },
  {
   "cell_type": "code",
   "execution_count": 0,
   "metadata": {
    "application/vnd.databricks.v1+cell": {
     "cellMetadata": {
      "byteLimit": 2048000,
      "implicitDf": true,
      "rowLimit": 10000
     },
     "inputWidgets": {},
     "nuid": "c6e855b5-ea78-45c6-9b16-f9e79fa6b014",
     "showTitle": false,
     "title": ""
    }
   },
   "outputs": [
    {
     "output_type": "display_data",
     "data": {
      "text/html": [
       "<style scoped>\n",
       "  .table-result-container {\n",
       "    max-height: 300px;\n",
       "    overflow: auto;\n",
       "  }\n",
       "  table, th, td {\n",
       "    border: 1px solid black;\n",
       "    border-collapse: collapse;\n",
       "  }\n",
       "  th, td {\n",
       "    padding: 5px;\n",
       "  }\n",
       "  th {\n",
       "    text-align: left;\n",
       "  }\n",
       "</style><div class='table-result-container'><table class='table-result'><thead style='background-color: white'><tr><th>col_name</th><th>data_type</th><th>comment</th></tr></thead><tbody><tr><td>MatchID</td><td>int</td><td>null</td></tr><tr><td>Date</td><td>date</td><td>null</td></tr><tr><td>Opponent</td><td>string</td><td>null</td></tr><tr><td>Home/Away</td><td>string</td><td>null</td></tr><tr><td>Result</td><td>string</td><td>null</td></tr><tr><td>GoalsScored</td><td>int</td><td>null</td></tr><tr><td>GoalsConceded</td><td>int</td><td>null</td></tr></tbody></table></div>"
      ]
     },
     "metadata": {
      "application/vnd.databricks.v1+output": {
       "addedWidgets": {},
       "aggData": [],
       "aggError": "",
       "aggOverflow": false,
       "aggSchema": [],
       "aggSeriesLimitReached": false,
       "aggType": "",
       "arguments": {},
       "columnCustomDisplayInfos": {},
       "data": [
        [
         "MatchID",
         "int",
         null
        ],
        [
         "Date",
         "date",
         null
        ],
        [
         "Opponent",
         "string",
         null
        ],
        [
         "Home/Away",
         "string",
         null
        ],
        [
         "Result",
         "string",
         null
        ],
        [
         "GoalsScored",
         "int",
         null
        ],
        [
         "GoalsConceded",
         "int",
         null
        ]
       ],
       "datasetInfos": [],
       "dbfsResultPath": null,
       "isJsonSchema": true,
       "metadata": {},
       "overflow": false,
       "plotOptions": {
        "customPlotOptions": {},
        "displayType": "table",
        "pivotAggregation": null,
        "pivotColumns": null,
        "xColumns": null,
        "yColumns": null
       },
       "removedWidgets": [],
       "schema": [
        {
         "metadata": "{\"comment\":\"name of the column\"}",
         "name": "col_name",
         "type": "\"string\""
        },
        {
         "metadata": "{\"comment\":\"data type of the column\"}",
         "name": "data_type",
         "type": "\"string\""
        },
        {
         "metadata": "{\"comment\":\"comment of the column\"}",
         "name": "comment",
         "type": "\"string\""
        }
       ],
       "type": "table"
      }
     },
     "output_type": "display_data"
    }
   ],
   "source": [
    "%sql\n",
    "DESCRIBE historical_performance_csv;"
   ]
  },
  {
   "cell_type": "code",
   "execution_count": 0,
   "metadata": {
    "application/vnd.databricks.v1+cell": {
     "cellMetadata": {
      "byteLimit": 2048000,
      "implicitDf": true,
      "rowLimit": 10000
     },
     "inputWidgets": {},
     "nuid": "3b9c8dc9-8647-4ed6-8384-c62daa46b198",
     "showTitle": false,
     "title": ""
    }
   },
   "outputs": [
    {
     "output_type": "display_data",
     "data": {
      "text/html": [
       "<style scoped>\n",
       "  .table-result-container {\n",
       "    max-height: 300px;\n",
       "    overflow: auto;\n",
       "  }\n",
       "  table, th, td {\n",
       "    border: 1px solid black;\n",
       "    border-collapse: collapse;\n",
       "  }\n",
       "  th, td {\n",
       "    padding: 5px;\n",
       "  }\n",
       "  th {\n",
       "    text-align: left;\n",
       "  }\n",
       "</style><div class='table-result-container'><table class='table-result'><thead style='background-color: white'><tr><th>MatchID</th><th>Date</th><th>Opponent</th><th>Home/Away</th><th>Result</th><th>GoalsScored</th><th>GoalsConceded</th></tr></thead><tbody><tr><td>1</td><td>2023-01-10</td><td>Manchester United</td><td>Home</td><td>Win</td><td>2</td><td>1</td></tr><tr><td>2</td><td>2023-01-15</td><td>Liverpool</td><td>Away</td><td>Draw</td><td>1</td><td>1</td></tr><tr><td>3</td><td>2023-01-22</td><td>Arsenal</td><td>Home</td><td>Win</td><td>3</td><td>1</td></tr><tr><td>4</td><td>2023-01-29</td><td>Chelsea</td><td>Away</td><td>Lose</td><td>0</td><td>2</td></tr><tr><td>5</td><td>2023-02-05</td><td>Tottenham Hotspur</td><td>Home</td><td>Win</td><td>2</td><td>0</td></tr><tr><td>6</td><td>2023-02-12</td><td>Everton</td><td>Away</td><td>Draw</td><td>1</td><td>1</td></tr><tr><td>7</td><td>2023-02-19</td><td>Leicester City</td><td>Home</td><td>Win</td><td>4</td><td>2</td></tr><tr><td>8</td><td>2023-02-26</td><td>Newcastle</td><td>Away</td><td>Win</td><td>1</td><td>0</td></tr><tr><td>9</td><td>2023-03-05</td><td>Brighton</td><td>Home</td><td>Draw</td><td>1</td><td>1</td></tr><tr><td>10</td><td>2023-03-12</td><td>West Ham</td><td>Home</td><td>Win</td><td>2</td><td>1</td></tr></tbody></table></div>"
      ]
     },
     "metadata": {
      "application/vnd.databricks.v1+output": {
       "addedWidgets": {},
       "aggData": [],
       "aggError": "",
       "aggOverflow": false,
       "aggSchema": [],
       "aggSeriesLimitReached": false,
       "aggType": "",
       "arguments": {},
       "columnCustomDisplayInfos": {},
       "data": [
        [
         1,
         "2023-01-10",
         "Manchester United",
         "Home",
         "Win",
         2,
         1
        ],
        [
         2,
         "2023-01-15",
         "Liverpool",
         "Away",
         "Draw",
         1,
         1
        ],
        [
         3,
         "2023-01-22",
         "Arsenal",
         "Home",
         "Win",
         3,
         1
        ],
        [
         4,
         "2023-01-29",
         "Chelsea",
         "Away",
         "Lose",
         0,
         2
        ],
        [
         5,
         "2023-02-05",
         "Tottenham Hotspur",
         "Home",
         "Win",
         2,
         0
        ],
        [
         6,
         "2023-02-12",
         "Everton",
         "Away",
         "Draw",
         1,
         1
        ],
        [
         7,
         "2023-02-19",
         "Leicester City",
         "Home",
         "Win",
         4,
         2
        ],
        [
         8,
         "2023-02-26",
         "Newcastle",
         "Away",
         "Win",
         1,
         0
        ],
        [
         9,
         "2023-03-05",
         "Brighton",
         "Home",
         "Draw",
         1,
         1
        ],
        [
         10,
         "2023-03-12",
         "West Ham",
         "Home",
         "Win",
         2,
         1
        ]
       ],
       "datasetInfos": [],
       "dbfsResultPath": null,
       "isJsonSchema": true,
       "metadata": {},
       "overflow": false,
       "plotOptions": {
        "customPlotOptions": {},
        "displayType": "table",
        "pivotAggregation": null,
        "pivotColumns": null,
        "xColumns": null,
        "yColumns": null
       },
       "removedWidgets": [],
       "schema": [
        {
         "metadata": "{}",
         "name": "MatchID",
         "type": "\"integer\""
        },
        {
         "metadata": "{\"__detected_date_formats\":\"yyyy-M-d\"}",
         "name": "Date",
         "type": "\"date\""
        },
        {
         "metadata": "{}",
         "name": "Opponent",
         "type": "\"string\""
        },
        {
         "metadata": "{}",
         "name": "Home/Away",
         "type": "\"string\""
        },
        {
         "metadata": "{}",
         "name": "Result",
         "type": "\"string\""
        },
        {
         "metadata": "{}",
         "name": "GoalsScored",
         "type": "\"integer\""
        },
        {
         "metadata": "{}",
         "name": "GoalsConceded",
         "type": "\"integer\""
        }
       ],
       "type": "table"
      }
     },
     "output_type": "display_data"
    }
   ],
   "source": [
    "%sql\n",
    "SELECT * FROM historical_performance_csv LIMIT 10;"
   ]
  },
  {
   "cell_type": "code",
   "execution_count": 0,
   "metadata": {
    "application/vnd.databricks.v1+cell": {
     "cellMetadata": {
      "byteLimit": 2048000,
      "implicitDf": true,
      "rowLimit": 10000
     },
     "inputWidgets": {},
     "nuid": "85cacc5f-c035-46dc-9231-7ac88f95d03f",
     "showTitle": false,
     "title": ""
    }
   },
   "outputs": [
    {
     "output_type": "display_data",
     "data": {
      "text/html": [
       "<style scoped>\n",
       "  .table-result-container {\n",
       "    max-height: 300px;\n",
       "    overflow: auto;\n",
       "  }\n",
       "  table, th, td {\n",
       "    border: 1px solid black;\n",
       "    border-collapse: collapse;\n",
       "  }\n",
       "  th, td {\n",
       "    padding: 5px;\n",
       "  }\n",
       "  th {\n",
       "    text-align: left;\n",
       "  }\n",
       "</style><div class='table-result-container'><table class='table-result'><thead style='background-color: white'><tr><th>col_name</th><th>data_type</th><th>comment</th></tr></thead><tbody><tr><td>InvestorID</td><td>int</td><td>null</td></tr><tr><td>Name</td><td>string</td><td>null</td></tr><tr><td>InvestmentAmount</td><td>int</td><td>null</td></tr><tr><td>InvestmentDate</td><td>date</td><td>null</td></tr></tbody></table></div>"
      ]
     },
     "metadata": {
      "application/vnd.databricks.v1+output": {
       "addedWidgets": {},
       "aggData": [],
       "aggError": "",
       "aggOverflow": false,
       "aggSchema": [],
       "aggSeriesLimitReached": false,
       "aggType": "",
       "arguments": {},
       "columnCustomDisplayInfos": {},
       "data": [
        [
         "InvestorID",
         "int",
         null
        ],
        [
         "Name",
         "string",
         null
        ],
        [
         "InvestmentAmount",
         "int",
         null
        ],
        [
         "InvestmentDate",
         "date",
         null
        ]
       ],
       "datasetInfos": [],
       "dbfsResultPath": null,
       "isJsonSchema": true,
       "metadata": {},
       "overflow": false,
       "plotOptions": {
        "customPlotOptions": {},
        "displayType": "table",
        "pivotAggregation": null,
        "pivotColumns": null,
        "xColumns": null,
        "yColumns": null
       },
       "removedWidgets": [],
       "schema": [
        {
         "metadata": "{\"comment\":\"name of the column\"}",
         "name": "col_name",
         "type": "\"string\""
        },
        {
         "metadata": "{\"comment\":\"data type of the column\"}",
         "name": "data_type",
         "type": "\"string\""
        },
        {
         "metadata": "{\"comment\":\"comment of the column\"}",
         "name": "comment",
         "type": "\"string\""
        }
       ],
       "type": "table"
      }
     },
     "output_type": "display_data"
    }
   ],
   "source": [
    "%sql\n",
    "DESCRIBE investors_csv;"
   ]
  },
  {
   "cell_type": "code",
   "execution_count": 0,
   "metadata": {
    "application/vnd.databricks.v1+cell": {
     "cellMetadata": {
      "byteLimit": 2048000,
      "implicitDf": true,
      "rowLimit": 10000
     },
     "inputWidgets": {},
     "nuid": "6fb78a4f-8209-4116-949e-6ef21d910635",
     "showTitle": false,
     "title": ""
    }
   },
   "outputs": [
    {
     "output_type": "display_data",
     "data": {
      "text/html": [
       "<style scoped>\n",
       "  .table-result-container {\n",
       "    max-height: 300px;\n",
       "    overflow: auto;\n",
       "  }\n",
       "  table, th, td {\n",
       "    border: 1px solid black;\n",
       "    border-collapse: collapse;\n",
       "  }\n",
       "  th, td {\n",
       "    padding: 5px;\n",
       "  }\n",
       "  th {\n",
       "    text-align: left;\n",
       "  }\n",
       "</style><div class='table-result-container'><table class='table-result'><thead style='background-color: white'><tr><th>InvestorID</th><th>Name</th><th>InvestmentAmount</th><th>InvestmentDate</th></tr></thead><tbody><tr><td>1</td><td>John Doe</td><td>5000000</td><td>2022-01-15</td></tr><tr><td>2</td><td>Jane Smith</td><td>3000000</td><td>2022-03-22</td></tr><tr><td>3</td><td>Acme Corp</td><td>10000000</td><td>2023-06-18</td></tr><tr><td>4</td><td>Global Investments</td><td>2500000</td><td>2023-09-10</td></tr><tr><td>5</td><td>ABC Ventures</td><td>4000000</td><td>2023-01-25</td></tr><tr><td>6</td><td>XYZ Holdings</td><td>6000000</td><td>2023-02-20</td></tr><tr><td>7</td><td>Tech Giants Inc</td><td>7500000</td><td>2023-03-15</td></tr><tr><td>8</td><td>Future Finance</td><td>2000000</td><td>2023-04-01</td></tr><tr><td>9</td><td>Green Energy Fund</td><td>3500000</td><td>2023-05-30</td></tr><tr><td>10</td><td>Smart Investments</td><td>4500000</td><td>2023-07-05</td></tr></tbody></table></div>"
      ]
     },
     "metadata": {
      "application/vnd.databricks.v1+output": {
       "addedWidgets": {},
       "aggData": [],
       "aggError": "",
       "aggOverflow": false,
       "aggSchema": [],
       "aggSeriesLimitReached": false,
       "aggType": "",
       "arguments": {},
       "columnCustomDisplayInfos": {},
       "data": [
        [
         1,
         "John Doe",
         5000000,
         "2022-01-15"
        ],
        [
         2,
         "Jane Smith",
         3000000,
         "2022-03-22"
        ],
        [
         3,
         "Acme Corp",
         10000000,
         "2023-06-18"
        ],
        [
         4,
         "Global Investments",
         2500000,
         "2023-09-10"
        ],
        [
         5,
         "ABC Ventures",
         4000000,
         "2023-01-25"
        ],
        [
         6,
         "XYZ Holdings",
         6000000,
         "2023-02-20"
        ],
        [
         7,
         "Tech Giants Inc",
         7500000,
         "2023-03-15"
        ],
        [
         8,
         "Future Finance",
         2000000,
         "2023-04-01"
        ],
        [
         9,
         "Green Energy Fund",
         3500000,
         "2023-05-30"
        ],
        [
         10,
         "Smart Investments",
         4500000,
         "2023-07-05"
        ]
       ],
       "datasetInfos": [],
       "dbfsResultPath": null,
       "isJsonSchema": true,
       "metadata": {},
       "overflow": false,
       "plotOptions": {
        "customPlotOptions": {},
        "displayType": "table",
        "pivotAggregation": null,
        "pivotColumns": null,
        "xColumns": null,
        "yColumns": null
       },
       "removedWidgets": [],
       "schema": [
        {
         "metadata": "{}",
         "name": "InvestorID",
         "type": "\"integer\""
        },
        {
         "metadata": "{}",
         "name": "Name",
         "type": "\"string\""
        },
        {
         "metadata": "{}",
         "name": "InvestmentAmount",
         "type": "\"integer\""
        },
        {
         "metadata": "{\"__detected_date_formats\":\"yyyy-M-d\"}",
         "name": "InvestmentDate",
         "type": "\"date\""
        }
       ],
       "type": "table"
      }
     },
     "output_type": "display_data"
    }
   ],
   "source": [
    "%sql\n",
    "SELECT * FROM investors_csv LIMIT 10;"
   ]
  },
  {
   "cell_type": "code",
   "execution_count": 0,
   "metadata": {
    "application/vnd.databricks.v1+cell": {
     "cellMetadata": {
      "byteLimit": 2048000,
      "implicitDf": true,
      "rowLimit": 10000
     },
     "inputWidgets": {},
     "nuid": "8d15b33c-8dd6-4f38-8427-b748566fac00",
     "showTitle": false,
     "title": ""
    }
   },
   "outputs": [
    {
     "output_type": "display_data",
     "data": {
      "text/html": [
       "<style scoped>\n",
       "  .table-result-container {\n",
       "    max-height: 300px;\n",
       "    overflow: auto;\n",
       "  }\n",
       "  table, th, td {\n",
       "    border: 1px solid black;\n",
       "    border-collapse: collapse;\n",
       "  }\n",
       "  th, td {\n",
       "    padding: 5px;\n",
       "  }\n",
       "  th {\n",
       "    text-align: left;\n",
       "  }\n",
       "</style><div class='table-result-container'><table class='table-result'><thead style='background-color: white'><tr><th>col_name</th><th>data_type</th><th>comment</th></tr></thead><tbody><tr><td>ManagerID</td><td>int</td><td>null</td></tr><tr><td>Name</td><td>string</td><td>null</td></tr><tr><td>StartDate</td><td>date</td><td>null</td></tr><tr><td>EndDate</td><td>string</td><td>null</td></tr></tbody></table></div>"
      ]
     },
     "metadata": {
      "application/vnd.databricks.v1+output": {
       "addedWidgets": {},
       "aggData": [],
       "aggError": "",
       "aggOverflow": false,
       "aggSchema": [],
       "aggSeriesLimitReached": false,
       "aggType": "",
       "arguments": {},
       "columnCustomDisplayInfos": {},
       "data": [
        [
         "ManagerID",
         "int",
         null
        ],
        [
         "Name",
         "string",
         null
        ],
        [
         "StartDate",
         "date",
         null
        ],
        [
         "EndDate",
         "string",
         null
        ]
       ],
       "datasetInfos": [],
       "dbfsResultPath": null,
       "isJsonSchema": true,
       "metadata": {},
       "overflow": false,
       "plotOptions": {
        "customPlotOptions": {},
        "displayType": "table",
        "pivotAggregation": null,
        "pivotColumns": null,
        "xColumns": null,
        "yColumns": null
       },
       "removedWidgets": [],
       "schema": [
        {
         "metadata": "{\"comment\":\"name of the column\"}",
         "name": "col_name",
         "type": "\"string\""
        },
        {
         "metadata": "{\"comment\":\"data type of the column\"}",
         "name": "data_type",
         "type": "\"string\""
        },
        {
         "metadata": "{\"comment\":\"comment of the column\"}",
         "name": "comment",
         "type": "\"string\""
        }
       ],
       "type": "table"
      }
     },
     "output_type": "display_data"
    }
   ],
   "source": [
    "%sql\n",
    "\n",
    "DESCRIBE managers_csv;"
   ]
  },
  {
   "cell_type": "code",
   "execution_count": 0,
   "metadata": {
    "application/vnd.databricks.v1+cell": {
     "cellMetadata": {
      "byteLimit": 2048000,
      "implicitDf": true,
      "rowLimit": 10000
     },
     "inputWidgets": {},
     "nuid": "3965ef52-45dc-44d3-840e-4458a3948365",
     "showTitle": false,
     "title": ""
    }
   },
   "outputs": [
    {
     "output_type": "display_data",
     "data": {
      "text/html": [
       "<style scoped>\n",
       "  .table-result-container {\n",
       "    max-height: 300px;\n",
       "    overflow: auto;\n",
       "  }\n",
       "  table, th, td {\n",
       "    border: 1px solid black;\n",
       "    border-collapse: collapse;\n",
       "  }\n",
       "  th, td {\n",
       "    padding: 5px;\n",
       "  }\n",
       "  th {\n",
       "    text-align: left;\n",
       "  }\n",
       "</style><div class='table-result-container'><table class='table-result'><thead style='background-color: white'><tr><th>ManagerID</th><th>Name</th><th>StartDate</th><th>EndDate</th></tr></thead><tbody><tr><td>1</td><td>Frank Lampard</td><td>2020-01-01</td><td>2021-06-30</td></tr><tr><td>2</td><td>Thomas Tuchel</td><td>2021-07-01</td><td>2022-09-05</td></tr><tr><td>3</td><td>Graham Potter</td><td>2022-09-06</td><td>2023-05-10</td></tr><tr><td>4</td><td>Pochettino</td><td>2023-05-11</td><td>Present</td></tr><tr><td>5</td><td>Antonio Conte</td><td>2019-01-01</td><td>2019-12-31</td></tr><tr><td>6</td><td>Jose Mourinho</td><td>2018-01-01</td><td>2018-12-31</td></tr><tr><td>7</td><td>Carlo Ancelotti</td><td>2017-01-01</td><td>2017-12-31</td></tr><tr><td>8</td><td>Roberto Di Matteo</td><td>2012-03-01</td><td>2012-05-19</td></tr><tr><td>9</td><td>Andre Villas-Boas</td><td>2011-07-01</td><td>2012-03-04</td></tr><tr><td>10</td><td>Guus Hiddink</td><td>2009-02-02</td><td>2009-05-29</td></tr></tbody></table></div>"
      ]
     },
     "metadata": {
      "application/vnd.databricks.v1+output": {
       "addedWidgets": {},
       "aggData": [],
       "aggError": "",
       "aggOverflow": false,
       "aggSchema": [],
       "aggSeriesLimitReached": false,
       "aggType": "",
       "arguments": {},
       "columnCustomDisplayInfos": {},
       "data": [
        [
         1,
         "Frank Lampard",
         "2020-01-01",
         "2021-06-30"
        ],
        [
         2,
         "Thomas Tuchel",
         "2021-07-01",
         "2022-09-05"
        ],
        [
         3,
         "Graham Potter",
         "2022-09-06",
         "2023-05-10"
        ],
        [
         4,
         "Pochettino",
         "2023-05-11",
         "Present"
        ],
        [
         5,
         "Antonio Conte",
         "2019-01-01",
         "2019-12-31"
        ],
        [
         6,
         "Jose Mourinho",
         "2018-01-01",
         "2018-12-31"
        ],
        [
         7,
         "Carlo Ancelotti",
         "2017-01-01",
         "2017-12-31"
        ],
        [
         8,
         "Roberto Di Matteo",
         "2012-03-01",
         "2012-05-19"
        ],
        [
         9,
         "Andre Villas-Boas",
         "2011-07-01",
         "2012-03-04"
        ],
        [
         10,
         "Guus Hiddink",
         "2009-02-02",
         "2009-05-29"
        ]
       ],
       "datasetInfos": [],
       "dbfsResultPath": null,
       "isJsonSchema": true,
       "metadata": {},
       "overflow": false,
       "plotOptions": {
        "customPlotOptions": {},
        "displayType": "table",
        "pivotAggregation": null,
        "pivotColumns": null,
        "xColumns": null,
        "yColumns": null
       },
       "removedWidgets": [],
       "schema": [
        {
         "metadata": "{}",
         "name": "ManagerID",
         "type": "\"integer\""
        },
        {
         "metadata": "{}",
         "name": "Name",
         "type": "\"string\""
        },
        {
         "metadata": "{\"__detected_date_formats\":\"yyyy-M-d\"}",
         "name": "StartDate",
         "type": "\"date\""
        },
        {
         "metadata": "{}",
         "name": "EndDate",
         "type": "\"string\""
        }
       ],
       "type": "table"
      }
     },
     "output_type": "display_data"
    }
   ],
   "source": [
    "%sql\n",
    "\n",
    "SELECT * FROM managers_csv LIMIT 10;"
   ]
  },
  {
   "cell_type": "code",
   "execution_count": 0,
   "metadata": {
    "application/vnd.databricks.v1+cell": {
     "cellMetadata": {
      "byteLimit": 2048000,
      "implicitDf": true,
      "rowLimit": 10000
     },
     "inputWidgets": {},
     "nuid": "fa66a67a-6cb6-471b-9523-787114bb4bb2",
     "showTitle": false,
     "title": ""
    }
   },
   "outputs": [
    {
     "output_type": "display_data",
     "data": {
      "text/html": [
       "<style scoped>\n",
       "  .table-result-container {\n",
       "    max-height: 300px;\n",
       "    overflow: auto;\n",
       "  }\n",
       "  table, th, td {\n",
       "    border: 1px solid black;\n",
       "    border-collapse: collapse;\n",
       "  }\n",
       "  th, td {\n",
       "    padding: 5px;\n",
       "  }\n",
       "  th {\n",
       "    text-align: left;\n",
       "  }\n",
       "</style><div class='table-result-container'><table class='table-result'><thead style='background-color: white'><tr><th>col_name</th><th>data_type</th><th>comment</th></tr></thead><tbody><tr><td>PlayerID</td><td>int</td><td>null</td></tr><tr><td>Name</td><td>string</td><td>null</td></tr><tr><td>Position</td><td>string</td><td>null</td></tr><tr><td>Nationality</td><td>string</td><td>null</td></tr><tr><td>Age</td><td>int</td><td>null</td></tr><tr><td>Appearances</td><td>int</td><td>null</td></tr><tr><td>Goals</td><td>int</td><td>null</td></tr><tr><td>Assists</td><td>int</td><td>null</td></tr></tbody></table></div>"
      ]
     },
     "metadata": {
      "application/vnd.databricks.v1+output": {
       "addedWidgets": {},
       "aggData": [],
       "aggError": "",
       "aggOverflow": false,
       "aggSchema": [],
       "aggSeriesLimitReached": false,
       "aggType": "",
       "arguments": {},
       "columnCustomDisplayInfos": {},
       "data": [
        [
         "PlayerID",
         "int",
         null
        ],
        [
         "Name",
         "string",
         null
        ],
        [
         "Position",
         "string",
         null
        ],
        [
         "Nationality",
         "string",
         null
        ],
        [
         "Age",
         "int",
         null
        ],
        [
         "Appearances",
         "int",
         null
        ],
        [
         "Goals",
         "int",
         null
        ],
        [
         "Assists",
         "int",
         null
        ]
       ],
       "datasetInfos": [],
       "dbfsResultPath": null,
       "isJsonSchema": true,
       "metadata": {},
       "overflow": false,
       "plotOptions": {
        "customPlotOptions": {},
        "displayType": "table",
        "pivotAggregation": null,
        "pivotColumns": null,
        "xColumns": null,
        "yColumns": null
       },
       "removedWidgets": [],
       "schema": [
        {
         "metadata": "{\"comment\":\"name of the column\"}",
         "name": "col_name",
         "type": "\"string\""
        },
        {
         "metadata": "{\"comment\":\"data type of the column\"}",
         "name": "data_type",
         "type": "\"string\""
        },
        {
         "metadata": "{\"comment\":\"comment of the column\"}",
         "name": "comment",
         "type": "\"string\""
        }
       ],
       "type": "table"
      }
     },
     "output_type": "display_data"
    }
   ],
   "source": [
    "%sql\n",
    "DESCRIBE players_csv_1_txt;"
   ]
  },
  {
   "cell_type": "code",
   "execution_count": 0,
   "metadata": {
    "application/vnd.databricks.v1+cell": {
     "cellMetadata": {
      "byteLimit": 2048000,
      "implicitDf": true,
      "rowLimit": 10000
     },
     "inputWidgets": {},
     "nuid": "3810d463-4cda-4c61-8b97-23ab67960fe2",
     "showTitle": false,
     "title": ""
    }
   },
   "outputs": [
    {
     "output_type": "display_data",
     "data": {
      "text/html": [
       "<style scoped>\n",
       "  .table-result-container {\n",
       "    max-height: 300px;\n",
       "    overflow: auto;\n",
       "  }\n",
       "  table, th, td {\n",
       "    border: 1px solid black;\n",
       "    border-collapse: collapse;\n",
       "  }\n",
       "  th, td {\n",
       "    padding: 5px;\n",
       "  }\n",
       "  th {\n",
       "    text-align: left;\n",
       "  }\n",
       "</style><div class='table-result-container'><table class='table-result'><thead style='background-color: white'><tr><th>PlayerID</th><th>Name</th><th>Position</th><th>Nationality</th><th>Age</th><th>Appearances</th><th>Goals</th><th>Assists</th></tr></thead><tbody><tr><td>1</td><td>Kepa Arrizabalaga</td><td>Goalkeeper</td><td>Spain</td><td>29</td><td>20</td><td>0</td><td>0</td></tr><tr><td>2</td><td>Thiago Silva</td><td>Defender</td><td>Brazil</td><td>39</td><td>28</td><td>2</td><td>1</td></tr><tr><td>3</td><td>Reece James</td><td>Defender</td><td>England</td><td>24</td><td>25</td><td>3</td><td>5</td></tr><tr><td>4</td><td>Ben Chilwell</td><td>Defender</td><td>England</td><td>27</td><td>22</td><td>2</td><td>3</td></tr><tr><td>5</td><td>Enzo Fernández</td><td>Midfielder</td><td>Argentina</td><td>23</td><td>30</td><td>5</td><td>7</td></tr><tr><td>6</td><td>Raheem Sterling</td><td>Forward</td><td>England</td><td>29</td><td>26</td><td>10</td><td>4</td></tr><tr><td>7</td><td>Nicholas Jackson</td><td>Forward</td><td>Senegal</td><td>22</td><td>24</td><td>8</td><td>6</td></tr></tbody></table></div>"
      ]
     },
     "metadata": {
      "application/vnd.databricks.v1+output": {
       "addedWidgets": {},
       "aggData": [],
       "aggError": "",
       "aggOverflow": false,
       "aggSchema": [],
       "aggSeriesLimitReached": false,
       "aggType": "",
       "arguments": {},
       "columnCustomDisplayInfos": {},
       "data": [
        [
         1,
         "Kepa Arrizabalaga",
         "Goalkeeper",
         "Spain",
         29,
         20,
         0,
         0
        ],
        [
         2,
         "Thiago Silva",
         "Defender",
         "Brazil",
         39,
         28,
         2,
         1
        ],
        [
         3,
         "Reece James",
         "Defender",
         "England",
         24,
         25,
         3,
         5
        ],
        [
         4,
         "Ben Chilwell",
         "Defender",
         "England",
         27,
         22,
         2,
         3
        ],
        [
         5,
         "Enzo Fernández",
         "Midfielder",
         "Argentina",
         23,
         30,
         5,
         7
        ],
        [
         6,
         "Raheem Sterling",
         "Forward",
         "England",
         29,
         26,
         10,
         4
        ],
        [
         7,
         "Nicholas Jackson",
         "Forward",
         "Senegal",
         22,
         24,
         8,
         6
        ]
       ],
       "datasetInfos": [],
       "dbfsResultPath": null,
       "isJsonSchema": true,
       "metadata": {},
       "overflow": false,
       "plotOptions": {
        "customPlotOptions": {},
        "displayType": "table",
        "pivotAggregation": null,
        "pivotColumns": null,
        "xColumns": null,
        "yColumns": null
       },
       "removedWidgets": [],
       "schema": [
        {
         "metadata": "{}",
         "name": "PlayerID",
         "type": "\"integer\""
        },
        {
         "metadata": "{}",
         "name": "Name",
         "type": "\"string\""
        },
        {
         "metadata": "{}",
         "name": "Position",
         "type": "\"string\""
        },
        {
         "metadata": "{}",
         "name": "Nationality",
         "type": "\"string\""
        },
        {
         "metadata": "{}",
         "name": "Age",
         "type": "\"integer\""
        },
        {
         "metadata": "{}",
         "name": "Appearances",
         "type": "\"integer\""
        },
        {
         "metadata": "{}",
         "name": "Goals",
         "type": "\"integer\""
        },
        {
         "metadata": "{}",
         "name": "Assists",
         "type": "\"integer\""
        }
       ],
       "type": "table"
      }
     },
     "output_type": "display_data"
    }
   ],
   "source": [
    "%sql\n",
    "\n",
    "SELECT * FROM players_csv_1_txt LIMIT 10;\n"
   ]
  },
  {
   "cell_type": "markdown",
   "metadata": {
    "application/vnd.databricks.v1+cell": {
     "cellMetadata": {},
     "inputWidgets": {},
     "nuid": "12f0c2d4-b7d5-420f-a32d-59fd73bf7466",
     "showTitle": false,
     "title": ""
    }
   },
   "source": [
    "2. Data Analysis and Visualization\n",
    "Aggregate and Analyze Data:\n",
    "\n",
    "Example: Calculate total goals by player"
   ]
  },
  {
   "cell_type": "code",
   "execution_count": 0,
   "metadata": {
    "application/vnd.databricks.v1+cell": {
     "cellMetadata": {
      "byteLimit": 2048000,
      "implicitDf": true,
      "rowLimit": 10000
     },
     "inputWidgets": {},
     "nuid": "e322dfe0-0fb6-42b9-84e7-10b979a4a343",
     "showTitle": false,
     "title": ""
    }
   },
   "outputs": [
    {
     "output_type": "display_data",
     "data": {
      "text/html": [
       "<style scoped>\n",
       "  .table-result-container {\n",
       "    max-height: 300px;\n",
       "    overflow: auto;\n",
       "  }\n",
       "  table, th, td {\n",
       "    border: 1px solid black;\n",
       "    border-collapse: collapse;\n",
       "  }\n",
       "  th, td {\n",
       "    padding: 5px;\n",
       "  }\n",
       "  th {\n",
       "    text-align: left;\n",
       "  }\n",
       "</style><div class='table-result-container'><table class='table-result'><thead style='background-color: white'><tr><th>PlayerName</th><th>TotalGoals</th></tr></thead><tbody><tr><td>N’Golo Kanté</td><td>6</td></tr><tr><td>Marcus Rashford</td><td>6</td></tr><tr><td>Edouard Mendy</td><td>5</td></tr><tr><td>Raheem Sterling</td><td>4</td></tr><tr><td>Virgil van Dijk</td><td>4</td></tr><tr><td>Sergio Ramos</td><td>4</td></tr><tr><td>Paul Pogba</td><td>4</td></tr><tr><td>Christian Pulisic</td><td>4</td></tr><tr><td>Ben Chilwell</td><td>3</td></tr><tr><td>Bruno Fernandes</td><td>3</td></tr><tr><td>Enzo Fernández</td><td>2</td></tr><tr><td>Kepa Arrizabalaga</td><td>2</td></tr><tr><td>Kalidou Koulibaly</td><td>2</td></tr><tr><td>Riyad Mahrez</td><td>2</td></tr><tr><td>Jadon Sancho</td><td>2</td></tr><tr><td>Thiago Silva</td><td>1</td></tr><tr><td>Joshua Kimmich</td><td>1</td></tr><tr><td>Manuel Neuer</td><td>1</td></tr><tr><td>Reece James</td><td>0</td></tr></tbody></table></div>"
      ]
     },
     "metadata": {
      "application/vnd.databricks.v1+output": {
       "addedWidgets": {},
       "aggData": [],
       "aggError": "",
       "aggOverflow": false,
       "aggSchema": [],
       "aggSeriesLimitReached": false,
       "aggType": "",
       "arguments": {},
       "columnCustomDisplayInfos": {},
       "data": [
        [
         "N’Golo Kanté",
         6
        ],
        [
         "Marcus Rashford",
         6
        ],
        [
         "Edouard Mendy",
         5
        ],
        [
         "Raheem Sterling",
         4
        ],
        [
         "Virgil van Dijk",
         4
        ],
        [
         "Sergio Ramos",
         4
        ],
        [
         "Paul Pogba",
         4
        ],
        [
         "Christian Pulisic",
         4
        ],
        [
         "Ben Chilwell",
         3
        ],
        [
         "Bruno Fernandes",
         3
        ],
        [
         "Enzo Fernández",
         2
        ],
        [
         "Kepa Arrizabalaga",
         2
        ],
        [
         "Kalidou Koulibaly",
         2
        ],
        [
         "Riyad Mahrez",
         2
        ],
        [
         "Jadon Sancho",
         2
        ],
        [
         "Thiago Silva",
         1
        ],
        [
         "Joshua Kimmich",
         1
        ],
        [
         "Manuel Neuer",
         1
        ],
        [
         "Reece James",
         0
        ]
       ],
       "datasetInfos": [],
       "dbfsResultPath": null,
       "isJsonSchema": true,
       "metadata": {},
       "overflow": false,
       "plotOptions": {
        "customPlotOptions": {},
        "displayType": "table",
        "pivotAggregation": null,
        "pivotColumns": null,
        "xColumns": null,
        "yColumns": null
       },
       "removedWidgets": [],
       "schema": [
        {
         "metadata": "{}",
         "name": "PlayerName",
         "type": "\"string\""
        },
        {
         "metadata": "{}",
         "name": "TotalGoals",
         "type": "\"long\""
        }
       ],
       "type": "table"
      }
     },
     "output_type": "display_data"
    }
   ],
   "source": [
    "%sql\n",
    "SELECT p.Name AS PlayerName, SUM(m.GoalsScored) AS TotalGoals\n",
    "FROM matches_csv m\n",
    "JOIN players_csv p ON m.PlayerID = p.PlayerID\n",
    "GROUP BY p.Name\n",
    "ORDER BY TotalGoals DESC;\n"
   ]
  },
  {
   "cell_type": "markdown",
   "metadata": {
    "application/vnd.databricks.v1+cell": {
     "cellMetadata": {},
     "inputWidgets": {},
     "nuid": "9b9fcd90-0483-4eda-ae98-364d223ee044",
     "showTitle": false,
     "title": ""
    }
   },
   "source": [
    "Visualize Data:\n",
    "\n",
    "Use tools like Matplotlib, Seaborn, Tableau, or Power BI to create charts and dashboards."
   ]
  },
  {
   "cell_type": "markdown",
   "metadata": {
    "application/vnd.databricks.v1+cell": {
     "cellMetadata": {},
     "inputWidgets": {},
     "nuid": "69473ea0-be75-4e82-812f-6eb4d1e0d95d",
     "showTitle": false,
     "title": ""
    }
   },
   "source": [
    "3. Data Modeling\n",
    "Create Fact and Dimension Tables:\n",
    "Example Fact Table:"
   ]
  },
  {
   "cell_type": "code",
   "execution_count": 0,
   "metadata": {
    "application/vnd.databricks.v1+cell": {
     "cellMetadata": {
      "byteLimit": 2048000,
      "implicitDf": true,
      "rowLimit": 10000
     },
     "inputWidgets": {},
     "nuid": "94239267-205d-4799-951e-0322b76e4cf0",
     "showTitle": false,
     "title": ""
    }
   },
   "outputs": [
    {
     "output_type": "display_data",
     "data": {
      "text/html": [
       "<style scoped>\n",
       "  .table-result-container {\n",
       "    max-height: 300px;\n",
       "    overflow: auto;\n",
       "  }\n",
       "  table, th, td {\n",
       "    border: 1px solid black;\n",
       "    border-collapse: collapse;\n",
       "  }\n",
       "  th, td {\n",
       "    padding: 5px;\n",
       "  }\n",
       "  th {\n",
       "    text-align: left;\n",
       "  }\n",
       "</style><div class='table-result-container'><table class='table-result'><thead style='background-color: white'><tr></tr></thead><tbody></tbody></table></div>"
      ]
     },
     "metadata": {
      "application/vnd.databricks.v1+output": {
       "addedWidgets": {},
       "aggData": [],
       "aggError": "",
       "aggOverflow": false,
       "aggSchema": [],
       "aggSeriesLimitReached": false,
       "aggType": "",
       "arguments": {},
       "columnCustomDisplayInfos": {},
       "data": [],
       "datasetInfos": [],
       "dbfsResultPath": null,
       "isJsonSchema": true,
       "metadata": {},
       "overflow": false,
       "plotOptions": {
        "customPlotOptions": {},
        "displayType": "table",
        "pivotAggregation": null,
        "pivotColumns": null,
        "xColumns": null,
        "yColumns": null
       },
       "removedWidgets": [],
       "schema": [],
       "type": "table"
      }
     },
     "output_type": "display_data"
    }
   ],
   "source": [
    "%sql\n",
    "CREATE TABLE fct_match_performance (\n",
    "    MatchID INT,\n",
    "    Date DATE,\n",
    "    GoalsScored INT,\n",
    "    GoalsConceded INT,\n",
    "    PlayerID INT\n",
    ");\n"
   ]
  },
  {
   "cell_type": "markdown",
   "metadata": {
    "application/vnd.databricks.v1+cell": {
     "cellMetadata": {},
     "inputWidgets": {},
     "nuid": "3801ae3a-7f36-43ea-a2ca-c86733a5740c",
     "showTitle": false,
     "title": ""
    }
   },
   "source": [
    "Example Dimension Table:"
   ]
  },
  {
   "cell_type": "code",
   "execution_count": 0,
   "metadata": {
    "application/vnd.databricks.v1+cell": {
     "cellMetadata": {
      "byteLimit": 2048000,
      "implicitDf": true,
      "rowLimit": 10000
     },
     "inputWidgets": {},
     "nuid": "b0f7f405-7816-4871-97cc-883e0d4aae52",
     "showTitle": false,
     "title": ""
    }
   },
   "outputs": [
    {
     "output_type": "display_data",
     "data": {
      "text/html": [
       "<style scoped>\n",
       "  .table-result-container {\n",
       "    max-height: 300px;\n",
       "    overflow: auto;\n",
       "  }\n",
       "  table, th, td {\n",
       "    border: 1px solid black;\n",
       "    border-collapse: collapse;\n",
       "  }\n",
       "  th, td {\n",
       "    padding: 5px;\n",
       "  }\n",
       "  th {\n",
       "    text-align: left;\n",
       "  }\n",
       "</style><div class='table-result-container'><table class='table-result'><thead style='background-color: white'><tr></tr></thead><tbody></tbody></table></div>"
      ]
     },
     "metadata": {
      "application/vnd.databricks.v1+output": {
       "addedWidgets": {},
       "aggData": [],
       "aggError": "",
       "aggOverflow": false,
       "aggSchema": [],
       "aggSeriesLimitReached": false,
       "aggType": "",
       "arguments": {},
       "columnCustomDisplayInfos": {},
       "data": [],
       "datasetInfos": [],
       "dbfsResultPath": null,
       "isJsonSchema": true,
       "metadata": {},
       "overflow": false,
       "plotOptions": {
        "customPlotOptions": {},
        "displayType": "table",
        "pivotAggregation": null,
        "pivotColumns": null,
        "xColumns": null,
        "yColumns": null
       },
       "removedWidgets": [],
       "schema": [],
       "type": "table"
      }
     },
     "output_type": "display_data"
    }
   ],
   "source": [
    "%sql\n",
    "CREATE TABLE dim_player (\n",
    "    PlayerID INT,\n",
    "    Name STRING,\n",
    "    Position STRING,\n",
    "    Nationality STRING,\n",
    "    Age INT\n",
    ");\n"
   ]
  },
  {
   "cell_type": "markdown",
   "metadata": {
    "application/vnd.databricks.v1+cell": {
     "cellMetadata": {},
     "inputWidgets": {},
     "nuid": "11267dfb-587e-4686-bdea-844400ca7800",
     "showTitle": false,
     "title": ""
    }
   },
   "source": [
    "4. Procedures and Scheduling\n",
    "Create Procedures:\n",
    "\n",
    "Example:\n",
    "sql\n",
    "Copy code\n",
    "CREATE PROCEDURE load_match_data()\n",
    "BEGIN\n",
    "    -- SQL to load data\n",
    "END;\n",
    "Schedule Jobs:\n",
    "\n",
    "Use cron jobs or Task Scheduler to automate data loading and other tasks.\n",
    "5. Monitoring and Alerts\n",
    "Create Monitoring Scripts:\n",
    "\n",
    "Use Python with libraries like psutil for system monitoring and SQL for database performance.\n",
    "Send Alerts:\n",
    "\n",
    "Use Python scripts or database procedures to send email alerts based on certain conditions.\n",
    "6. Reporting\n",
    "Create Complex Queries:\n",
    "\n",
    "Example:\n",
    "sql\n",
    "Copy code\n",
    "SELECT p.Name AS PlayerName, m.Date, m.GoalsScored\n",
    "FROM matches_csv m\n",
    "JOIN players_csv p ON m.PlayerID = p.PlayerID\n",
    "WHERE m.Date BETWEEN '2024-01-01' AND '2024-12-31';\n",
    "Generate Reports:\n",
    "\n",
    "Use Tableau, Power BI, or custom scripts to generate and share reports.\n",
    "Feel free to dive into any of these areas based on your priorities and let me know if you need help with specific tasks or queries!"
   ]
  },
  {
   "cell_type": "code",
   "execution_count": 0,
   "metadata": {
    "application/vnd.databricks.v1+cell": {
     "cellMetadata": {},
     "inputWidgets": {},
     "nuid": "6daee3e5-3c80-454d-b7ab-4e1b4f13b78f",
     "showTitle": false,
     "title": ""
    }
   },
   "outputs": [],
   "source": []
  },
  {
   "cell_type": "markdown",
   "metadata": {
    "application/vnd.databricks.v1+cell": {
     "cellMetadata": {},
     "inputWidgets": {},
     "nuid": "efc8229c-7b69-4703-bfe0-c200b4756460",
     "showTitle": false,
     "title": ""
    }
   },
   "source": []
  }
 ],
 "metadata": {
  "application/vnd.databricks.v1+notebook": {
   "dashboards": [],
   "environmentMetadata": null,
   "language": "python",
   "notebookMetadata": {
    "mostRecentlyExecutedCommandWithImplicitDF": {
     "commandId": 662921004735998,
     "dataframes": [
      "_sqldf"
     ]
    },
    "pythonIndentUnit": 4
   },
   "notebookName": "Chelsea Football Club",
   "widgets": {}
  }
 },
 "nbformat": 4,
 "nbformat_minor": 0
}
